{
 "cells": [
  {
   "cell_type": "markdown",
   "id": "854994ac",
   "metadata": {
    "colab_type": "text",
    "id": "view-in-github"
   },
   "source": [
    "<a href=\"https://colab.research.google.com/github/fco-parga/MNA-2023-September_Advanced_Machine_Learning_Methods/blob/activity_3b/Activity%203b%20-%20Text%20Classification%20using%20RNNs%20and%20AG_NEWS%20dataset%20in%20PyTorch/TC5033_Activity3b_ID18.ipynb\" target=\"_parent\"><img src=\"https://colab.research.google.com/assets/colab-badge.svg\" alt=\"Open In Colab\"/></a>"
   ]
  },
  {
   "cell_type": "markdown",
   "id": "940c6dbc",
   "metadata": {
    "id": "940c6dbc"
   },
   "source": [
    "## TC 5033\n",
    "### Word Embeddings\n",
    "\n",
    "<br>\n",
    "\n",
    "#### Activity 3b: Text Classification using RNNs and AG_NEWS dataset in PyTorch\n",
    "<br>\n",
    "\n",
    "- Objective:\n",
    "    - Understand the basics of Recurrent Neural Networks (RNNs) and their application in text classification.\n",
    "    - Learn how to handle a real-world text dataset, AG_NEWS, in PyTorch.\n",
    "    - Gain hands-on experience in defining, training, and evaluating a text classification model in PyTorch.\n",
    "    \n",
    "<br>\n",
    "\n",
    "- Instructions:\n",
    "    - Data Preparation: Starter code will be provided that loads the AG_NEWS dataset and prepares it for training. Do not modify this part. However, you should be sure to understand it, and comment it, the use of markdown cells is suggested.\n",
    "\n",
    "    - Model Setup: A skeleton code for the RNN model class will be provided. Complete this class and use it to instantiate your model.\n",
    "\n",
    "    - Implementing Accuracy Function: Write a function that takes model predictions and ground truth labels as input and returns the model's accuracy.\n",
    "\n",
    "    - Training Function: Implement a function that performs training on the given model using the AG_NEWS dataset. Your model should achieve an accuracy of at least 80% to get full marks for this part.\n",
    "\n",
    "    - Text Sampling: Write a function that takes a sample text as input and classifies it using your trained model.\n",
    "\n",
    "    - Confusion Matrix: Implement a function to display the confusion matrix for your model on the test data.\n",
    "\n",
    "    - Submission: Submit your completed Jupyter Notebook. Make sure to include a markdown cell at the beginning of the notebook that lists the names of all team members. Teams should consist of 3 to 4 members.\n",
    "    \n",
    "<br>\n",
    "\n",
    "- Evaluation Criteria:\n",
    "\n",
    "    - Correct setup of all the required libraries and modules (10%)\n",
    "    - Code Quality (30%): Your code should be well-organized, clearly commented, and easy to follow. Use also markdown cells for clarity. Comments should be given for all the provided code, this will help you understand its functionality.\n",
    "    \n",
    "   - Functionality (60%):\n",
    "        - All the functions should execute without errors and provide the expected outputs.\n",
    "        - RNN model class (20%)\n",
    "        - Accuracy fucntion (10%)\n",
    "        - Training function (10%)\n",
    "        - Sampling function (10%)\n",
    "        - Confucion matrix (10%)\n",
    "\n",
    "        - The model should achieve at least an 80% accuracy on the AG_NEWS test set for full marks in this criterion.\n"
   ]
  },
  {
   "cell_type": "markdown",
   "id": "4de318da",
   "metadata": {
    "id": "4de318da"
   },
   "source": [
    "Dataset\n",
    "\n",
    "https://pytorch.org/text/stable/datasets.html#text-classification\n",
    "\n",
    "https://paperswithcode.com/dataset/ag-news\n"
   ]
  },
  {
   "cell_type": "markdown",
   "metadata": {},
   "source": [
    "### Team members\n",
    "\n",
    "- Francisco Javier Parga García A01794380\n",
    "- Matthias Sibrian Illescas A01794249\n",
    "- Enrique Hernández García A01793727\n",
    "- Alejandro Tomás Mackey A01164338"
   ]
  },
  {
   "cell_type": "markdown",
   "id": "4a9801f9",
   "metadata": {
    "id": "4a9801f9"
   },
   "source": [
    "### Import libraries"
   ]
  },
  {
   "cell_type": "markdown",
   "metadata": {},
   "source": [
    "In this section, we will set up the Jupyter Notebook environment and install the required packages and dependencies."
   ]
  },
  {
   "cell_type": "code",
   "execution_count": 1,
   "id": "54394f53",
   "metadata": {
    "id": "54394f53"
   },
   "outputs": [],
   "source": [
    "# conda install -c pytorch torchtext\n",
    "# conda install -c pytorch torchdata\n",
    "# conda install pytorch torchvision torchaudio cudatoolkit=10.2 -c pytorch"
   ]
  },
  {
   "cell_type": "markdown",
   "metadata": {},
   "source": [
    "In addition to the previous package installations, we will also install the `scikit-plot` package."
   ]
  },
  {
   "cell_type": "code",
   "execution_count": 2,
   "id": "exy7xNkO07uO",
   "metadata": {
    "id": "exy7xNkO07uO"
   },
   "outputs": [],
   "source": [
    "#!pip install scikit-plot -q"
   ]
  },
  {
   "cell_type": "markdown",
   "metadata": {},
   "source": [
    "We will also install the `portalocker` package, which was needed to be included in the installation process."
   ]
  },
  {
   "cell_type": "code",
   "execution_count": 3,
   "id": "Zgiu9wuS1Sol",
   "metadata": {
    "id": "Zgiu9wuS1Sol"
   },
   "outputs": [],
   "source": [
    "#!pip install portalocker -q"
   ]
  },
  {
   "cell_type": "markdown",
   "metadata": {},
   "source": [
    "In this section, we list the essential libraries required to run the code. These libraries are necessary for data processing, machine learning, and visualization tasks."
   ]
  },
  {
   "cell_type": "code",
   "execution_count": 4,
   "id": "878b524f",
   "metadata": {
    "id": "878b524f"
   },
   "outputs": [],
   "source": [
    "# The following libraries are required for running the given code\n",
    "# Please feel free to add any libraries you consider adecuate to complete the assingment.\n",
    "import numpy as np\n",
    "#PyTorch libraries\n",
    "import torch\n",
    "from torchtext.datasets import AG_NEWS\n",
    "# Dataloader library\n",
    "from torch.utils.data import DataLoader\n",
    "from torch.utils.data.dataset import random_split\n",
    "# Libraries to prepare the data\n",
    "from torchtext.data.utils import get_tokenizer\n",
    "from torchtext.vocab import build_vocab_from_iterator\n",
    "from torchtext.data.functional import to_map_style_dataset\n",
    "# neural layers\n",
    "from torch import nn\n",
    "from torch.nn import functional as F\n",
    "\n",
    "# These libraries are suggested to plot confusion matrix\n",
    "# you may use others\n",
    "import scikitplot as skplt\n",
    "import gc"
   ]
  },
  {
   "cell_type": "markdown",
   "metadata": {},
   "source": [
    "We will determine and print the device that will be used for computation, based on the availability of a GPU. In this case, we had access to CUDA resources, which were used by PyTorch."
   ]
  },
  {
   "cell_type": "code",
   "execution_count": 5,
   "id": "3bab55f3",
   "metadata": {
    "colab": {
     "base_uri": "https://localhost:8080/"
    },
    "id": "3bab55f3",
    "outputId": "2862c4b8-6969-443e-d97b-752b78614b5f"
   },
   "outputs": [
    {
     "name": "stdout",
     "output_type": "stream",
     "text": [
      "cuda\n"
     ]
    }
   ],
   "source": [
    "# Use GPU if available\n",
    "device = torch.device(\"cuda\" if torch.cuda.is_available() else \"cpu\")\n",
    "print(device)"
   ]
  },
  {
   "cell_type": "markdown",
   "id": "3d38956d",
   "metadata": {
    "id": "3d38956d"
   },
   "source": [
    "### Get the train and the test datasets and dataloaders"
   ]
  },
  {
   "cell_type": "markdown",
   "metadata": {},
   "source": [
    "We will perform a conversion of class labels in the dataset so that the value '0' is considered as the first class label. Basically, we carried out a shift of the class labels."
   ]
  },
  {
   "cell_type": "markdown",
   "id": "e9c6b784",
   "metadata": {
    "id": "e9c6b784"
   },
   "source": [
    "Classes:\n",
    "\n",
    "* 1 - World\n",
    "\n",
    "* 2 - Sports\n",
    "\n",
    "* 3 - Business\n",
    "\n",
    "* 4 - Sci/Tech\n",
    "\n",
    "We will convert them to:\n",
    "\n",
    "* 0 - World\n",
    "\n",
    "* 1 - Sports\n",
    "\n",
    "* 2 - Business\n",
    "\n",
    "* 3 - Sci/Tech"
   ]
  },
  {
   "cell_type": "markdown",
   "metadata": {},
   "source": [
    "In this section, we load and prepare the AG_NEWS dataset for our analysis."
   ]
  },
  {
   "cell_type": "code",
   "execution_count": 6,
   "id": "49fbed19",
   "metadata": {
    "id": "49fbed19"
   },
   "outputs": [],
   "source": [
    "train_dataset, test_dataset = AG_NEWS()\n",
    "train_dataset, test_dataset = to_map_style_dataset(train_dataset), to_map_style_dataset(test_dataset)"
   ]
  },
  {
   "cell_type": "markdown",
   "metadata": {},
   "source": [
    "We will obtain a tokenizer object and define a function to yield tokens from the dataset."
   ]
  },
  {
   "cell_type": "code",
   "execution_count": 7,
   "id": "9c372eb9",
   "metadata": {
    "id": "9c372eb9"
   },
   "outputs": [],
   "source": [
    "# Get the tokeniser\n",
    "# tokeniser object\n",
    "tokeniser = get_tokenizer('basic_english')\n",
    "\n",
    "def yield_tokens(data):\n",
    "    for _, text in data:\n",
    "        yield tokeniser(text)"
   ]
  },
  {
   "cell_type": "markdown",
   "metadata": {},
   "source": [
    "Now, we built the vocabulary from the tokens in the training dataset."
   ]
  },
  {
   "cell_type": "code",
   "execution_count": 8,
   "id": "794d0375",
   "metadata": {
    "id": "794d0375"
   },
   "outputs": [],
   "source": [
    "# Build the vocabulary\n",
    "vocab = build_vocab_from_iterator(yield_tokens(train_dataset), specials=[\"<unk>\"])\n",
    "#set unknown token at position 0\n",
    "vocab.set_default_index(vocab[\"<unk>\"])"
   ]
  },
  {
   "cell_type": "markdown",
   "metadata": {},
   "source": [
    "Let's test the tokenization and vocabulary by processing a sample text. As seen on the output, we get as a result, a list of the tokenized phrase."
   ]
  },
  {
   "cell_type": "code",
   "execution_count": 9,
   "id": "b48268d4",
   "metadata": {
    "colab": {
     "base_uri": "https://localhost:8080/"
    },
    "id": "b48268d4",
    "outputId": "4fe93b7f-5ad2-4dee-99e4-69c9a8014774"
   },
   "outputs": [
    {
     "name": "stdout",
     "output_type": "stream",
     "text": [
      "['welcome', 'to', 'te3007'] [3314, 4, 0]\n"
     ]
    }
   ],
   "source": [
    "#test tokens\n",
    "tokens = tokeniser('Welcome to TE3007')\n",
    "print(tokens, vocab(tokens))"
   ]
  },
  {
   "cell_type": "markdown",
   "metadata": {},
   "source": [
    "We define constants to specify the training and validation dataset sizes. We reserve 10% of the dataset for validation."
   ]
  },
  {
   "cell_type": "code",
   "execution_count": 10,
   "id": "c8c8f6a6",
   "metadata": {
    "id": "c8c8f6a6"
   },
   "outputs": [],
   "source": [
    "NUM_TRAIN = int(len(train_dataset)*0.9)\n",
    "NUM_VAL = len(train_dataset) - NUM_TRAIN"
   ]
  },
  {
   "cell_type": "markdown",
   "metadata": {},
   "source": [
    "We split the training dataset into training and validation subsets to facilitate model training and evaluation."
   ]
  },
  {
   "cell_type": "code",
   "execution_count": 11,
   "id": "8290895e",
   "metadata": {
    "id": "8290895e"
   },
   "outputs": [],
   "source": [
    "train_dataset, val_dataset = random_split(train_dataset, [NUM_TRAIN, NUM_VAL])"
   ]
  },
  {
   "cell_type": "markdown",
   "metadata": {},
   "source": [
    "Let's print the sizes of the training, validation, and test datasets."
   ]
  },
  {
   "cell_type": "code",
   "execution_count": 12,
   "id": "cbc75b54",
   "metadata": {
    "colab": {
     "base_uri": "https://localhost:8080/"
    },
    "id": "cbc75b54",
    "outputId": "8df451a0-1564-4c22-be67-4cfe08388dad"
   },
   "outputs": [
    {
     "name": "stdout",
     "output_type": "stream",
     "text": [
      "108000 12000 7600\n"
     ]
    }
   ],
   "source": [
    "print(len(train_dataset), len(val_dataset), len(test_dataset))"
   ]
  },
  {
   "cell_type": "markdown",
   "metadata": {},
   "source": [
    "Let's take a look at the first item in the training dataset to get a sense of the data's structure."
   ]
  },
  {
   "cell_type": "code",
   "execution_count": 13,
   "id": "q7Xr3kkG4YJx",
   "metadata": {
    "colab": {
     "base_uri": "https://localhost:8080/"
    },
    "id": "q7Xr3kkG4YJx",
    "outputId": "d0c9fd8e-05e2-4d32-cd9c-67b082ed08b8"
   },
   "outputs": [
    {
     "data": {
      "text/plain": [
       "(2,\n",
       " 'Cardinals BCS-worthy,  #39;Canes under the radar Heading into the Orange Bowl to take on Miami is not easy for any team, especially on a Thursday night, but expect the athleticism and experience of the Louisville Cardinals to make tonight #39;s game very competitive.')"
      ]
     },
     "execution_count": 13,
     "metadata": {},
     "output_type": "execute_result"
    }
   ],
   "source": [
    "train_dataset[0]"
   ]
  },
  {
   "cell_type": "markdown",
   "metadata": {},
   "source": [
    "Also, we can check the first item in the test dataset. Both of them show a complete text of the dataset in each item."
   ]
  },
  {
   "cell_type": "code",
   "execution_count": 14,
   "id": "ZUKDYiSF-V9I",
   "metadata": {
    "colab": {
     "base_uri": "https://localhost:8080/"
    },
    "id": "ZUKDYiSF-V9I",
    "outputId": "80d64ee8-9684-4f7b-b100-ddfba7a5d2d9"
   },
   "outputs": [
    {
     "data": {
      "text/plain": [
       "(3,\n",
       " \"Fears for T N pension after talks Unions representing workers at Turner   Newall say they are 'disappointed' after talks with stricken parent firm Federal Mogul.\")"
      ]
     },
     "execution_count": 14,
     "metadata": {},
     "output_type": "execute_result"
    }
   ],
   "source": [
    "test_dataset[0]"
   ]
  },
  {
   "cell_type": "markdown",
   "metadata": {},
   "source": [
    "We define a function, `collate_batch`, which is used by the DataLoader to process a batch of data. This function handles tokenization, padding, and label preparation."
   ]
  },
  {
   "cell_type": "code",
   "execution_count": 15,
   "id": "ffdbf077",
   "metadata": {
    "id": "ffdbf077"
   },
   "outputs": [],
   "source": [
    "# function passed to the DataLoader to process a batch of data as indicated\n",
    "def collate_batch(batch):\n",
    "    # Get label and text\n",
    "    y, x = list(zip(*batch))\n",
    "\n",
    "    # Create list with indices from tokeniser\n",
    "    x = [vocab(tokeniser(text)) for text in x]\n",
    "    x = [t + ([0]*(max_tokens - len(t))) if len(t) < max_tokens else t[:max_tokens] for t in x]\n",
    "\n",
    "    # Prepare the labels, by subtracting 1 to get them in the range 0-3\n",
    "    return torch.tensor(x, dtype=torch.int32), torch.tensor(y, dtype=torch.int32) - 1"
   ]
  },
  {
   "cell_type": "markdown",
   "metadata": {},
   "source": [
    "We define constants and labels that will be used in the data processing and model training."
   ]
  },
  {
   "cell_type": "code",
   "execution_count": 16,
   "id": "5eb459c7",
   "metadata": {
    "id": "5eb459c7"
   },
   "outputs": [],
   "source": [
    "labels =  [\"World\", \"Sports\", \"Business\", \"Sci/Tech\"]\n",
    "max_tokens = 50\n",
    "BATCH_SIZE = 256"
   ]
  },
  {
   "cell_type": "markdown",
   "metadata": {},
   "source": [
    "We create data loaders for the training, validation, and test datasets to facilitate batch processing."
   ]
  },
  {
   "cell_type": "code",
   "execution_count": 17,
   "id": "0a55e6ee",
   "metadata": {
    "id": "0a55e6ee"
   },
   "outputs": [],
   "source": [
    "train_loader = DataLoader(train_dataset, batch_size=BATCH_SIZE, collate_fn=collate_batch, shuffle = True)\n",
    "val_loader = DataLoader(val_dataset, batch_size=BATCH_SIZE, collate_fn=collate_batch, shuffle = True)\n",
    "test_loader = DataLoader(test_dataset, batch_size=BATCH_SIZE, collate_fn=collate_batch, shuffle = True)"
   ]
  },
  {
   "cell_type": "markdown",
   "id": "47b98898",
   "metadata": {
    "id": "47b98898"
   },
   "source": [
    "### Let us build our RNN model"
   ]
  },
  {
   "cell_type": "markdown",
   "id": "17203068-639e-4ec7-a144-c494dc9c3dcd",
   "metadata": {},
   "source": [
    "#### Measuring the sentences length"
   ]
  },
  {
   "cell_type": "markdown",
   "metadata": {},
   "source": [
    "In this section, we define a function to plot the distribution of sentence lengths in the training dataset."
   ]
  },
  {
   "cell_type": "code",
   "execution_count": 18,
   "id": "f50e56b7-8e0a-49e6-bc8d-000302b63768",
   "metadata": {},
   "outputs": [],
   "source": [
    "import nltk\n",
    "from tqdm import tqdm\n",
    "import matplotlib.pyplot as plt\n",
    "\n",
    "def plot_sentence_lengths(train_dataset):\n",
    "    # initialize an empty list to store sentence lengths\n",
    "    sentence_lengths = []\n",
    "    # loop over the train_dataset\n",
    "    for _, text in tqdm(train_dataset):\n",
    "    # split the text into sentences\n",
    "        sentences = nltk.sent_tokenize(text)\n",
    "        # loop over the sentences\n",
    "        for sentence in sentences:\n",
    "          # append the length to the list\n",
    "          sentence_lengths.append(len(sentence))\n",
    "    \n",
    "    print('Sentence average length: ', np.array(sentence_lengths).mean())\n",
    "    # plot a histogram of the sentence lengths\n",
    "    plt.hist(sentence_lengths, bins=37)\n",
    "    plt.xlabel('Sentence length')\n",
    "    plt.ylabel('Frequency')\n",
    "    plt.title('Histogram of sentence lengths in train_dataset')\n",
    "    plt.show()"
   ]
  },
  {
   "cell_type": "markdown",
   "metadata": {},
   "source": [
    "In this section, we define a function to plot the distribution of sentence lengths in the training dataset."
   ]
  },
  {
   "cell_type": "code",
   "execution_count": 19,
   "id": "f2586b72-567f-4290-8355-2b1ef0c2ebc7",
   "metadata": {},
   "outputs": [
    {
     "name": "stderr",
     "output_type": "stream",
     "text": [
      "100%|██████████████████████████████████████████████████████████████████████████████████████████████████████████████████████████████████████████████████████████████████████████████████████████████| 108000/108000 [00:02<00:00, 41377.53it/s]\n"
     ]
    },
    {
     "name": "stdout",
     "output_type": "stream",
     "text": [
      "Sentence average length:  178.656321855196\n"
     ]
    },
    {
     "data": {
      "image/png": "[encoded data removed]",
      "text/plain": [
       "<Figure size 640x480 with 1 Axes>"
      ]
     },
     "metadata": {},
     "output_type": "display_data"
    }
   ],
   "source": [
    "plot_sentence_lengths(train_dataset)"
   ]
  },
  {
   "cell_type": "markdown",
   "metadata": {},
   "source": [
    "#### RNN model class"
   ]
  },
  {
   "cell_type": "markdown",
   "metadata": {},
   "source": [
    "We define the configuration parameters for the model."
   ]
  },
  {
   "cell_type": "code",
   "execution_count": 20,
   "id": "50f20793",
   "metadata": {
    "id": "50f20793"
   },
   "outputs": [],
   "source": [
    "EMBEDDING_SIZE = 180 # From sentence length average\n",
    "NEURONS = 100 # Number of neurons in the model\n",
    "LAYERS = 2 # Number of layers in the model\n",
    "NUM_CLASSES = 4 # [\"World\", \"Sports\", \"Business\", \"Sci/Tech\"]"
   ]
  },
  {
   "cell_type": "markdown",
   "metadata": {},
   "source": [
    "We define a class, `RNN_Model_1`, that represents our Recurrent Neural Network (RNN) model for text classification."
   ]
  },
  {
   "cell_type": "code",
   "execution_count": 21,
   "id": "0f7f5621",
   "metadata": {
    "id": "0f7f5621"
   },
   "outputs": [],
   "source": [
    "class RNN_Model_1(nn.Module):\n",
    "    def __init__(self, embed_size, hidden, layers, num_classes):\n",
    "        super().__init__()\n",
    "        self.embedding_layer = nn.Embedding(num_embeddings=len(vocab),\n",
    "                                            embedding_dim=embed_size)\n",
    "\n",
    "        self.rnn = nn.GRU(input_size=embed_size,\n",
    "                          hidden_size=hidden,\n",
    "                          num_layers=layers,\n",
    "                          batch_first=True)\n",
    "\n",
    "        self.fc = nn.Linear(in_features=hidden,\n",
    "                            out_features=num_classes)\n",
    "\n",
    "    def forward(self, x):\n",
    "        # Get the word embeddings from the input indices\n",
    "        x = self.embedding_layer(x)\n",
    "\n",
    "        # Pass the embeddings through the GRU layer\n",
    "        # We only need the last hidden state as the output\n",
    "        _, h = self.rnn(x)\n",
    "\n",
    "        # Reshape the hidden state to match the linear layer's input shape\n",
    "        h = h[-1].view(-1, self.rnn.hidden_size)\n",
    "\n",
    "        # Pass the hidden state through the linear layer and get the logits\n",
    "        logits = self.fc(h)\n",
    "\n",
    "        return logits"
   ]
  },
  {
   "cell_type": "markdown",
   "metadata": {},
   "source": [
    "#### Accuracy Function"
   ]
  },
  {
   "cell_type": "markdown",
   "metadata": {},
   "source": [
    "We define a function, `accuracy`, to compute the accuracy of a model's predictions on a given data loader."
   ]
  },
  {
   "cell_type": "code",
   "execution_count": 22,
   "id": "2a42613f",
   "metadata": {
    "code_folding": [],
    "id": "2a42613f"
   },
   "outputs": [],
   "source": [
    "def accuracy(model, loader):\n",
    "    # Initialize the number of correct predictions and the total number of predictions\n",
    "    num_correct = 0\n",
    "    num_total = 0\n",
    "    # Set the model to evaluation mode\n",
    "    model.eval()\n",
    "    # Move the model to the device (CPU or GPU)\n",
    "    model = model.to(device=device)\n",
    "    # Disable gradient computation to speed up the inference\n",
    "    with torch.no_grad():\n",
    "        # Loop over each batch of data in the loader\n",
    "        for (xi, yi) in loader:\n",
    "            # Move the input and output data to the device\n",
    "            xi = xi.to(device=device, dtype = torch.long)\n",
    "            yi = yi.to(device=device, dtype = torch.long)\n",
    "            # Get the model's scores (logits) for each class\n",
    "            scores = model(xi) #\n",
    "            # Get the predicted class by finding the maximum score along the dimension 1\n",
    "            _, pred = scores.max(dim=1)\n",
    "            # Count how many predictions are correct by comparing them with the true labels\n",
    "            num_correct += (pred == yi).sum()\n",
    "            # Count the total number of predictions\n",
    "            num_total += pred.size(0)\n",
    "        # Return the accuracy as the ratio of correct predictions to total predictions\n",
    "        return float(num_correct)/num_total"
   ]
  },
  {
   "cell_type": "markdown",
   "metadata": {},
   "source": [
    "#### Training Function"
   ]
  },
  {
   "cell_type": "markdown",
   "metadata": {},
   "source": [
    "We define a function, `train`, to train the model with the specified optimizer and number of epochs. This function also calculates and stores the cost and accuracy values for each epoch."
   ]
  },
  {
   "cell_type": "code",
   "execution_count": 23,
   "id": "5e843e1f",
   "metadata": {
    "code_folding": [],
    "id": "5e843e1f"
   },
   "outputs": [],
   "source": [
    "def train(model, optimizer, epochs=100):\n",
    "    # Initialize two lists to store the cost and accuracy values for each epoch\n",
    "    costo_list = []\n",
    "    acc_list = []\n",
    "\n",
    "    # Move the model to the device (CPU or GPU)\n",
    "    model = model.to(device=device)\n",
    "    # Loop over the number of epochs\n",
    "    for epoch in range(epochs):\n",
    "        # Loop over each batch of data in the training loader\n",
    "        for i, (xi, yi) in enumerate(train_loader):\n",
    "            # Set the model to training mode\n",
    "            model.train()\n",
    "            # Move the input and output data to the device\n",
    "            xi = xi.to(device=device, dtype=torch.long)\n",
    "            yi = yi.to(device=device, dtype=torch.long)\n",
    "\n",
    "            # Zero out the gradients of the optimizer\n",
    "            optimizer.zero_grad()\n",
    "            # Get the model's scores (logits) for each class\n",
    "            scores = model(xi)\n",
    "\n",
    "            # Calculate the cross-entropy loss between the scores and the true labels\n",
    "            cost = F.cross_entropy(input= scores, target=yi)\n",
    "\n",
    "            # Compute the gradients of the loss with respect to the model's parameters\n",
    "            cost.backward()\n",
    "            # Update the model's parameters using the optimizer\n",
    "            optimizer.step()\n",
    "\n",
    "        # Calculate the accuracy of the model on the validation loader\n",
    "        acc = accuracy(model, val_loader)\n",
    "\n",
    "        # Append the cost and accuracy values to the respective lists\n",
    "        costo_list.append(cost.tolist())\n",
    "        acc_list.append(acc)\n",
    "\n",
    "        # Print the epoch number, cost value, and accuracy value\n",
    "        print(f'Epoca {epoch}, costo: {np.round(cost.tolist(),4)}, accuracy: {np.round(acc,4)}')\n",
    "\n",
    "    # Create a dictionary to store the cost and accuracy lists\n",
    "    train_results = {'costo':costo_list, 'accuracy':acc_list}\n",
    "    # Return the dictionary\n",
    "    return train_results"
   ]
  },
  {
   "cell_type": "markdown",
   "id": "VwMODnaV-wbF",
   "metadata": {
    "id": "VwMODnaV-wbF"
   },
   "source": [
    "### Train the model"
   ]
  },
  {
   "cell_type": "markdown",
   "metadata": {},
   "source": [
    "We configure the model, optimizer, and set training parameters."
   ]
  },
  {
   "cell_type": "code",
   "execution_count": 25,
   "id": "87775b29",
   "metadata": {
    "id": "87775b29"
   },
   "outputs": [],
   "source": [
    "epochs = 7 # Number of training epochs\n",
    "lr = 5e-4 # Learning rate\n",
    "# instantiate model\n",
    "gru_model = RNN_Model_1(EMBEDDING_SIZE, NEURONS, LAYERS, NUM_CLASSES)\n",
    "# Initialize the optimizer\n",
    "optimiser = torch.optim.Adam(gru_model.parameters(), lr=lr)"
   ]
  },
  {
   "cell_type": "markdown",
   "metadata": {},
   "source": [
    "Let's train the GRU model using the specified optimizer and number of epochs."
   ]
  },
  {
   "cell_type": "code",
   "execution_count": 26,
   "id": "aec12a1b",
   "metadata": {
    "colab": {
     "base_uri": "https://localhost:8080/"
    },
    "id": "aec12a1b",
    "outputId": "432a8b32-17c9-449d-a5a3-a3cffd257862",
    "scrolled": true
   },
   "outputs": [
    {
     "name": "stdout",
     "output_type": "stream",
     "text": [
      "Epoca 0, costo: 0.4244, accuracy: 0.8634\n",
      "Epoca 1, costo: 0.2812, accuracy: 0.8878\n",
      "Epoca 2, costo: 0.2272, accuracy: 0.8935\n",
      "Epoca 3, costo: 0.2, accuracy: 0.9033\n",
      "Epoca 4, costo: 0.1946, accuracy: 0.9039\n",
      "Epoca 5, costo: 0.1626, accuracy: 0.9042\n",
      "Epoca 6, costo: 0.1448, accuracy: 0.9049\n"
     ]
    }
   ],
   "source": [
    "train_results_gru = train(gru_model, optimiser,  epochs=epochs)"
   ]
  },
  {
   "cell_type": "markdown",
   "metadata": {},
   "source": [
    "Let's evaluate the accuracy of the trained GRU model on the test dataset and print the result."
   ]
  },
  {
   "cell_type": "code",
   "execution_count": 27,
   "id": "7a3ef175",
   "metadata": {
    "colab": {
     "base_uri": "https://localhost:8080/"
    },
    "id": "7a3ef175",
    "outputId": "92860751-10f9-4d0b-a0b8-4779fb0cff17"
   },
   "outputs": [
    {
     "name": "stdout",
     "output_type": "stream",
     "text": [
      "0.9043\n"
     ]
    }
   ],
   "source": [
    "print(f'{accuracy(gru_model, test_loader):.4f}')"
   ]
  },
  {
   "cell_type": "markdown",
   "metadata": {},
   "source": [
    "We define a function, `plot_training_results`, to visualize the training results, including the cost and accuracy over epochs."
   ]
  },
  {
   "cell_type": "code",
   "execution_count": 28,
   "id": "3SOsPmY8CNP7",
   "metadata": {
    "id": "3SOsPmY8CNP7"
   },
   "outputs": [],
   "source": [
    "def plot_training_results(train_results, y_range=(0,1)):\n",
    "\n",
    "    # Convert the cost list to a NumPy array\n",
    "    loss_arr = np.array(train_results['costo'])\n",
    "    # Convert the accuracy list to a NumPy array\n",
    "    acc_arr = np.array(train_results['accuracy'])\n",
    "\n",
    "    # Plot the cost array with a label 'Cost'\n",
    "    plt.plot(loss_arr, label = 'Cost')\n",
    "    # Plot the accuracy array with a label 'Accuracy'\n",
    "    plt.plot(acc_arr, label = 'Accuracy')\n",
    "    # Create a legend for the plot\n",
    "    plt.legend()\n",
    "\n",
    "    # Get the current axes object of the plot\n",
    "    axes = plt.gca()\n",
    "\n",
    "    # Set the lower and upper limits of the y-axis to 0 and 1\n",
    "    axes.set_ylim(y_range[0],y_range[1])\n",
    "    # Set the label of the x-axis to 'Epoch' with a font size of 14\n",
    "    axes.set_xlabel(\"Epoch\", fontsize=14)\n",
    "    # Set the label of the y-axis to 'Cost & Accuracy' with a font size of 14\n",
    "    axes.set_ylabel(\"Cost & Accuracy\", fontsize=14)\n",
    "    # Set the title of the plot to 'Training Results' with a font size of 18\n",
    "    axes.set_title('Training Results', fontsize=18)\n",
    "\n",
    "    # Display the plot on the screen\n",
    "    plt.show()"
   ]
  },
  {
   "cell_type": "markdown",
   "metadata": {},
   "source": [
    "Let's visualize the training results of the GRU model, including the cost and accuracy over epochs."
   ]
  },
  {
   "cell_type": "code",
   "execution_count": 29,
   "id": "PIE5LonRCgE4",
   "metadata": {
    "colab": {
     "base_uri": "https://localhost:8080/",
     "height": 482
    },
    "id": "PIE5LonRCgE4",
    "outputId": "4d8a5b6a-4df2-4d6f-eaad-12cad6dff695"
   },
   "outputs": [
    {
     "data": {
      "image/png": "[encoded data removed]",
      "text/plain": [
       "<Figure size 640x480 with 1 Axes>"
      ]
     },
     "metadata": {},
     "output_type": "display_data"
    }
   ],
   "source": [
    "plot_training_results(train_results_gru, y_range=(0,1))"
   ]
  },
  {
   "cell_type": "markdown",
   "id": "d8khUggJFKYJ",
   "metadata": {
    "id": "d8khUggJFKYJ"
   },
   "source": [
    "### Test the trained model"
   ]
  },
  {
   "cell_type": "markdown",
   "metadata": {},
   "source": [
    "#### Sampling Function"
   ]
  },
  {
   "cell_type": "markdown",
   "metadata": {},
   "source": [
    "We define a function, `sample_text`, to obtain predictions from a text classification model using a given data loader."
   ]
  },
  {
   "cell_type": "code",
   "execution_count": 30,
   "id": "ed30693d",
   "metadata": {
    "id": "ed30693d"
   },
   "outputs": [],
   "source": [
    "def sample_text(model, loader):\n",
    "    # Initialize empty lists to store the predictions and labels\n",
    "    preds_list = []\n",
    "    labels_list = []\n",
    "\n",
    "    # Loop over each batch of data in the loader\n",
    "    for x, y in loader:\n",
    "        # Move the input and output tensors to the device (CPU or GPU)\n",
    "        x = x.to(device=device, dtype=torch.long)\n",
    "        y = y.to(device=device, dtype=torch.long)\n",
    "\n",
    "        # Pass the input tensor through the model and get the logits\n",
    "        logits = model(x)\n",
    "\n",
    "        # Find the index of the maximum logit for each sample and append it to the prediction list\n",
    "        preds = torch.argmax(logits, dim=1)\n",
    "        preds_list.append(preds)\n",
    "\n",
    "        # Append the true labels to the label list\n",
    "        labels_list.append(y)\n",
    "\n",
    "    # Convert the prediction and label lists into tensors\n",
    "    preds_tensor = torch.cat(preds_list)\n",
    "    labels_tensor = torch.cat(labels_list)\n",
    "\n",
    "    return labels_tensor, preds_tensor"
   ]
  },
  {
   "cell_type": "markdown",
   "metadata": {},
   "source": [
    "Let's obtain predictions from the trained GRU model on the test dataset."
   ]
  },
  {
   "cell_type": "code",
   "execution_count": 31,
   "id": "534f0220",
   "metadata": {
    "id": "534f0220"
   },
   "outputs": [],
   "source": [
    "labels_tensor, preds_tensor = sample_text(gru_model, test_loader)"
   ]
  },
  {
   "cell_type": "markdown",
   "metadata": {},
   "source": [
    "We use the `confusion_matrix` function from `sklearn.metrics` to compute the confusion matrix for the model's predictions."
   ]
  },
  {
   "cell_type": "code",
   "execution_count": 32,
   "id": "bb38e093",
   "metadata": {
    "id": "bb38e093"
   },
   "outputs": [],
   "source": [
    "# Import sklearn.metrics for confusion_matrix function\n",
    "from sklearn.metrics import confusion_matrix\n",
    "\n",
    "cm = confusion_matrix(labels_tensor.cpu().numpy(), preds_tensor.cpu().numpy())"
   ]
  },
  {
   "cell_type": "markdown",
   "metadata": {},
   "source": [
    "Now we display the confusion matrix."
   ]
  },
  {
   "cell_type": "code",
   "execution_count": 33,
   "id": "e7d73f69",
   "metadata": {
    "colab": {
     "base_uri": "https://localhost:8080/"
    },
    "id": "e7d73f69",
    "outputId": "4504c752-9392-4ae8-8217-197ac7429d2f"
   },
   "outputs": [
    {
     "name": "stdout",
     "output_type": "stream",
     "text": [
      "[[1709   47   70   74]\n",
      " [  24 1838   19   19]\n",
      " [  70   21 1584  225]\n",
      " [  53   25   80 1742]]\n"
     ]
    }
   ],
   "source": [
    "print(cm)"
   ]
  },
  {
   "cell_type": "markdown",
   "metadata": {},
   "source": [
    "Let´s see the confusion matrix in a visualization that provides more information. As it can be seen in the following figure, the diagonal contains most of the observations, which confirms that the classification yielded favorable results."
   ]
  },
  {
   "cell_type": "code",
   "execution_count": 34,
   "id": "5327e204",
   "metadata": {
    "colab": {
     "base_uri": "https://localhost:8080/",
     "height": 487
    },
    "id": "5327e204",
    "outputId": "9bea453a-c690-405e-8b4d-4701d1b41d0a"
   },
   "outputs": [
    {
     "data": {
      "image/png": "[encoded data removed]",
      "text/plain": [
       "<Figure size 640x480 with 2 Axes>"
      ]
     },
     "metadata": {},
     "output_type": "display_data"
    }
   ],
   "source": [
    "import itertools\n",
    "\n",
    "# Plot the confusion matrix using imshow function\n",
    "plt.imshow(cm, interpolation='nearest', cmap=plt.cm.Blues)\n",
    "\n",
    "# Add a title and labels for the axes\n",
    "plt.title('Confusion matrix')\n",
    "plt.xlabel('Predicted label')\n",
    "plt.ylabel('True label')\n",
    "\n",
    "# Add a colorbar to show the intensity of the values\n",
    "plt.colorbar()\n",
    "\n",
    "# Define the tick marks and labels for each axis\n",
    "tick_marks = np.arange(len(labels))\n",
    "plt.xticks(tick_marks, labels, rotation=45)\n",
    "plt.yticks(tick_marks, labels)\n",
    "\n",
    "# Loop over the confusion matrix and add the values as text\n",
    "for i, j in itertools.product(range(cm.shape[0]), range(cm.shape[1])):\n",
    "    plt.text(j, i, cm[i, j],\n",
    "             horizontalalignment=\"center\",\n",
    "             color=\"white\" if cm[i, j] > cm.max() / 2 else \"black\")\n",
    "\n",
    "# Adjust the layout to fit the plot\n",
    "plt.tight_layout()\n",
    "\n",
    "# Show the plot\n",
    "plt.show()"
   ]
  },
  {
   "cell_type": "markdown",
   "metadata": {},
   "source": [
    "### Conclusions"
   ]
  },
  {
   "cell_type": "markdown",
   "metadata": {},
   "source": [
    "- The RNN model was built with an embedding size of 180, 2 layers of Gated Recurrent Unit (GRU) with 100 neurons each, and an output layer with 4 classes (\"World\", \"Sports\", \"Business\", \"Sci/Tech\") The choice of parameters, informed by an average sentence length of 180 for embeddings, was created to capture meaningful representations present.\n",
    "\n",
    "- A Python function was defined that calculates the accuracy of a given PyTorch model on a specified data loader, which iterates through batches of data, moves them to the designated device (CPU or GPU), and computes the model's predictions. The accuracy is then determined by comparing the model's predictions with the true labels, providing a valuable metric for assessing the model's performance on the given dataset.\n",
    "\n",
    "- For training, a function was defined which trains a model for 7 epochs using the Adam optimizer with a learning rate of 5e-4. The loss (cost) and accuracy for each epoch. During training, an accuracy value of > 0.9 was achieved by the fourth epoch. After training, the accuracy on the test dataset was evaluated, yielding a final accuracy of 0.9043. This indicates the model's ability to generalize well to unseen data, providing a reliable assessment of its performance.\n",
    "\n",
    "- Afterwards, a sampling function was defined, named sample_text, which takes a PyTorch model and a data loader as input and performs inference on the dataset. It iterates through batches of data, moves them to the specified device (CPU or GPU), and obtains model predictions and the true labels into tensors, which were used to get the confusion matrix.\n",
    "\n",
    "- To assess the classification results, a function was created to see a confusion matrix, which aids in assessing the model's performance by illustrating the distribution of predictions across different classes. The results show a diagonal with most of the samples being present there, which further confirms an adequate performance of the classifications done with the 'test' loader observations."
   ]
  },
  {
   "cell_type": "markdown",
   "metadata": {},
   "source": []
  }
 ],
 "metadata": {
  "accelerator": "GPU",
  "colab": {
   "gpuType": "T4",
   "include_colab_link": true,
   "provenance": [],
   "toc_visible": true
  },
  "kernelspec": {
   "display_name": "Python 3 (ipykernel)",
   "language": "python",
   "name": "python3"
  },
  "language_info": {
   "codemirror_mode": {
    "name": "ipython",
    "version": 3
   },
   "file_extension": ".py",
   "mimetype": "text/x-python",
   "name": "python",
   "nbconvert_exporter": "python",
   "pygments_lexer": "ipython3",
   "version": "3.9.16"
  },
  "varInspector": {
   "cols": {
    "lenName": 16,
    "lenType": 16,
    "lenVar": 40
   },
   "kernels_config": {
    "python": {
     "delete_cmd_postfix": "",
     "delete_cmd_prefix": "del ",
     "library": "var_list.py",
     "varRefreshCmd": "print(var_dic_list())"
    },
    "r": {
     "delete_cmd_postfix": ") ",
     "delete_cmd_prefix": "rm(",
     "library": "var_list.r",
     "varRefreshCmd": "cat(var_dic_list()) "
    }
   },
   "types_to_exclude": [
    "module",
    "function",
    "builtin_function_or_method",
    "instance",
    "_Feature"
   ],
   "window_display": false
  }
 },
 "nbformat": 4,
 "nbformat_minor": 5
}
