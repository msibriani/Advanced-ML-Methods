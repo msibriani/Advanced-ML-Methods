{
  "cells": [
    {
      "cell_type": "markdown",
      "metadata": {
        "colab_type": "text",
        "id": "view-in-github"
      },
      "source": [
        "<a href=\"https://colab.research.google.com/github/fco-parga/MNA-2023-September_Advanced_Machine_Learning_Methods/blob/activity_3a/Activity%203a%20-%20Exploring%20Word%20Embeddings%20with%20GloVe%20and%20Numpy/TC4033_Activity3a_ID18.ipynb\" target=\"_parent\"><img src=\"https://colab.research.google.com/assets/colab-badge.svg\" alt=\"Open In Colab\"/></a>"
      ]
    },
    {
      "cell_type": "markdown",
      "id": "c6142099",
      "metadata": {
        "id": "c6142099"
      },
      "source": [
        "## TC 5033\n",
        "### Word Embeddings\n",
        "\n",
        "<br>\n",
        "\n",
        "#### Activity 3a: Exploring Word Embeddings with GloVe and Numpy\n",
        "<br>\n",
        "\n",
        "- Objective:\n",
        "    - To understand the concept of word embeddings and their significance in Natural Language Processing.\n",
        "    - To learn how to manipulate and visualize high-dimensional data using dimensionality reduction techniques like PCA and t-SNE.\n",
        "    - To gain hands-on experience in implementing word similarity and analogies using GloVe embeddings and Numpy.\n",
        "    \n",
        "<br>\n",
        "\n",
        "- Instructions:\n",
        "    - Download GloVe pre-trained vectors from the provided link in Canvas, the official public project:\n",
        "    Jeffrey Pennington, Richard Socher, and Christopher D. Manning. 2014. GloVe: Global Vectors for Word Representation\n",
        "    https://nlp.stanford.edu/data/glove.6B.zip\n",
        "\n",
        "    - Create a dictorionay of the embeddings so that you carry out fast look ups. Save that dictionary e.g. as a serialized file for faster loading in future uses.\n",
        "    \n",
        "    - PCA and t-SNE Visualization: After loading the GloVe embeddings, use Numpy and Sklearn to perform PCA and t-SNE to reduce the dimensionality of the embeddings and visualize them in a 2D or 3D space.\n",
        "\n",
        "    - Word Similarity: Implement a function that takes a word as input and returns the 'n' most similar words based on their embeddings. You should use Numpy to implement this function, using libraries that already implement this function (e.g. Gensim) will result in zero points.\n",
        "\n",
        "    - Word Analogies: Implement a function to solve analogies between words. For example, \"man is to king as woman is to ____\". You should use Numpy to implement this function, using libraries that already implement this function (e.g. Gensim) will result in zero points.\n",
        "\n",
        "    - Submission: This activity is to be submitted in teams of 3 or 4. Only one person should submit the final work, with the full names of all team members included in a markdown cell at the beginning of the notebook.\n",
        "    \n",
        "<br>\n",
        "\n",
        "- Evaluation Criteria:\n",
        "\n",
        "    - Code Quality (40%): Your code should be well-organized, clearly commented, and easy to follow. Use also markdown cells for clarity.\n",
        "    \n",
        "   - Functionality (60%): All functions should work as intended, without errors.\n",
        "       - Visualization of PCA and t-SNE (10% each for a total of 20%)\n",
        "       - Similarity function (20%)\n",
        "       - Analogy function (20%)\n",
        "|\n",
        "\n"
      ]
    },
    {
      "cell_type": "markdown",
      "metadata": {},
      "source": [
        "#### Team members\n",
        "\n",
        "- Francisco Javier Parga García A01794380\n",
        "- Matthias Sibrian Illescas A01794249\n",
        "- Enrique Hernández García A01793727\n",
        "- Alejandro Tomás Mackey A01164338"
      ]
    },
    {
      "cell_type": "markdown",
      "id": "329dd09a",
      "metadata": {
        "id": "329dd09a"
      },
      "source": [
        "#### Import libraries"
      ]
    },
    {
      "cell_type": "markdown",
      "metadata": {},
      "source": [
        "In this section, we will be importing necessary libraries and configuring the environment for our data analysis and visualization. We will start by importing the required libraries and setting up the Matplotlib style for our plots."
      ]
    },
    {
      "cell_type": "code",
      "execution_count": 1,
      "id": "4af04b9d",
      "metadata": {
        "id": "4af04b9d"
      },
      "outputs": [],
      "source": [
        "# Import libraries\n",
        "import torch\n",
        "import torch.nn.functional as F\n",
        "from sklearn.manifold import TSNE\n",
        "from sklearn.decomposition import PCA\n",
        "import matplotlib.pyplot as plt\n",
        "import numpy as np\n",
        "from numpy.linalg import norm\n",
        "import pickle\n",
        "\n",
        "# Set Matplotlib style\n",
        "plt.style.use('ggplot')"
      ]
    },
    {
      "cell_type": "markdown",
      "id": "8712cf42",
      "metadata": {
        "id": "8712cf42"
      },
      "source": [
        "#### Load file"
      ]
    },
    {
      "cell_type": "markdown",
      "id": "-fRCO7jalbiZ",
      "metadata": {
        "id": "-fRCO7jalbiZ"
      },
      "source": [
        "In the following step, we will download the pre-trained GloVe word vectors from the Hugging Face model hub. This dataset will be used in our analysis. The provided link: https://nlp.stanford.edu/data/glove.6B.zip was not available for download. Instead, we used the following link from HuggingFace, which contains the same dataset: https://huggingface.co/stanfordnlp/glove/resolve/main/glove.6B.zip"
      ]
    },
    {
      "cell_type": "code",
      "execution_count": 2,
      "id": "gdzpehjy6c-d",
      "metadata": {
        "colab": {
          "base_uri": "https://localhost:8080/"
        },
        "id": "gdzpehjy6c-d",
        "outputId": "f55fa349-26e7-4beb-cb4b-a5dd86294380"
      },
      "outputs": [
        {
          "name": "stdout",
          "output_type": "stream",
          "text": [
            "glove.6B.zip        100%[===================>] 822.24M   161MB/s    in 7.1s    \n"
          ]
        }
      ],
      "source": [
        "!wget https://huggingface.co/stanfordnlp/glove/resolve/main/glove.6B.zip  -q --show-progress"
      ]
    },
    {
      "cell_type": "markdown",
      "metadata": {},
      "source": [
        "After downloading the GloVe word vectors, we will now unzip the dataset to access the word embeddings."
      ]
    },
    {
      "cell_type": "code",
      "execution_count": 3,
      "id": "6XMy6Xmh2L7F",
      "metadata": {
        "colab": {
          "base_uri": "https://localhost:8080/"
        },
        "id": "6XMy6Xmh2L7F",
        "outputId": "58651274-7c9b-4e37-b4ee-13223d9ce6d1"
      },
      "outputs": [
        {
          "name": "stdout",
          "output_type": "stream",
          "text": [
            "Archive:  glove.6B.zip\n",
            "  inflating: glove.6B.100d.txt       \n",
            "  inflating: glove.6B.200d.txt       \n",
            "  inflating: glove.6B.300d.txt       \n",
            "  inflating: glove.6B.50d.txt        \n"
          ]
        }
      ],
      "source": [
        "!unzip glove.6B.zip"
      ]
    },
    {
      "cell_type": "markdown",
      "metadata": {},
      "source": [
        "Now, we specify the path to the GloVe word embeddings file and the embedding dimension we will use in our analysis."
      ]
    },
    {
      "cell_type": "code",
      "execution_count": 10,
      "id": "8c3c9d2a",
      "metadata": {
        "id": "8c3c9d2a"
      },
      "outputs": [],
      "source": [
        "# PATH = '/media/pepe/DataUbuntu/Databases/glove_embeddings/glove.6B.200d.txt'\n",
        "#PATH = '/media/pepe/DataUbuntu/Databases/glove_embeddings/glove.6B.50d.txt'\n",
        "\n",
        "PATH = 'glove.6B.50d.txt'\n",
        "emb_dim = 50"
      ]
    },
    {
      "cell_type": "markdown",
      "metadata": {},
      "source": [
        "To get an initial look at the data, we will display the first 5 lines of the GloVe word embeddings file."
      ]
    },
    {
      "cell_type": "code",
      "execution_count": 12,
      "id": "vKOaE_4D7O1C",
      "metadata": {
        "colab": {
          "base_uri": "https://localhost:8080/"
        },
        "id": "vKOaE_4D7O1C",
        "outputId": "d089a420-bbe8-4495-f64e-d04f69468fc4"
      },
      "outputs": [
        {
          "name": "stdout",
          "output_type": "stream",
          "text": [
            "the 0.418 0.24968 -0.41242 0.1217 0.34527 -0.044457 -0.49688 -0.17862 -0.00066023 -0.6566 0.27843 -0.14767 -0.55677 0.14658 -0.0095095 0.011658 0.10204 -0.12792 -0.8443 -0.12181 -0.016801 -0.33279 -0.1552 -0.23131 -0.19181 -1.8823 -0.76746 0.099051 -0.42125 -0.19526 4.0071 -0.18594 -0.52287 -0.31681 0.00059213 0.0074449 0.17778 -0.15897 0.012041 -0.054223 -0.29871 -0.15749 -0.34758 -0.045637 -0.44251 0.18785 0.0027849 -0.18411 -0.11514 -0.78581\n",
            ", 0.013441 0.23682 -0.16899 0.40951 0.63812 0.47709 -0.42852 -0.55641 -0.364 -0.23938 0.13001 -0.063734 -0.39575 -0.48162 0.23291 0.090201 -0.13324 0.078639 -0.41634 -0.15428 0.10068 0.48891 0.31226 -0.1252 -0.037512 -1.5179 0.12612 -0.02442 -0.042961 -0.28351 3.5416 -0.11956 -0.014533 -0.1499 0.21864 -0.33412 -0.13872 0.31806 0.70358 0.44858 -0.080262 0.63003 0.32111 -0.46765 0.22786 0.36034 -0.37818 -0.56657 0.044691 0.30392\n",
            ". 0.15164 0.30177 -0.16763 0.17684 0.31719 0.33973 -0.43478 -0.31086 -0.44999 -0.29486 0.16608 0.11963 -0.41328 -0.42353 0.59868 0.28825 -0.11547 -0.041848 -0.67989 -0.25063 0.18472 0.086876 0.46582 0.015035 0.043474 -1.4671 -0.30384 -0.023441 0.30589 -0.21785 3.746 0.0042284 -0.18436 -0.46209 0.098329 -0.11907 0.23919 0.1161 0.41705 0.056763 -6.3681e-05 0.068987 0.087939 -0.10285 -0.13931 0.22314 -0.080803 -0.35652 0.016413 0.10216\n",
            "of 0.70853 0.57088 -0.4716 0.18048 0.54449 0.72603 0.18157 -0.52393 0.10381 -0.17566 0.078852 -0.36216 -0.11829 -0.83336 0.11917 -0.16605 0.061555 -0.012719 -0.56623 0.013616 0.22851 -0.14396 -0.067549 -0.38157 -0.23698 -1.7037 -0.86692 -0.26704 -0.2589 0.1767 3.8676 -0.1613 -0.13273 -0.68881 0.18444 0.0052464 -0.33874 -0.078956 0.24185 0.36576 -0.34727 0.28483 0.075693 -0.062178 -0.38988 0.22902 -0.21617 -0.22562 -0.093918 -0.80375\n",
            "to 0.68047 -0.039263 0.30186 -0.17792 0.42962 0.032246 -0.41376 0.13228 -0.29847 -0.085253 0.17118 0.22419 -0.10046 -0.43653 0.33418 0.67846 0.057204 -0.34448 -0.42785 -0.43275 0.55963 0.10032 0.18677 -0.26854 0.037334 -2.0932 0.22171 -0.39868 0.20912 -0.55725 3.8826 0.47466 -0.95658 -0.37788 0.20869 -0.32752 0.12751 0.088359 0.16351 -0.21634 -0.094375 0.018324 0.21048 -0.03088 -0.19722 0.082279 -0.09434 -0.073297 -0.064699 -0.26044\n"
          ]
        }
      ],
      "source": [
        "!head -5 $PATH"
      ]
    },
    {
      "cell_type": "markdown",
      "metadata": {},
      "source": [
        "Next, we define a function to create a dictionary containing word embeddings from the GloVe word vectors file."
      ]
    },
    {
      "cell_type": "code",
      "execution_count": 13,
      "id": "25a1eae6",
      "metadata": {
        "code_folding": [],
        "id": "25a1eae6"
      },
      "outputs": [],
      "source": [
        "# Create dictionary with embeddings\n",
        "def create_emb_dictionary(path):\n",
        "    # open the text file and read the lines\n",
        "    with open(path, 'r') as f:\n",
        "        lines = f.readlines()\n",
        "    # initialize an empty dictionary\n",
        "    emb_dict = {}\n",
        "    # loop through the lines\n",
        "    for line in lines:\n",
        "        # split the line by whitespace\n",
        "        tokens = line.split()\n",
        "        # the first token is the word, the rest are the embedding values\n",
        "        word = tokens[0]\n",
        "        emb = [float(x) for x in tokens[1:]]\n",
        "        # add the word and the embedding to the dictionary\n",
        "        emb_dict[word] = emb\n",
        "    # return the dictionary\n",
        "    return emb_dict"
      ]
    },
    {
      "cell_type": "markdown",
      "metadata": {},
      "source": [
        "We will now create a dictionary, `embeddings_dict`, by using the `create_emb_dictionary` function to load word embeddings from the GloVe file."
      ]
    },
    {
      "cell_type": "code",
      "execution_count": 14,
      "id": "347a0e5e",
      "metadata": {
        "code_folding": [],
        "id": "347a0e5e"
      },
      "outputs": [],
      "source": [
        "# create dictionary\n",
        "embeddings_dict = create_emb_dictionary(PATH)"
      ]
    },
    {
      "cell_type": "markdown",
      "metadata": {},
      "source": [
        "e will now save the `embeddings_dict` to a file and provide code to deserialize it."
      ]
    },
    {
      "cell_type": "code",
      "execution_count": 15,
      "id": "1f01b760",
      "metadata": {
        "code_folding": [
          1
        ],
        "id": "1f01b760"
      },
      "outputs": [],
      "source": [
        "# Serialize\n",
        "with open('embeddings_dict_50D.pkl', 'wb') as f:\n",
        "    pickle.dump(embeddings_dict, f)\n",
        "\n",
        "# Deserialize\n",
        "# with open('embeddings_dict_200D.pkl', 'rb') as f:\n",
        "#     embeddings_dict = pickle.load(f)"
      ]
    },
    {
      "cell_type": "markdown",
      "id": "fd0ab9aa",
      "metadata": {
        "id": "fd0ab9aa"
      },
      "source": [
        "#### See some embeddings"
      ]
    },
    {
      "cell_type": "markdown",
      "metadata": {},
      "source": [
        "We define a function, `show_n_first_words`, that displays the first n words from a file."
      ]
    },
    {
      "cell_type": "code",
      "execution_count": 16,
      "id": "8b0991a9",
      "metadata": {
        "id": "8b0991a9"
      },
      "outputs": [],
      "source": [
        "# Define a function to display the first n words from a file\n",
        "def show_n_first_words(path, n_words):\n",
        "    with open(path, 'r') as f:\n",
        "        for i, line in enumerate(f):\n",
        "            # Split the line into words and print them\n",
        "            print(line.split(), len(line.split()[1:]))\n",
        "            if i >= n_words:\n",
        "                break"
      ]
    },
    {
      "cell_type": "markdown",
      "metadata": {},
      "source": [
        "Now, let's use the `show_n_first_words` function to display the first 5 words from the loaded file."
      ]
    },
    {
      "cell_type": "code",
      "execution_count": 17,
      "id": "a16259ec",
      "metadata": {
        "colab": {
          "base_uri": "https://localhost:8080/"
        },
        "id": "a16259ec",
        "outputId": "7f7168d6-a6f2-4fe0-a91f-5bc9b3dd7592"
      },
      "outputs": [
        {
          "name": "stdout",
          "output_type": "stream",
          "text": [
            "['the', '0.418', '0.24968', '-0.41242', '0.1217', '0.34527', '-0.044457', '-0.49688', '-0.17862', '-0.00066023', '-0.6566', '0.27843', '-0.14767', '-0.55677', '0.14658', '-0.0095095', '0.011658', '0.10204', '-0.12792', '-0.8443', '-0.12181', '-0.016801', '-0.33279', '-0.1552', '-0.23131', '-0.19181', '-1.8823', '-0.76746', '0.099051', '-0.42125', '-0.19526', '4.0071', '-0.18594', '-0.52287', '-0.31681', '0.00059213', '0.0074449', '0.17778', '-0.15897', '0.012041', '-0.054223', '-0.29871', '-0.15749', '-0.34758', '-0.045637', '-0.44251', '0.18785', '0.0027849', '-0.18411', '-0.11514', '-0.78581'] 50\n",
            "[',', '0.013441', '0.23682', '-0.16899', '0.40951', '0.63812', '0.47709', '-0.42852', '-0.55641', '-0.364', '-0.23938', '0.13001', '-0.063734', '-0.39575', '-0.48162', '0.23291', '0.090201', '-0.13324', '0.078639', '-0.41634', '-0.15428', '0.10068', '0.48891', '0.31226', '-0.1252', '-0.037512', '-1.5179', '0.12612', '-0.02442', '-0.042961', '-0.28351', '3.5416', '-0.11956', '-0.014533', '-0.1499', '0.21864', '-0.33412', '-0.13872', '0.31806', '0.70358', '0.44858', '-0.080262', '0.63003', '0.32111', '-0.46765', '0.22786', '0.36034', '-0.37818', '-0.56657', '0.044691', '0.30392'] 50\n",
            "['.', '0.15164', '0.30177', '-0.16763', '0.17684', '0.31719', '0.33973', '-0.43478', '-0.31086', '-0.44999', '-0.29486', '0.16608', '0.11963', '-0.41328', '-0.42353', '0.59868', '0.28825', '-0.11547', '-0.041848', '-0.67989', '-0.25063', '0.18472', '0.086876', '0.46582', '0.015035', '0.043474', '-1.4671', '-0.30384', '-0.023441', '0.30589', '-0.21785', '3.746', '0.0042284', '-0.18436', '-0.46209', '0.098329', '-0.11907', '0.23919', '0.1161', '0.41705', '0.056763', '-6.3681e-05', '0.068987', '0.087939', '-0.10285', '-0.13931', '0.22314', '-0.080803', '-0.35652', '0.016413', '0.10216'] 50\n",
            "['of', '0.70853', '0.57088', '-0.4716', '0.18048', '0.54449', '0.72603', '0.18157', '-0.52393', '0.10381', '-0.17566', '0.078852', '-0.36216', '-0.11829', '-0.83336', '0.11917', '-0.16605', '0.061555', '-0.012719', '-0.56623', '0.013616', '0.22851', '-0.14396', '-0.067549', '-0.38157', '-0.23698', '-1.7037', '-0.86692', '-0.26704', '-0.2589', '0.1767', '3.8676', '-0.1613', '-0.13273', '-0.68881', '0.18444', '0.0052464', '-0.33874', '-0.078956', '0.24185', '0.36576', '-0.34727', '0.28483', '0.075693', '-0.062178', '-0.38988', '0.22902', '-0.21617', '-0.22562', '-0.093918', '-0.80375'] 50\n",
            "['to', '0.68047', '-0.039263', '0.30186', '-0.17792', '0.42962', '0.032246', '-0.41376', '0.13228', '-0.29847', '-0.085253', '0.17118', '0.22419', '-0.10046', '-0.43653', '0.33418', '0.67846', '0.057204', '-0.34448', '-0.42785', '-0.43275', '0.55963', '0.10032', '0.18677', '-0.26854', '0.037334', '-2.0932', '0.22171', '-0.39868', '0.20912', '-0.55725', '3.8826', '0.47466', '-0.95658', '-0.37788', '0.20869', '-0.32752', '0.12751', '0.088359', '0.16351', '-0.21634', '-0.094375', '0.018324', '0.21048', '-0.03088', '-0.19722', '0.082279', '-0.09434', '-0.073297', '-0.064699', '-0.26044'] 50\n",
            "['and', '0.26818', '0.14346', '-0.27877', '0.016257', '0.11384', '0.69923', '-0.51332', '-0.47368', '-0.33075', '-0.13834', '0.2702', '0.30938', '-0.45012', '-0.4127', '-0.09932', '0.038085', '0.029749', '0.10076', '-0.25058', '-0.51818', '0.34558', '0.44922', '0.48791', '-0.080866', '-0.10121', '-1.3777', '-0.10866', '-0.23201', '0.012839', '-0.46508', '3.8463', '0.31362', '0.13643', '-0.52244', '0.3302', '0.33707', '-0.35601', '0.32431', '0.12041', '0.3512', '-0.069043', '0.36885', '0.25168', '-0.24517', '0.25381', '0.1367', '-0.31178', '-0.6321', '-0.25028', '-0.38097'] 50\n"
          ]
        }
      ],
      "source": [
        "show_n_first_words(PATH, 5)"
      ]
    },
    {
      "cell_type": "markdown",
      "id": "ff828123",
      "metadata": {
        "id": "ff828123"
      },
      "source": [
        "### Plot some embeddings"
      ]
    },
    {
      "cell_type": "markdown",
      "metadata": {},
      "source": [
        "We define a function, `plot_embeddings`, that allows us to visualize word embeddings using dimensionality reduction techniques."
      ]
    },
    {
      "cell_type": "code",
      "execution_count": 32,
      "id": "3d3ffaa4",
      "metadata": {
        "id": "3d3ffaa4"
      },
      "outputs": [],
      "source": [
        "def plot_embeddings(emb_path, words2show, emb_dim, embeddings_dict, func = PCA):\n",
        "    # initialize the dimensionality reduction function\n",
        "    dim_red = func(n_components=2)\n",
        "    # create an empty matrix to store the embeddings\n",
        "    emb_matrix = np.zeros((len(words2show), emb_dim))\n",
        "    # loop through the words and fill the matrix with their embeddings\n",
        "    for i, word in enumerate(words2show):\n",
        "        emb_matrix[i] = embeddings_dict[word]\n",
        "    # apply the dimensionality reduction function to the matrix\n",
        "    reduced_emb_matrix = dim_red.fit_transform(emb_matrix)\n",
        "    reduced_emb_dic = {}\n",
        "\n",
        "    # create a scatter plot of the reduced embeddings\n",
        "    plt.scatter(reduced_emb_matrix[:, 0], reduced_emb_matrix[:, 1])\n",
        "    # annotate the points with the words\n",
        "    for i, word in enumerate(words2show):\n",
        "        plt.annotate(word, xy=(reduced_emb_matrix[i, 0], reduced_emb_matrix[i, 1]))\n",
        "        reduced_emb_dic[word] = reduced_emb_matrix[i]\n",
        "    # show the plot\n",
        "    plt.show()\n",
        "\n",
        "    return reduced_emb_dic"
      ]
    },
    {
      "cell_type": "markdown",
      "metadata": {},
      "source": [
        "We have defined a list of words, `words`, that we will use for visualization in the next step."
      ]
    },
    {
      "cell_type": "code",
      "execution_count": 33,
      "id": "9b1b120a",
      "metadata": {
        "id": "9b1b120a"
      },
      "outputs": [],
      "source": [
        "words= ['burger', 'tortilla', 'bread', 'pizza', 'beef', 'steak', 'fries', 'chips',\n",
        "            'argentina', 'mexico', 'spain', 'usa', 'france', 'italy', 'greece', 'china',\n",
        "            'water', 'beer', 'tequila', 'wine', 'whisky', 'brandy', 'vodka', 'coffee', 'tea',\n",
        "            'apple', 'banana', 'orange', 'lemon', 'grapefruit', 'grape', 'strawberry', 'raspberry',\n",
        "            'school', 'work', 'university', 'highschool']"
      ]
    },
    {
      "cell_type": "markdown",
      "metadata": {},
      "source": [
        "Now, let's use the `plot_embeddings` function to visualize the word embeddings for the selected words. The last parameter of the function allows to select the dimensionality reduction technique. We use each separately, PCA and t-SNE, one after another, to generate visualizations. Basically, this techniques allow to plot the distributions into the two axes of greatest variance."
      ]
    },
    {
      "cell_type": "code",
      "execution_count": 34,
      "id": "87d33789",
      "metadata": {
        "colab": {
          "base_uri": "https://localhost:8080/",
          "height": 430
        },
        "id": "87d33789",
        "outputId": "77c11ae6-e457-43b9-f746-5e770e2a9517"
      },
      "outputs": [
        {
          "data": {
            "image/png": "[encoded data removed]",
            "text/plain": [
              "<Figure size 640x480 with 1 Axes>"
            ]
          },
          "metadata": {},
          "output_type": "display_data"
        }
      ],
      "source": [
        "# PCA dimensionality reduction for visualization\n",
        "reduced_emb_dic = plot_embeddings(PATH, words, emb_dim, embeddings_dict, PCA)"
      ]
    },
    {
      "cell_type": "code",
      "execution_count": 35,
      "id": "f22bacb4",
      "metadata": {
        "colab": {
          "base_uri": "https://localhost:8080/",
          "height": 431
        },
        "id": "f22bacb4",
        "outputId": "0a551512-0558-4963-8a47-0cc681512111"
      },
      "outputs": [
        {
          "data": {
            "image/png": "[encoded data removed]",
            "text/plain": [
              "<Figure size 640x480 with 1 Axes>"
            ]
          },
          "metadata": {},
          "output_type": "display_data"
        }
      ],
      "source": [
        "# t-SNE dimensionality reduction for visualization\n",
        "embeddings = plot_embeddings(PATH, words, emb_dim, embeddings_dict, TSNE)"
      ]
    },
    {
      "cell_type": "markdown",
      "id": "8211b7f1",
      "metadata": {
        "id": "8211b7f1"
      },
      "source": [
        "### Let us compute analogies"
      ]
    },
    {
      "cell_type": "markdown",
      "metadata": {},
      "source": [
        "We define a function, `analogy`, that allows us to perform word analogies using word embeddings."
      ]
    },
    {
      "cell_type": "code",
      "execution_count": 38,
      "id": "0003ce18",
      "metadata": {
        "id": "0003ce18"
      },
      "outputs": [],
      "source": [
        "# analogy\n",
        "def analogy(word1, word2, word3, embeddings_dict):\n",
        "    # get the embeddings of the words from the dictionary\n",
        "    v1 = np.array(embeddings_dict[word1])\n",
        "    v2 = np.array(embeddings_dict[word2])\n",
        "    v3 = np.array(embeddings_dict[word3])\n",
        "    # compute the vector for the analogy\n",
        "    v4 = v2 - v1 + v3\n",
        "    # find the word that is closest to v4 in cosine similarity\n",
        "    max_sim = -999\n",
        "    best_word = None\n",
        "    for word, vec in embeddings_dict.items():\n",
        "        # skip the words that are already in the analogy\n",
        "        if word in [word1, word2, word3]:\n",
        "            continue\n",
        "        # compute the cosine similarity\n",
        "        sim = np.dot(v4, vec) / (np.linalg.norm(v4) * np.linalg.norm(vec))\n",
        "        # update the best word and the max similarity\n",
        "        if sim > max_sim:\n",
        "            max_sim = sim\n",
        "            best_word = word\n",
        "    # return the best word\n",
        "    return best_word"
      ]
    },
    {
      "cell_type": "markdown",
      "metadata": {},
      "source": [
        "Now, we call the function to find the analogy for the word 'queen', using 'man' to 'king' as test. "
      ]
    },
    {
      "cell_type": "code",
      "execution_count": 39,
      "id": "9c02ec01",
      "metadata": {
        "colab": {
          "base_uri": "https://localhost:8080/",
          "height": 36
        },
        "id": "9c02ec01",
        "outputId": "fe7aa299-3f78-495b-fbdd-a574acca7fdc"
      },
      "outputs": [
        {
          "data": {
            "application/vnd.google.colaboratory.intrinsic+json": {
              "type": "string"
            },
            "text/plain": [
              "'queen'"
            ]
          },
          "execution_count": 39,
          "metadata": {},
          "output_type": "execute_result"
        }
      ],
      "source": [
        "analogy('man', 'king', 'woman', embeddings_dict)"
      ]
    },
    {
      "cell_type": "markdown",
      "metadata": {},
      "source": [
        "We define a function, `find_most_similar`, that allows us to find the most similar words to a given word using cosine similarity with word embeddings."
      ]
    },
    {
      "cell_type": "code",
      "execution_count": 40,
      "id": "bb50e0f7",
      "metadata": {
        "id": "bb50e0f7"
      },
      "outputs": [],
      "source": [
        "# most similar\n",
        "def find_most_similar(word, embeddings_dict, top_n=10):\n",
        "    # get the embedding of the word from the dictionary\n",
        "    v = np.array(embeddings_dict[word])\n",
        "    # initialize an empty list to store the similarities\n",
        "    most_similar = []\n",
        "    # loop through the words and embeddings in the dictionary\n",
        "    for w, vec in embeddings_dict.items():\n",
        "        # skip the word itself\n",
        "        if w == word:\n",
        "            continue\n",
        "        # compute the cosine similarity\n",
        "        sim = np.dot(v, vec) / (np.linalg.norm(v) * np.linalg.norm(vec))\n",
        "        # append the word and the similarity to the list\n",
        "        most_similar.append((w, sim))\n",
        "    # sort the list by the similarity in descending order\n",
        "    most_similar.sort(key=lambda x: x[1], reverse=True)\n",
        "    # return the top n words and their similarities\n",
        "    return most_similar[:top_n]"
      ]
    },
    {
      "cell_type": "markdown",
      "metadata": {},
      "source": [
        "Let's use the `find_most_similar` function to find the most similar words to 'mexico' based on word embeddings."
      ]
    },
    {
      "cell_type": "code",
      "execution_count": 41,
      "id": "7946d712",
      "metadata": {
        "id": "7946d712"
      },
      "outputs": [],
      "source": [
        "most_similar = find_most_similar('mexico', embeddings_dict)"
      ]
    },
    {
      "cell_type": "markdown",
      "metadata": {},
      "source": [
        "Now, let's iterate through the `most_similar` list and print the most similar words to 'mexico'. The result, a list of latin american countries similar to Mexico, proves the most similar words have been found effectively."
      ]
    },
    {
      "cell_type": "code",
      "execution_count": 42,
      "id": "3b6e0ea1",
      "metadata": {
        "colab": {
          "base_uri": "https://localhost:8080/"
        },
        "id": "3b6e0ea1",
        "outputId": "d2874e45-759f-43dd-ea39-41f2eb129de5"
      },
      "outputs": [
        {
          "name": "stdout",
          "output_type": "stream",
          "text": [
            "1 ---> mexican\n",
            "2 ---> venezuela\n",
            "3 ---> colombia\n",
            "4 ---> peru\n",
            "5 ---> chile\n",
            "6 ---> puerto\n",
            "7 ---> rico\n",
            "8 ---> cuba\n",
            "9 ---> guatemala\n",
            "10 ---> panama\n"
          ]
        }
      ],
      "source": [
        "# Iterate through 'most_similar' with an index starting from 1\n",
        "for i, w in enumerate(most_similar, 1):\n",
        "    # Print the index, word, and arrow separator\n",
        "    print(f'{i} ---> {w[0]}')"
      ]
    },
    {
      "cell_type": "markdown",
      "metadata": {},
      "source": [
        "### Conclusions"
      ]
    },
    {
      "cell_type": "markdown",
      "metadata": {},
      "source": [
        "- We were able to use PCA and t-SNE to represent the distributions of terms present in the word embeddings in a two-dimensional space. In both cases, several clusters were identifiable visually, related to countries, food, and terms related to education.\n",
        "\n",
        "- We used a function to complete an analogy between two terms, using a previous as an example, which allowed us to complete the analogy 'queen is to woman, as man is to king'. To do so, we selected the term which, in the embeddings space, presented the most similarity between its representation vector and the vector which satisfied the fact that the sum of the word embeddings between analogies must be the same numerically.\n",
        "\n",
        "- We were able to create a function that took the word 'mexico' and effectively found the ten most similar words present in the GloVe dataset. To do so, we used the cosine similarity and found the 10 closest terms represented in the word embedding space representation."
      ]
    },
    {
      "cell_type": "markdown",
      "metadata": {},
      "source": []
    }
  ],
  "metadata": {
    "colab": {
      "include_colab_link": true,
      "provenance": []
    },
    "kernelspec": {
      "display_name": "Python 3 (ipykernel)",
      "language": "python",
      "name": "python3"
    },
    "language_info": {
      "codemirror_mode": {
        "name": "ipython",
        "version": 3
      },
      "file_extension": ".py",
      "mimetype": "text/x-python",
      "name": "python",
      "nbconvert_exporter": "python",
      "pygments_lexer": "ipython3",
      "version": "3.9.0"
    },
    "varInspector": {
      "cols": {
        "lenName": 16,
        "lenType": 16,
        "lenVar": 40
      },
      "kernels_config": {
        "python": {
          "delete_cmd_postfix": "",
          "delete_cmd_prefix": "del ",
          "library": "var_list.py",
          "varRefreshCmd": "print(var_dic_list())"
        },
        "r": {
          "delete_cmd_postfix": ") ",
          "delete_cmd_prefix": "rm(",
          "library": "var_list.r",
          "varRefreshCmd": "cat(var_dic_list()) "
        }
      },
      "types_to_exclude": [
        "module",
        "function",
        "builtin_function_or_method",
        "instance",
        "_Feature"
      ],
      "window_display": false
    }
  },
  "nbformat": 4,
  "nbformat_minor": 5
}
