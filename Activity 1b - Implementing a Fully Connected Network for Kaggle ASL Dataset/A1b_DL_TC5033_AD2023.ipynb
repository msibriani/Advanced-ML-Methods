{
 "cells": [
  {
   "attachments": {},
   "cell_type": "markdown",
   "metadata": {
    "id": "1c7bad3b-0d0a-47e7-baa9-f6537ab2f38f"
   },
   "source": [
    "![image.png](data:image/png;base64,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)"
   ]
  },
  {
   "cell_type": "markdown",
   "metadata": {},
   "source": [
    "# Maestría en Inteligencia Artificial Aplicada\n",
    "## Curso: Inteligencia Artificial y Aprendizaje Automático\n",
    "### Tecnológico de Monterrey\n",
    "### Prof José Antonio Cantoral Ceballos\n",
    "# Activity 1b\n",
    "## Fully Connected Deep Neural Networks\n",
    "\n",
    "## Team 18\n",
    "Team members\n",
    "\n",
    "> - Francisco Javier Parga García A01794380\n",
    "> - Matthias Sibrian Illescas A01794249\n",
    "> - Enrique Hernández García A01793727\n",
    "> - Alejandro Tomás Mackey A01164338"
   ]
  },
  {
   "cell_type": "markdown",
   "metadata": {},
   "source": [
    "# TC 5033\n",
    "## Deep Learning\n",
    "## Fully Connected Deep Neural Networks\n",
    "\n",
    "#### Activity 1b: Implementing a Fully Connected Network for Kaggle ASL Dataset\n",
    "\n",
    "- Objective\n",
    "\n",
    "The aim of this part of the activity is to apply your understanding of Fully Connected Networks by implementing a multilayer network for the [Kaggle ASL (American Sign Language) dataset](https://www.kaggle.com/datasets/grassknoted/asl-alphabet). While you have been provided with a complete solution for a Fully Connected Network using Numpy for the MNIST dataset, you are encouraged to try to come up with the solution.\n",
    "\n",
    "- Instructions\n",
    "\n",
    "    This activity requires submission in teams of 3 or 4 members. Submissions from smaller or larger teams will not be accepted unless prior approval has been granted (only due to exceptional circumstances). While teamwork is encouraged, each member is expected to contribute individually to the assignment. The final submission should feature the best arguments and solutions from each team member. Only one person per team needs to submit the completed work, but it is imperative that the names of all team members are listed in a Markdown cell at the very beginning of the notebook (either the first or second cell). Failure to include all team member names will result in the grade being awarded solely to the individual who submitted the assignment, with zero points given to other team members (no exceptions will be made to this rule).\n",
    "\n",
    "    Load and Preprocess Data: You are provided a starter code to load the data. Be sure to understand the code.\n",
    "\n",
    "    Review MNIST Notebook (Optional): Before diving into this activity, you have the option to revisit the MNIST example to refresh your understanding of how to build a Fully Connected Network using Numpy.\n",
    "\n",
    "    Start Fresh: Although you can refer to the MNIST solution at any point, try to implement the network for the ASL dataset on your own. This will reinforce your learning and understanding of the architecture and mathematics involved.\n",
    "\n",
    "    Implement Forward and Backward Pass: Write the code to perform the forward and backward passes, keeping in mind the specific challenges and characteristics of the ASL dataset.\n",
    "    \n",
    "     Design the Network: Create the architecture of the Fully Connected Network tailored for the ASL dataset. Choose the number of hidden layers, neurons, and hyperparameters judiciously.\n",
    "\n",
    "    Train the Model: Execute the training loop, ensuring to track performance metrics such as loss and accuracy.\n",
    "\n",
    "    Analyze and Document: Use Markdown cells to document in detail the choices you made in terms of architecture and hyperparameters, you may use figures, equations, etc to aid in your explanations. Include any metrics that help justify these choices and discuss the model's performance.  \n",
    "\n",
    "- Evaluation Criteria\n",
    "\n",
    "    - Code Readability and Comments\n",
    "    - Appropriateness of chosen architecture and hyperparameters for the ASL dataset\n",
    "    - Performance of the model on the ASL dataset (at least 70% acc)\n",
    "    - Quality of Markdown documentation\n",
    "\n",
    "- Submission\n",
    "\n",
    "Submit this Jupyter Notebook in canvas with your complete solution, ensuring your code is well-commented and includes Markdown cells that explain your design choices, results, and any challenges you encountered.\n"
   ]
  },
  {
   "cell_type": "code",
   "execution_count": 1,
   "metadata": {},
   "outputs": [],
   "source": [
    "import numpy as np\n",
    "import string\n",
    "import pandas as pd\n",
    "import matplotlib.pyplot as plt\n",
    "import cv2 as cv\n",
    "import os\n",
    "\n",
    "%load_ext autoreload\n",
    "%autoreload 2\n",
    "#################################\n",
    "%matplotlib inline\n"
   ]
  },
  {
   "cell_type": "code",
   "execution_count": 2,
   "metadata": {},
   "outputs": [],
   "source": [
    "DATA_PATH = 'asl_data'\n",
    "train_df = pd.read_csv(os.path.join(DATA_PATH, 'sign_mnist_train.csv'))\n",
    "valid_df = pd.read_csv(os.path.join(DATA_PATH, 'sign_mnist_valid.csv'))"
   ]
  },
  {
   "cell_type": "code",
   "execution_count": 3,
   "metadata": {},
   "outputs": [
    {
     "data": {
      "text/html": [
       "<div>\n",
       "<style scoped>\n",
       "    .dataframe tbody tr th:only-of-type {\n",
       "        vertical-align: middle;\n",
       "    }\n",
       "\n",
       "    .dataframe tbody tr th {\n",
       "        vertical-align: top;\n",
       "    }\n",
       "\n",
       "    .dataframe thead th {\n",
       "        text-align: right;\n",
       "    }\n",
       "</style>\n",
       "<table border=\"1\" class=\"dataframe\">\n",
       "  <thead>\n",
       "    <tr style=\"text-align: right;\">\n",
       "      <th></th>\n",
       "      <th>label</th>\n",
       "      <th>pixel1</th>\n",
       "      <th>pixel2</th>\n",
       "      <th>pixel3</th>\n",
       "      <th>pixel4</th>\n",
       "      <th>pixel5</th>\n",
       "      <th>pixel6</th>\n",
       "      <th>pixel7</th>\n",
       "      <th>pixel8</th>\n",
       "      <th>pixel9</th>\n",
       "      <th>...</th>\n",
       "      <th>pixel775</th>\n",
       "      <th>pixel776</th>\n",
       "      <th>pixel777</th>\n",
       "      <th>pixel778</th>\n",
       "      <th>pixel779</th>\n",
       "      <th>pixel780</th>\n",
       "      <th>pixel781</th>\n",
       "      <th>pixel782</th>\n",
       "      <th>pixel783</th>\n",
       "      <th>pixel784</th>\n",
       "    </tr>\n",
       "  </thead>\n",
       "  <tbody>\n",
       "    <tr>\n",
       "      <th>0</th>\n",
       "      <td>3</td>\n",
       "      <td>107</td>\n",
       "      <td>118</td>\n",
       "      <td>127</td>\n",
       "      <td>134</td>\n",
       "      <td>139</td>\n",
       "      <td>143</td>\n",
       "      <td>146</td>\n",
       "      <td>150</td>\n",
       "      <td>153</td>\n",
       "      <td>...</td>\n",
       "      <td>207</td>\n",
       "      <td>207</td>\n",
       "      <td>207</td>\n",
       "      <td>207</td>\n",
       "      <td>206</td>\n",
       "      <td>206</td>\n",
       "      <td>206</td>\n",
       "      <td>204</td>\n",
       "      <td>203</td>\n",
       "      <td>202</td>\n",
       "    </tr>\n",
       "    <tr>\n",
       "      <th>1</th>\n",
       "      <td>6</td>\n",
       "      <td>155</td>\n",
       "      <td>157</td>\n",
       "      <td>156</td>\n",
       "      <td>156</td>\n",
       "      <td>156</td>\n",
       "      <td>157</td>\n",
       "      <td>156</td>\n",
       "      <td>158</td>\n",
       "      <td>158</td>\n",
       "      <td>...</td>\n",
       "      <td>69</td>\n",
       "      <td>149</td>\n",
       "      <td>128</td>\n",
       "      <td>87</td>\n",
       "      <td>94</td>\n",
       "      <td>163</td>\n",
       "      <td>175</td>\n",
       "      <td>103</td>\n",
       "      <td>135</td>\n",
       "      <td>149</td>\n",
       "    </tr>\n",
       "    <tr>\n",
       "      <th>2</th>\n",
       "      <td>2</td>\n",
       "      <td>187</td>\n",
       "      <td>188</td>\n",
       "      <td>188</td>\n",
       "      <td>187</td>\n",
       "      <td>187</td>\n",
       "      <td>186</td>\n",
       "      <td>187</td>\n",
       "      <td>188</td>\n",
       "      <td>187</td>\n",
       "      <td>...</td>\n",
       "      <td>202</td>\n",
       "      <td>201</td>\n",
       "      <td>200</td>\n",
       "      <td>199</td>\n",
       "      <td>198</td>\n",
       "      <td>199</td>\n",
       "      <td>198</td>\n",
       "      <td>195</td>\n",
       "      <td>194</td>\n",
       "      <td>195</td>\n",
       "    </tr>\n",
       "    <tr>\n",
       "      <th>3</th>\n",
       "      <td>2</td>\n",
       "      <td>211</td>\n",
       "      <td>211</td>\n",
       "      <td>212</td>\n",
       "      <td>212</td>\n",
       "      <td>211</td>\n",
       "      <td>210</td>\n",
       "      <td>211</td>\n",
       "      <td>210</td>\n",
       "      <td>210</td>\n",
       "      <td>...</td>\n",
       "      <td>235</td>\n",
       "      <td>234</td>\n",
       "      <td>233</td>\n",
       "      <td>231</td>\n",
       "      <td>230</td>\n",
       "      <td>226</td>\n",
       "      <td>225</td>\n",
       "      <td>222</td>\n",
       "      <td>229</td>\n",
       "      <td>163</td>\n",
       "    </tr>\n",
       "    <tr>\n",
       "      <th>4</th>\n",
       "      <td>12</td>\n",
       "      <td>164</td>\n",
       "      <td>167</td>\n",
       "      <td>170</td>\n",
       "      <td>172</td>\n",
       "      <td>176</td>\n",
       "      <td>179</td>\n",
       "      <td>180</td>\n",
       "      <td>184</td>\n",
       "      <td>185</td>\n",
       "      <td>...</td>\n",
       "      <td>92</td>\n",
       "      <td>105</td>\n",
       "      <td>105</td>\n",
       "      <td>108</td>\n",
       "      <td>133</td>\n",
       "      <td>163</td>\n",
       "      <td>157</td>\n",
       "      <td>163</td>\n",
       "      <td>164</td>\n",
       "      <td>179</td>\n",
       "    </tr>\n",
       "  </tbody>\n",
       "</table>\n",
       "<p>5 rows × 785 columns</p>\n",
       "</div>"
      ],
      "text/plain": [
       "   label  pixel1  pixel2  pixel3  pixel4  pixel5  pixel6  pixel7  pixel8   \n",
       "0      3     107     118     127     134     139     143     146     150  \\\n",
       "1      6     155     157     156     156     156     157     156     158   \n",
       "2      2     187     188     188     187     187     186     187     188   \n",
       "3      2     211     211     212     212     211     210     211     210   \n",
       "4     12     164     167     170     172     176     179     180     184   \n",
       "\n",
       "   pixel9  ...  pixel775  pixel776  pixel777  pixel778  pixel779  pixel780   \n",
       "0     153  ...       207       207       207       207       206       206  \\\n",
       "1     158  ...        69       149       128        87        94       163   \n",
       "2     187  ...       202       201       200       199       198       199   \n",
       "3     210  ...       235       234       233       231       230       226   \n",
       "4     185  ...        92       105       105       108       133       163   \n",
       "\n",
       "   pixel781  pixel782  pixel783  pixel784  \n",
       "0       206       204       203       202  \n",
       "1       175       103       135       149  \n",
       "2       198       195       194       195  \n",
       "3       225       222       229       163  \n",
       "4       157       163       164       179  \n",
       "\n",
       "[5 rows x 785 columns]"
      ]
     },
     "execution_count": 3,
     "metadata": {},
     "output_type": "execute_result"
    }
   ],
   "source": [
    "train_df.head()"
   ]
  },
  {
   "cell_type": "markdown",
   "metadata": {},
   "source": [
    "### Importar Images"
   ]
  },
  {
   "cell_type": "code",
   "execution_count": 4,
   "metadata": {},
   "outputs": [],
   "source": [
    "y_train = np.array(train_df['label'])\n",
    "y_val = np.array(valid_df['label'])\n",
    "del train_df['label']\n",
    "del valid_df['label']\n",
    "x_train = train_df.values.astype(np.float32)\n",
    "x_val = valid_df.values.astype(np.float32)"
   ]
  },
  {
   "cell_type": "code",
   "execution_count": 5,
   "metadata": {},
   "outputs": [
    {
     "data": {
      "text/plain": [
       "(7172, 784)"
      ]
     },
     "execution_count": 5,
     "metadata": {},
     "output_type": "execute_result"
    }
   ],
   "source": [
    "x_val.shape"
   ]
  },
  {
   "cell_type": "code",
   "execution_count": 6,
   "metadata": {
    "code_folding": []
   },
   "outputs": [],
   "source": [
    "def split_val_test(x, y, pct=0.5, shuffle=True):\n",
    "    '''\n",
    "    This function splits a dataset (x, y) into validation and test sets.\n",
    "    The validation set size is determined by the pct parameter, which is the percentage of the original dataset size.\n",
    "    The shuffle parameter controls whether to randomly select the validation set or take the first pct fraction of the dataset.\n",
    "    The function returns four arrays: x_validation, y_validation, x_test, and y_test.\n",
    "    '''\n",
    "\n",
    "    # Calculate the number of indexes to select for the validation set\n",
    "    number_of_indexes_to_select = int(x.shape[0]*pct)\n",
    "\n",
    "    if shuffle:\n",
    "        # Randomly select indexes for the validation set without replacement\n",
    "        indexes_list = np.random.choice(range(x.shape[0]),\n",
    "                                        number_of_indexes_to_select, \n",
    "                                        replace=False)\n",
    "    else:\n",
    "        # Select the first pct fraction of indexes for the validation set\n",
    "        indexes_list = list(range(number_of_indexes_to_select))\n",
    "\n",
    "    # Find the complement of the indexes list, which are the indexes for the test set\n",
    "    complement = [index for index in range(x.shape[0]) if index not in indexes_list]\n",
    "\n",
    "    # Slice the x and y arrays according to the indexes lists\n",
    "    x_validation = x[indexes_list]\n",
    "    y_validation = y[indexes_list]\n",
    "\n",
    "    x_test = x[complement]\n",
    "    y_test = y[complement]\n",
    "        \n",
    "    # Return the validation and test sets\n",
    "    return x_validation, y_validation, x_test, y_test"
   ]
  },
  {
   "cell_type": "code",
   "execution_count": 7,
   "metadata": {},
   "outputs": [],
   "source": [
    "x_val, y_val, x_test, y_test = split_val_test(x_val, y_val)"
   ]
  },
  {
   "cell_type": "code",
   "execution_count": 8,
   "metadata": {},
   "outputs": [
    {
     "name": "stdout",
     "output_type": "stream",
     "text": [
      "24\n"
     ]
    }
   ],
   "source": [
    "### The following\n",
    "\n",
    "alphabet=list(string.ascii_lowercase)\n",
    "alphabet.remove('j')\n",
    "alphabet.remove('z')\n",
    "print(len(alphabet))"
   ]
  },
  {
   "cell_type": "markdown",
   "metadata": {},
   "source": [
    "To review the alphabet with the classes, the class and letter are mapped based on the data from the train and the alphabet"
   ]
  },
  {
   "cell_type": "code",
   "execution_count": 9,
   "metadata": {},
   "outputs": [
    {
     "data": {
      "text/plain": [
       "{0: 'a',\n",
       " 1: 'b',\n",
       " 2: 'c',\n",
       " 3: 'd',\n",
       " 4: 'e',\n",
       " 5: 'f',\n",
       " 6: 'g',\n",
       " 7: 'h',\n",
       " 8: 'i',\n",
       " 9: 'k',\n",
       " 10: 'l',\n",
       " 11: 'm',\n",
       " 12: 'n',\n",
       " 13: 'o',\n",
       " 14: 'p',\n",
       " 15: 'q',\n",
       " 16: 'r',\n",
       " 17: 's',\n",
       " 18: 't',\n",
       " 19: 'u',\n",
       " 20: 'v',\n",
       " 21: 'w',\n",
       " 22: 'x',\n",
       " 23: 'y'}"
      ]
     },
     "execution_count": 9,
     "metadata": {},
     "output_type": "execute_result"
    }
   ],
   "source": [
    "alphabet_dictionary = dict(zip(np.unique(y_train), alphabet))\n",
    "alphabet_dictionary"
   ]
  },
  {
   "cell_type": "markdown",
   "metadata": {},
   "source": [
    "### Normalise"
   ]
  },
  {
   "cell_type": "markdown",
   "metadata": {},
   "source": [
    "Normalisation is a common technique to scale the data to have zero mean and unit variance, which can improve the performance of some machine learning algorithms."
   ]
  },
  {
   "cell_type": "code",
   "execution_count": 10,
   "metadata": {},
   "outputs": [],
   "source": [
    "def normalise(x_mean, x_std, x_data):\n",
    "    '''\n",
    "    This function normalises the data (x_data) by subtracting the mean (x_mean) and dividing by the standard deviation (x_std).\n",
    "    The function returns a new array with the normalised data.\n",
    "    '''\n",
    "\n",
    "    # Perform element-wise subtraction and division\n",
    "    return (x_data - x_mean) / x_std"
   ]
  },
  {
   "cell_type": "code",
   "execution_count": 11,
   "metadata": {},
   "outputs": [],
   "source": [
    "x_mean = x_train.mean()\n",
    "x_std = x_train.std()\n",
    "\n",
    "x_train = normalise(x_mean, x_std, x_train)\n",
    "x_val = normalise(x_mean, x_std, x_val)\n",
    "x_test = normalise(x_mean, x_std, x_test)"
   ]
  },
  {
   "cell_type": "markdown",
   "metadata": {},
   "source": [
    "### Graficar muestras"
   ]
  },
  {
   "cell_type": "markdown",
   "metadata": {},
   "source": [
    "Since this an image problem, it would be good to have a tool to display the date we are dealing with."
   ]
  },
  {
   "cell_type": "code",
   "execution_count": 12,
   "metadata": {},
   "outputs": [],
   "source": [
    "def plot_number(image):\n",
    "    '''\n",
    "    This function plots a single image (image) as a grayscale figure with a size of 3 by 3 inches.\n",
    "    The function squeezes the image to remove any singleton dimensions, such as the color channel for grayscale images.\n",
    "    The function uses the matplotlib library to create and display the figure.\n",
    "    '''\n",
    "\n",
    "    # Create a figure with a specified size\n",
    "    plt.figure(figsize=(3,3))\n",
    "    # Plot the image as grayscale, squeezing any singleton dimensions\n",
    "    plt.imshow(image.squeeze(), cmap=plt.get_cmap('gray'))\n",
    "    # Turn off the axis labels and ticks\n",
    "    plt.axis('off')\n",
    "    # Show the figure on the screen\n",
    "    plt.show()"
   ]
  },
  {
   "cell_type": "code",
   "execution_count": 13,
   "metadata": {},
   "outputs": [
    {
     "name": "stdout",
     "output_type": "stream",
     "text": [
      "La imagen seleccionada representa la letra: c\n"
     ]
    },
    {
     "data": {
      "image/png": "[encoded data removed]",
      "text/plain": [
       "<Figure size 300x300 with 1 Axes>"
      ]
     },
     "metadata": {},
     "output_type": "display_data"
    }
   ],
   "source": [
    "rnd_idx = np.random.randint(len(y_test))\n",
    "print(f'La imagen seleccionada representa la letra: {alphabet_dictionary.get(y_test[rnd_idx])}')\n",
    "plot_number(x_test[rnd_idx].reshape(28,28))"
   ]
  },
  {
   "cell_type": "markdown",
   "metadata": {},
   "source": [
    "### Ecuaciones para nuestro modelo\n",
    "\n",
    "$$z^1 = W^1 X + b^1$$\n",
    "\n",
    ">  The previus equation computes the input to the hidden layer from the original input data X. Here, W^1 is a matrix of weights that connects each input feature to each hidden unit, b^1 is a vector of biases that adds an offset to each hidden unit, and z^1 is a vector of linear combinations of the input features.\n",
    "\n",
    "\n",
    "\n",
    "$$a^1 = ReLU(z^1) $$\n",
    "\n",
    "> This one computes the output of the hidden layer by applying an activation function to the input z^1. ReLU is a common activation function that returns the positive part of its argument, i.e., ReLU(x) = max(0, x). This function introduces non-linearity to the model and allows it to learn complex patterns from the data.\n",
    "\n",
    "\n",
    "\n",
    "$$z^2 = W^2 a^1 + b^2$$\n",
    "\n",
    "> The third equation computes the input to the output layer from the output of the hidden layer a^1. Here, W^2 is a matrix of weights that connects each hidden unit to each output unit, b^2 is a vector of biases that adds an offset to each output unit, and z^2 is a vector of linear combinations of the hidden units.\n",
    "\n",
    "$$\\hat{y} = \\frac{e^{z^{2_k}}}{\\sum_j{e^{z_j}}}$$\n",
    "\n",
    "> This equation computes the output of the output layer by applying a softmax function to the input z^2. Here, \\hat{y} is a vector of probabilities that sum up to one, and each element \\hat{y}_k represents the probability of the input X belonging to class k. The softmax function normalizes the input z_2 by exponentiating each element and dividing by the sum of all exponentials. This function is useful for multi-class classification problems where the output can belong to one of several possible classes.\n",
    "\n",
    "$$ \\mathcal{L}(\\hat{y}^{i}, y^{i}) =  - y^{i}  \\ln(\\hat{y}^{i}) = -\\ln(\\hat{y}^i)$$\n",
    "\n",
    "> The fifth equation computes the loss function for a single training example (X_i, y_i). Here, y_i is a vector of true labels that indicates which class the input X_i belongs to, and \\hat{y}_i is a vector of predicted probabilities from the output layer. The loss function is called cross-entropy loss and it measures how well the model predicts the true labels. The loss function is negative because we want to minimize it, and it is equal to the negative logarithm of the predicted probability for the true class.\n",
    "\n",
    "\n",
    "$$ \\mathcal{J}(w, b) =  \\frac{1}{num\\_samples} \\sum_{i=1}^{num\\_samples}-\\ln(\\hat{y}^{i})$$\n",
    "\n",
    "> The final equation computes the average loss function over all training examples. Here, num_samples is the number of training examples, w and b are the parameters of the model (the weights and biases), and \\mathcal{J}(w, b) is called the cost function or objective function. The goal of training a neural network is to find the optimal values of w and b that minimize this cost function."
   ]
  },
  {
   "cell_type": "markdown",
   "metadata": {},
   "source": [
    "### Funciones adicionales"
   ]
  },
  {
   "cell_type": "markdown",
   "metadata": {},
   "source": [
    "#### Mini batches"
   ]
  },
  {
   "cell_type": "markdown",
   "metadata": {},
   "source": [
    "A mini-batch is a subset of the dataset that is used to update the model parameters in gradient descent algorithms"
   ]
  },
  {
   "cell_type": "code",
   "execution_count": 14,
   "metadata": {},
   "outputs": [],
   "source": [
    "def create_minibatches(mb_size, x, y, shuffle = True):\n",
    "    '''\n",
    "    This function creates mini-batches of data from the original dataset (x, y).\n",
    "    The mb_size parameter determines the size of each mini-batch.\n",
    "    The shuffle parameter controls whether to randomly shuffle the dataset before creating the mini-batches.\n",
    "    The function returns a generator object that yields tuples of (x_mini, y_mini) for each mini-batch.\n",
    "    '''\n",
    "\n",
    "    # Check that the number of samples in x and y are equal\n",
    "    assert x.shape[0] == y.shape[0], 'Error en cantidad de muestras'\n",
    "    # Get the total number of samples in the dataset\n",
    "    total_data = x.shape[0]\n",
    "    if shuffle: \n",
    "        # Create an array of indexes from 0 to total_data - 1\n",
    "        idxs = np.arange(total_data)\n",
    "        # Randomly shuffle the indexes\n",
    "        np.random.shuffle(idxs)\n",
    "        # Reorder x and y according to the shuffled indexes\n",
    "        x = x[idxs]\n",
    "        y = y[idxs]  \n",
    "    # Loop over the dataset with a step size of mb_size\n",
    "    for i in range(0, total_data, mb_size):\n",
    "        # Yield a tuple of (x_mini, y_mini) for each mini-batch\n",
    "        yield (x[i:i+mb_size], y[i:i+mb_size])"
   ]
  },
  {
   "cell_type": "markdown",
   "metadata": {},
   "source": [
    "To make sure the mini batches generator, here we test a 32 batch"
   ]
  },
  {
   "cell_type": "code",
   "execution_count": 15,
   "metadata": {},
   "outputs": [
    {
     "data": {
      "text/plain": [
       "((32, 784), (32,))"
      ]
     },
     "execution_count": 15,
     "metadata": {},
     "output_type": "execute_result"
    }
   ],
   "source": [
    "mini_batch = create_minibatches(32, x_train, y_train, shuffle = True)\n",
    "x_batch, y_batch = [batch for batch in mini_batch][0]\n",
    "x_batch.shape, y_batch.shape"
   ]
  },
  {
   "cell_type": "markdown",
   "metadata": {},
   "source": [
    "## Nuestra clase Linear, ReLU y Sequential"
   ]
  },
  {
   "cell_type": "markdown",
   "metadata": {},
   "source": [
    "Using numpy, we create a  subclass of the NumPy ndarray class, which is a multidimensional array object that can store homogeneous data of fixed size"
   ]
  },
  {
   "cell_type": "code",
   "execution_count": 16,
   "metadata": {},
   "outputs": [],
   "source": [
    "class np_tensor(np.ndarray):\n",
    "    '''\n",
    "    Custom subclass from a ndarray\n",
    "    '''\n",
    "    def __new__(cls, input_array, name=\"np_tensor\"):\n",
    "        # Input array is an already formed ndarray instance\n",
    "        # We first cast to be our class type\n",
    "        obj = np.asarray(input_array).view(cls)\n",
    "        # Add the new attribute to the created instance\n",
    "        obj.name = name\n",
    "        # Finally, we must return the newly created object\n",
    "        return obj"
   ]
  },
  {
   "cell_type": "markdown",
   "metadata": {},
   "source": [
    "The view method takes an optional dtype or type argument that specifies the data-type or the type of the returned view. Here we are passing the type argument as np_tensor, which means that the view will have the same data-type as a, but it will be an instance of np_tensor instead of ndarray. This allows you to customize your array type with some added or modified functionality."
   ]
  },
  {
   "cell_type": "code",
   "execution_count": 22,
   "metadata": {},
   "outputs": [],
   "source": [
    "a = np.array([0, 0])\n",
    "b = a.view(np_tensor)"
   ]
  },
  {
   "cell_type": "code",
   "execution_count": 23,
   "metadata": {},
   "outputs": [
    {
     "data": {
      "text/plain": [
       "numpy.ndarray"
      ]
     },
     "execution_count": 23,
     "metadata": {},
     "output_type": "execute_result"
    }
   ],
   "source": [
    "type(a)"
   ]
  },
  {
   "cell_type": "code",
   "execution_count": 24,
   "metadata": {},
   "outputs": [
    {
     "data": {
      "text/plain": [
       "__main__.np_tensor"
      ]
     },
     "execution_count": 24,
     "metadata": {},
     "output_type": "execute_result"
    }
   ],
   "source": [
    "type(b)"
   ]
  },
  {
   "cell_type": "code",
   "execution_count": 25,
   "metadata": {},
   "outputs": [
    {
     "data": {
      "text/plain": [
       "np_tensor([ True,  True])"
      ]
     },
     "execution_count": 25,
     "metadata": {},
     "output_type": "execute_result"
    }
   ],
   "source": [
    "a == b"
   ]
  },
  {
   "cell_type": "code",
   "execution_count": 26,
   "metadata": {},
   "outputs": [
    {
     "data": {
      "text/plain": [
       "False"
      ]
     },
     "execution_count": 26,
     "metadata": {},
     "output_type": "execute_result"
    }
   ],
   "source": [
    "a is b"
   ]
  },
  {
   "cell_type": "markdown",
   "metadata": {},
   "source": [
    "###  Clase Linear"
   ]
  },
  {
   "cell_type": "markdown",
   "metadata": {},
   "source": [
    "A linear layer is a basic building block of neural networks that performs a linear transformation of the input data"
   ]
  },
  {
   "cell_type": "code",
   "execution_count": 27,
   "metadata": {},
   "outputs": [],
   "source": [
    "class Linear():\n",
    "    def __init__(self, input_size, output_size):\n",
    "        '''\n",
    "        This method initializes the parameters of the linear layer using Kaiming He initialization.\n",
    "        The input_size parameter is the number of features in the input data.\n",
    "        The output_size parameter is the number of features in the output data.\n",
    "        The self.W attribute is a weight matrix of shape (output_size, input_size) that connects the input and output features.\n",
    "        The self.b attribute is a bias vector of shape (output_size, 1) that adds an offset to the output features.\n",
    "        The self.W and self.b attributes are instances of np_tensor, which is a subclass of np.ndarray with some added functionality.\n",
    "        '''\n",
    "        # Initialize the weight matrix using Kaiming He initialization\n",
    "        self.W = (np.random.randn(output_size, input_size) / np.sqrt(input_size/2)).view(np_tensor)\n",
    "        # Initialize the bias vector with zeros\n",
    "        self.b = (np.zeros((output_size, 1))).view(np_tensor)\n",
    "        \n",
    "    def __call__(self, X): # esta el foward de la clase lineal\n",
    "        '''\n",
    "        This method performs the forward pass of the linear layer, i.e., it computes the output of the layer given the input data.\n",
    "        The X parameter is a matrix of shape (input_size, batch_size) that contains the input data for a batch of samples.\n",
    "        The method returns a matrix Z of shape (output_size, batch_size) that contains the output data for the same batch of samples.\n",
    "        '''\n",
    "        # Compute the linear transformation Z = W @ X + b\n",
    "        Z = self.W @ X + self.b\n",
    "        return Z\n",
    "        \n",
    "    def backward(self, X, Z):\n",
    "        '''\n",
    "        This method performs the backward pass of the linear layer, i.e., it computes the gradients of the parameters and the input data given the output data and its gradients.\n",
    "        The X parameter is a matrix of shape (input_size, batch_size) that contains the input data for a batch of samples.\n",
    "        The Z parameter is a matrix of shape (output_size, batch_size) that contains the output data for the same batch of samples.\n",
    "        The Z.grad attribute is a matrix of shape (output_size, batch_size) that contains the gradients of the output data with respect to some loss function.\n",
    "        The method updates the following attributes:\n",
    "            - X.grad: a matrix of shape (input_size, batch_size) that contains the gradients of the input data with respect to the same loss function.\n",
    "            - W.grad: a matrix of shape (output_size, input_size) that contains the gradients of the weight matrix with respect to the same loss function.\n",
    "            - b.grad: a vector of shape (output_size, 1) that contains the gradients of the bias vector with respect to the same loss function.\n",
    "        The method does not return anything, but modifies the attributes in-place.\n",
    "        '''\n",
    "        # Compute the gradient of the input data using the chain rule: X.grad = W.T @ Z.grad\n",
    "        X.grad = self.W.T @ Z.grad\n",
    "        # Compute the gradient of the weight matrix using the chain rule: W.grad = Z.grad @ X.T\n",
    "        self.W.grad = Z.grad @ X.T\n",
    "        # Compute the gradient of the bias vector using the chain rule: b.grad = sum(Z.grad, axis = 1, keepdims=True)\n",
    "        self.b.grad = np.sum(Z.grad, axis = 1, keepdims=True)"
   ]
  },
  {
   "cell_type": "markdown",
   "metadata": {},
   "source": [
    "### Clase ReLU"
   ]
  },
  {
   "cell_type": "markdown",
   "metadata": {},
   "source": [
    "The ReLU activation function or ReLU for short is a piecewise linear function that will output the input directly if it is positive, otherwise, it will output zero. It has become the default activation function for many types of neural networks because a model that uses it is easier to train and often achieves better performance"
   ]
  },
  {
   "cell_type": "code",
   "execution_count": 28,
   "metadata": {},
   "outputs": [],
   "source": [
    "class ReLU():\n",
    "    def __call__(self, Z):\n",
    "        '''\n",
    "        This method performs the forward pass of the ReLU activation function, i.e., it computes the output of the function given the input data.\n",
    "        The Z parameter is a matrix or vector that contains the input data, which can be either positive or negative.\n",
    "        The method returns a matrix or vector with the same shape as Z that contains the output data, which is either Z or zero depending on the sign of Z.\n",
    "        '''\n",
    "        # Use the numpy maximum function to compare Z with zero and return the larger value element-wise\n",
    "        return np.maximum(0, Z)\n",
    "        \n",
    "    def backward(self, Z, A):\n",
    "        '''\n",
    "        This method performs the backward pass of the ReLU activation function, i.e., it computes the gradient of the input data given the output data and its gradient.\n",
    "        The Z parameter is a matrix or vector that contains the input data, which can be either positive or negative.\n",
    "        The A parameter is a matrix or vector that contains the output data, which is either Z or zero depending on the sign of Z.\n",
    "        The A.grad attribute is a matrix or vector that contains the gradient of the output data with respect to some loss function.\n",
    "        The method updates the following attribute:\n",
    "            - Z.grad: a matrix or vector that contains the gradient of the input data with respect to the same loss function.\n",
    "        The method does not return anything, but modifies the attribute in-place.\n",
    "        '''\n",
    "        # Copy the gradient of the output data to the gradient of the input data\n",
    "        Z.grad = A.grad.copy()\n",
    "        # Set the gradient of the input data to zero where Z is negative or zero\n",
    "        Z.grad[Z <= 0] = 0"
   ]
  },
  {
   "cell_type": "markdown",
   "metadata": {},
   "source": [
    "### Clase Sequential"
   ]
  },
  {
   "cell_type": "markdown",
   "metadata": {},
   "source": [
    "A sequential model is a type of neural network that consists of a linear stack of layers, where each layer has one input and one output"
   ]
  },
  {
   "cell_type": "code",
   "execution_count": 29,
   "metadata": {},
   "outputs": [],
   "source": [
    "class Sequential_layers():\n",
    "    def __init__(self, layers):\n",
    "        '''\n",
    "        This method initializes the sequential model with a list of layers.\n",
    "        The layers parameter is a list that contains objects of type Linear or ReLU, which are custom classes that implement linear and activation layers respectively.\n",
    "        The self.layers attribute stores the list of layers in the model.\n",
    "        The self.x attribute stores the input or output data for each layer.\n",
    "        The self.outputs attribute stores a dictionary that maps each layer name to its output data.\n",
    "        '''\n",
    "        self.layers = layers\n",
    "        self.x = None\n",
    "        self.outputs = {}\n",
    "    def __call__(self, X):\n",
    "        '''\n",
    "        This method performs the forward pass of the sequential model, i.e., it computes the output of the model given the input data.\n",
    "        The X parameter is a matrix or vector that contains the input data for a batch of samples.\n",
    "        The method returns a matrix or vector that contains the output data for the same batch of samples.\n",
    "        The method also updates the self.outputs dictionary with the output data for each layer.\n",
    "        '''\n",
    "        # Set the input data as self.x\n",
    "        self.x = X \n",
    "        # Store the input data as the output of layer 0\n",
    "        self.outputs['l0'] = self.x\n",
    "        # Loop over the layers in the model\n",
    "        for i, layer in enumerate(self.layers, 1):\n",
    "            # Call each layer on self.x and update self.x with the output\n",
    "            self.x = layer(self.x)\n",
    "            # Store the output data as the output of layer i\n",
    "            self.outputs['l'+str(i)]=self.x\n",
    "        # Return the final output data\n",
    "        return self.x\n",
    "    def backward(self):\n",
    "        '''\n",
    "        This method performs the backward pass of the sequential model, i.e., it computes the gradients of the parameters and the input data for each layer given the output data and its gradients.\n",
    "        The method does not take any parameters, but assumes that the output data and its gradients are stored in the self.outputs dictionary.\n",
    "        The method updates each layer with its gradients by calling its backward method.\n",
    "        '''\n",
    "        # Loop over the layers in reverse order\n",
    "        for i in reversed(range(len(self.layers))):\n",
    "            # Call each layer's backward method with its input and output data from the self.outputs dictionary\n",
    "            self.layers[i].backward(self.outputs['l'+str(i)], self.outputs['l'+str(i+1)])\n",
    "    def update(self, learning_rate = 1e-3):\n",
    "        '''\n",
    "        This method updates the parameters of each linear layer in the model using gradient descent.\n",
    "        The learning_rate parameter is a positive scalar that controls the step size of gradient descent.\n",
    "        The method does not return anything, but modifies the parameters in-place.\n",
    "        '''\n",
    "        # Loop over the layers in the model\n",
    "        for layer in self.layers:\n",
    "            # Skip if the layer is not a linear layer\n",
    "            if isinstance(layer, ReLU): continue\n",
    "            # Update each parameter by subtracting its gradient times the learning rate\n",
    "            layer.W = layer.W - learning_rate * layer.W.grad\n",
    "            layer.b = layer.b - learning_rate * layer.b.grad\n",
    "    def predict(self, X):\n",
    "        '''\n",
    "        This method predicts the class label for each sample in the input data using the sequential model.\n",
    "        The X parameter is a matrix or vector that contains the input data for a batch of samples.\n",
    "        The method returns a vector that contains the predicted class label for each sample, which is obtained by taking the index of the maximum value in the output vector.\n",
    "        '''\n",
    "        # Perform a forward pass on X and get the output vector\n",
    "        output = self.__call__(X)\n",
    "        # Return the index of the maximum value in each row as a vector\n",
    "        return np.argmax(output)"
   ]
  },
  {
   "cell_type": "markdown",
   "metadata": {},
   "source": [
    "### Cost Function"
   ]
  },
  {
   "cell_type": "markdown",
   "metadata": {},
   "source": [
    " The softmax cross entropy loss function is a common loss function for multiclass classification problems, where the output can belong to one of several possible classes"
   ]
  },
  {
   "cell_type": "code",
   "execution_count": 30,
   "metadata": {},
   "outputs": [],
   "source": [
    "def softmaxXEntropy(x, y):\n",
    "    '''\n",
    "    This function computes the softmax cross entropy loss and its gradient given the input scores and the true labels.\n",
    "    The x parameter is a matrix of shape (n_classes, batch_size) that contains the raw scores (logits) for each class and each sample in a batch.\n",
    "    The y parameter is a vector of shape (batch_size,) that contains the true labels for each sample in a batch, encoded as integers from 0 to n_classes - 1.\n",
    "    The function returns a tuple of (preds, cost), where preds is a matrix of shape (n_classes, batch_size) that contains the predicted probabilities for each class and each sample, and cost is a scalar that contains the average loss value for the batch.\n",
    "    The function also updates the following attribute:\n",
    "        - x.grad: a matrix of shape (n_classes, batch_size) that contains the gradient of the input scores with respect to the loss function.\n",
    "    '''\n",
    "\n",
    "    # Get the batch size from the shape of x\n",
    "    batch_size = x.shape[1]\n",
    "    # Apply the exponential function to each element of x\n",
    "    exp_scores = np.exp(x)\n",
    "    # Normalize the exp_scores by dividing by the sum of exp_scores along each column\n",
    "    probs = exp_scores / exp_scores.sum(axis = 0)\n",
    "    # Copy the probs matrix to preds\n",
    "    preds = probs.copy()\n",
    "    # Costo\n",
    "    # Select the predicted probabilities that correspond to the true labels using advanced indexing\n",
    "    y_hat = probs[y.squeeze(), np.arange(batch_size)]\n",
    "    # Compute the negative log of y_hat and sum over all samples, then divide by batch size to get the average loss\n",
    "    cost = np.sum(-np.log(y_hat)) / batch_size\n",
    "    # Calcular gradientes\n",
    "    # Subtract 1 from the predicted probabilities that correspond to the true labels using advanced indexing\n",
    "    probs[y.squeeze(), np.arange(batch_size)] -= 1 #dl/dx\n",
    "    # Copy the probs matrix to x.grad\n",
    "    x.grad = probs.copy()\n",
    "    \n",
    "    # Return the preds and cost values\n",
    "    return preds, cost"
   ]
  },
  {
   "cell_type": "markdown",
   "metadata": {},
   "source": [
    "### Loop de entrenamiento"
   ]
  },
  {
   "cell_type": "markdown",
   "metadata": {},
   "source": [
    "The training loop is a process that iterates over the training data and updates the model parameters using gradient descent"
   ]
  },
  {
   "cell_type": "code",
   "execution_count": 31,
   "metadata": {},
   "outputs": [],
   "source": [
    "def train(model, epochs, mb_size=128, learning_rate = 1e-3):\n",
    "    '''\n",
    "    This function trains a neural network model on the training data and evaluates it on the validation data.\n",
    "    The model parameter is an instance of Sequential_layers, which is a custom class that implements a sequential model of linear and activation layers.\n",
    "    The epochs parameter is an integer that specifies the number of times to loop over the entire training data.\n",
    "    The mb_size parameter is an integer that specifies the size of each mini-batch of data.\n",
    "    The learning_rate parameter is a positive scalar that controls the step size of gradient descent.\n",
    "    The function returns a dictionary that contains two lists: costo and accuracy, which store the average loss and accuracy values for each epoch on the validation data.\n",
    "    '''\n",
    "\n",
    "    # Initialize two empty lists to store the cost and accuracy values\n",
    "    costo_list = []\n",
    "    acc_list = []\n",
    "    # Loop over the number of epochs\n",
    "    for epoch in range(epochs):\n",
    "        # Loop over the mini-batches of data using a custom generator function\n",
    "        for i, (x, y) in enumerate(create_minibatches(mb_size, x_train, y_train)):\n",
    "            # Perform a forward pass on the model with the input data transposed and casted to np_tensor\n",
    "            scores = model(x.T.view(np_tensor))\n",
    "            # Compute the softmax cross entropy loss and its gradient with the output scores and the true labels\n",
    "            _, cost = softmaxXEntropy(scores, y)\n",
    "            # Perform a backward pass on the model to compute the gradients of the parameters\n",
    "            model.backward()\n",
    "            # Update the parameters of the model using gradient descent\n",
    "            model.update(learning_rate)\n",
    "\n",
    "        # Compute the accuracy of the model on the validation data using a custom function\n",
    "        acc = accuracy(x_val, y_val, mb_size) \n",
    "        \n",
    "        # Append the cost and accuracy values to their respective lists\n",
    "        costo_list.append(cost.tolist())\n",
    "        acc_list.append(acc.tolist())\n",
    "        \n",
    "        # Print the epoch number, cost, and accuracy values\n",
    "        print(f'Epoca {epoch}, costo: {np.round(cost,4)}, accuracy: {np.round(acc,4)}')\n",
    "        \n",
    "    # Create a dictionary that contains the cost and accuracy lists\n",
    "    train_results = {'costo':costo_list, 'accuracy':acc_list} \n",
    "    # Return the dictionary\n",
    "    return train_results"
   ]
  },
  {
   "cell_type": "markdown",
   "metadata": {},
   "source": [
    "The accuracy metric is used to measure the performance of a classification model by comparing the predicted labels and the true labels"
   ]
  },
  {
   "cell_type": "code",
   "execution_count": 32,
   "metadata": {},
   "outputs": [],
   "source": [
    "def accuracy(x, y, mb_size):\n",
    "    '''\n",
    "    This function computes the accuracy of a classification model on a given dataset.\n",
    "    The x parameter is a matrix or vector that contains the input data for a batch of samples.\n",
    "    The y parameter is a vector of shape (batch_size,) that contains the true labels for each sample in a batch, encoded as integers from 0 to n_classes - 1.\n",
    "    The mb_size parameter is an integer that specifies the size of each mini-batch of data.\n",
    "    The function returns a scalar that contains the accuracy value, which is the fraction of correctly classified samples over the total number of samples.\n",
    "    '''\n",
    "\n",
    "    # Initialize two variables to store the number of correct and total predictions\n",
    "    correct = 0\n",
    "    total = 0\n",
    "    # Loop over the mini-batches of data using a custom generator function\n",
    "    for i, (x, y) in enumerate(create_minibatches(mb_size, x, y)):\n",
    "        # Perform a forward pass on the model with the input data transposed and casted to np_tensor\n",
    "        pred = model(x.T.view(np_tensor))\n",
    "        # Count the number of correct predictions by comparing the index of the maximum value in each column of pred with the corresponding element in y\n",
    "        correct += np.sum(np.argmax(pred, axis=0) == y.squeeze())\n",
    "        # Count the total number of predictions by adding the number of columns in pred\n",
    "        total += pred.shape[1]\n",
    "    # Compute the accuracy by dividing the number of correct predictions by the total number of predictions\n",
    "    return correct/total"
   ]
  },
  {
   "cell_type": "markdown",
   "metadata": {},
   "source": [
    "### Create your model and train it"
   ]
  },
  {
   "cell_type": "markdown",
   "metadata": {},
   "source": [
    "- We create an instance of the Sequential_layers class, which is a custom class that implements a sequential model of linear and activation layers. A sequential model is a type of neural network that consists of a linear stack of layers, where each layer has one input and one output.\n",
    "- The Sequential_layers class takes a list of layers as an argument, and stores them in the self.layers attribute. The layers are instances of the Linear or ReLU classes, which are custom classes that implement linear and activation layers respectively. A linear layer performs a linear transformation of the input data, and an activation layer applies a non-linear function to the input data.\n",
    "- The first layer in the list is a Linear layer with the ´x_train´ shape of the pictures 28x28 = 784 input features and 101 output features. This means that the input data for the model should have 784 features (e.g., pixels in an image).\n",
    "- The second layer in the list is a ReLU layer, which applies the ReLU function to the output of the first layer. The ReLU function returns the positive part of its argument, i.e., ReLU(x) = max(0, x). This function introduces non-linearity to the model and allows it to learn complex patterns from the data.\n",
    "- The third layer in the list is another Linear layer with 101 input features and 237 output features. This means that it takes the output of the second layer as its input.\n",
    "- The fourth layer in the list is another ReLU layer, which applies the ReLU function to the output of the third layer. The fifth and final layer in the list is another Linear layer with 237 input features and len(alphabet_dictionary) = 24 output features. This means that it takes the output of the fourth layer as its input, and produces an output vector with len(alphabet_dictionary) elements. This vector represents the raw scores (logits) for each possible class in the classification problem."
   ]
  },
  {
   "cell_type": "code",
   "execution_count": 33,
   "metadata": {},
   "outputs": [],
   "source": [
    "model = Sequential_layers([\n",
    "    Linear(x_train.shape[1], 101), \n",
    "    ReLU(), \n",
    "    Linear(101, 237), \n",
    "    ReLU(), \n",
    "    Linear(237, len(alphabet_dictionary))\n",
    "])"
   ]
  },
  {
   "cell_type": "markdown",
   "metadata": {},
   "source": [
    "- 512 to the variable mb_size, which stands for mini-batch size\n",
    "> The mini-batch size determines how many samples are used to compute the loss and gradients in each iteration of gradient descent. A larger mini-batch size can speed up the training process, but it can also increase the memory requirements and reduce the generalization ability of the model. A smaller mini-batch size can improve the generalization ability of the model, but it can also slow down the training process and increase the variance of the gradients.\n",
    "- The value 1e-4 (which is equivalent to 0.0001) to the variable learning_rate, which stands for learning rate.\n",
    "> The learning rate is a positive scalar that controls the step size of gradient descent. A larger learning rate can make gradient descent converge faster, but it can also cause overshooting or divergence. A smaller learning rate can make gradient descent converge more stably, but it can also cause underfitting or slow convergence.\n",
    "- The value 23 to the variable epochs, which stands for epochs.\n",
    "> The number of epochs determines how many times gradient descent loops over all mini-batches in the dataset. A larger number of epochs can make gradient descent find a better solution, but it can also cause overfitting or wasting computational resources. A smaller number of epochs can make gradient descent save computational resources, but it can also cause underfitting or premature stopping."
   ]
  },
  {
   "cell_type": "code",
   "execution_count": 34,
   "metadata": {},
   "outputs": [
    {
     "name": "stdout",
     "output_type": "stream",
     "text": [
      "Epoca 0, costo: 1.0843, accuracy: 0.5455\n",
      "Epoca 1, costo: 0.5521, accuracy: 0.6553\n",
      "Epoca 2, costo: 0.3175, accuracy: 0.6927\n",
      "Epoca 3, costo: 0.1884, accuracy: 0.7164\n",
      "Epoca 4, costo: 0.1322, accuracy: 0.72\n",
      "Epoca 5, costo: 0.0958, accuracy: 0.7359\n",
      "Epoca 6, costo: 0.083, accuracy: 0.7434\n",
      "Epoca 7, costo: 0.0619, accuracy: 0.7526\n",
      "Epoca 8, costo: 0.0492, accuracy: 0.7627\n",
      "Epoca 9, costo: 0.0474, accuracy: 0.7602\n",
      "Epoca 10, costo: 0.0396, accuracy: 0.7658\n",
      "Epoca 11, costo: 0.0312, accuracy: 0.7613\n",
      "Epoca 12, costo: 0.0278, accuracy: 0.7699\n",
      "Epoca 13, costo: 0.0229, accuracy: 0.7724\n",
      "Epoca 14, costo: 0.0246, accuracy: 0.7747\n",
      "Epoca 15, costo: 0.0169, accuracy: 0.7764\n",
      "Epoca 16, costo: 0.0175, accuracy: 0.7786\n",
      "Epoca 17, costo: 0.0175, accuracy: 0.7744\n",
      "Epoca 18, costo: 0.0171, accuracy: 0.783\n",
      "Epoca 19, costo: 0.0161, accuracy: 0.7825\n",
      "Epoca 20, costo: 0.0143, accuracy: 0.7836\n",
      "Epoca 21, costo: 0.0129, accuracy: 0.7839\n",
      "Epoca 22, costo: 0.0116, accuracy: 0.7861\n"
     ]
    }
   ],
   "source": [
    "mb_size = 512\n",
    "learning_rate = 1e-4\n",
    "epochs = 23\n",
    "\n",
    "train_results = train(model, epochs, mb_size, learning_rate)"
   ]
  },
  {
   "cell_type": "markdown",
   "metadata": {},
   "source": [
    "After the training of 23 epoch an accuracy of 0.78 was achieved. This means, the model can predict 78% of the time the correct letter in the image from sing language."
   ]
  },
  {
   "cell_type": "markdown",
   "metadata": {},
   "source": [
    "### Plot training results"
   ]
  },
  {
   "cell_type": "code",
   "execution_count": 38,
   "metadata": {},
   "outputs": [
    {
     "data": {
      "image/png": "[encoded data removed]",
      "text/plain": [
       "<Figure size 640x480 with 1 Axes>"
      ]
     },
     "metadata": {},
     "output_type": "display_data"
    }
   ],
   "source": [
    "# Convert the cost list to a NumPy array\n",
    "loss_arr = np.array(train_results['costo'])\n",
    "# Convert the accuracy list to a NumPy array\n",
    "acc_arr = np.array(train_results['accuracy'])\n",
    "\n",
    "# Plot the cost array with a label 'Cost'\n",
    "plt.plot(loss_arr, label = 'Cost')\n",
    "# Plot the accuracy array with a label 'Accuracy'\n",
    "plt.plot(acc_arr, label = 'Accuracy')\n",
    "# Create a legend for the plot\n",
    "plt.legend()\n",
    "\n",
    "# Get the current axes object of the plot\n",
    "axes = plt.gca()\n",
    "\n",
    "# Set the lower and upper limits of the y-axis to 0 and 1\n",
    "axes.set_ylim(0,1)\n",
    "# Set the label of the x-axis to 'Epoch' with a font size of 14\n",
    "axes.set_xlabel(\"Epoch\", fontsize=14)\n",
    "# Set the label of the y-axis to 'Cost & Accuracy' with a font size of 14\n",
    "axes.set_ylabel(\"Cost & Accuracy\", fontsize=14)\n",
    "# Set the title of the plot to 'Training Results' with a font size of 18\n",
    "axes.set_title('Training Results', fontsize=18)\n",
    "\n",
    "# Display the plot on the screen\n",
    "plt.show()"
   ]
  },
  {
   "cell_type": "markdown",
   "metadata": {},
   "source": [
    "### Test your model on Random data from your test set"
   ]
  },
  {
   "cell_type": "markdown",
   "metadata": {},
   "source": [
    "To test the performance of the inferences, we take a random sample from the test subset and perform a prediction:"
   ]
  },
  {
   "cell_type": "code",
   "execution_count": 39,
   "metadata": {},
   "outputs": [
    {
     "data": {
      "image/png": "[encoded data removed]",
      "text/plain": [
       "<Figure size 300x300 with 1 Axes>"
      ]
     },
     "metadata": {},
     "output_type": "display_data"
    },
    {
     "name": "stdout",
     "output_type": "stream",
     "text": [
      "el valor predicho es: h el valor real es:h\n"
     ]
    }
   ],
   "source": [
    "idx = np.random.randint(len(y_test))\n",
    "plot_number(x_test[idx].reshape(28,28))\n",
    "pred = model.predict(x_test[idx].reshape(-1, 1))\n",
    "print(f'el valor predicho es: {alphabet[pred]} el valor real es:{alphabet[y_test[idx]]}')"
   ]
  },
  {
   "cell_type": "code",
   "execution_count": null,
   "metadata": {},
   "outputs": [],
   "source": []
  }
 ],
 "metadata": {
  "kernelspec": {
   "display_name": "Python 3 (ipykernel)",
   "language": "python",
   "name": "python3"
  },
  "language_info": {
   "codemirror_mode": {
    "name": "ipython",
    "version": 3
   },
   "file_extension": ".py",
   "mimetype": "text/x-python",
   "name": "python",
   "nbconvert_exporter": "python",
   "pygments_lexer": "ipython3",
   "version": "3.9.16"
  },
  "toc": {
   "base_numbering": 1,
   "nav_menu": {},
   "number_sections": true,
   "sideBar": true,
   "skip_h1_title": false,
   "title_cell": "Table of Contents",
   "title_sidebar": "Contents",
   "toc_cell": false,
   "toc_position": {},
   "toc_section_display": true,
   "toc_window_display": false
  },
  "varInspector": {
   "cols": {
    "lenName": 16,
    "lenType": 16,
    "lenVar": 40
   },
   "kernels_config": {
    "python": {
     "delete_cmd_postfix": "",
     "delete_cmd_prefix": "del ",
     "library": "var_list.py",
     "varRefreshCmd": "print(var_dic_list())"
    },
    "r": {
     "delete_cmd_postfix": ") ",
     "delete_cmd_prefix": "rm(",
     "library": "var_list.r",
     "varRefreshCmd": "cat(var_dic_list()) "
    }
   },
   "types_to_exclude": [
    "module",
    "function",
    "builtin_function_or_method",
    "instance",
    "_Feature"
   ],
   "window_display": false
  }
 },
 "nbformat": 4,
 "nbformat_minor": 4
}
