{
 "cells": [
  {
   "attachments": {},
   "cell_type": "markdown",
   "metadata": {
    "id": "1c7bad3b-0d0a-47e7-baa9-f6537ab2f38f"
   },
   "source": [
    "![image.png](data:image/png;base64,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)"
   ]
  },
  {
   "cell_type": "markdown",
   "metadata": {},
   "source": [
    "# Master in Applied Artificial Intelligence\n",
    "## TC 5033 Advanced Machine Learning Methods\n",
    "### Tecnológico de Monterrey\n",
    "### Prof José Antonio Cantoral Ceballos\n",
    "# Activity 2c\n",
    "## Exploring Transfer Learning with CIFAR-10\n",
    "\n",
    "## Team 18\n",
    "Team members\n",
    "\n",
    "> - Francisco Javier Parga García A01794380\n",
    "> - Matthias Sibrian Illescas A01794249\n",
    "> - Enrique Hernández García A01793727\n",
    "> - Alejandro Tomás Mackey A01164338"
   ]
  },
  {
   "cell_type": "markdown",
   "metadata": {},
   "source": [
    "# TC 5033\n",
    "## Deep Learning\n",
    "## Transfer Learning\n",
    "\n",
    "<br>\n",
    "\n",
    "#### Activity 2c: Exploring Transfer Learning with CIFAR-10\n",
    "<br>\n",
    "\n",
    "- Objective:\n",
    "\n",
    "    In this activity, you'll study the concept of Transfer Learning, a powerful technique to improve the performance of your models by leveraging pre-trained architectures. The provided notebook offers a complete solution using a specific pre-trained model on the CIFAR-10 dataset. Your task is to extend this by trying out two other pre-trained models.\n",
    "    \n",
    "- Instructions:\n",
    "\n",
    "    This activity should be submitted in the same format as previous activities. Remember to include the names of all team members in a markdown cell at the beginning of the notebook. The grade obtained in this notebook will be averaged with that of Activity 2b, for the grade of Activity 2.    \n",
    "\n",
    "    Study the Provided Code: The provided notebook has a complete Transfer Learning solution using a particular pre-trained model. Make sure you understand the flow of the code and the role of each component.\n",
    "\n",
    "    Select Two Other Pre-trained Models: Choose two different pre-trained models available in PyTorch's model zoo.\n",
    "\n",
    "    Apply Transfer Learning: Add cells to implement Transfer Learning using the two models you've chosen. Train these models on the CIFAR-10 dataset.\n",
    "\n",
    "    Evaluation: After training, evaluate your models' performance. Compare the results with the provided solution and try to interpret why there might be differences.\n",
    "\n",
    "    Documentation: In a markdown cell, summarize your findings. Include any challenges you faced, how you overcame them, and any interesting insights you gained from comparing the different pre-trained models.\n",
    "\n",
    "- Note:\n",
    "\n",
    "    Although the provided code serves as a guide, you're encouraged to implement the new solutions on your own. The goal is to reinforce your understanding of Transfer Learning and how to apply it effectively.\n",
    "\n",
    "\n"
   ]
  },
  {
   "cell_type": "code",
   "execution_count": 1,
   "metadata": {},
   "outputs": [],
   "source": [
    "import time\n",
    "import numpy as np\n",
    "import torch\n",
    "import torch.nn as nn\n",
    "import torch.nn.functional as F\n",
    "\n",
    "from torch.utils.data import DataLoader\n",
    "from torch.utils.data import sampler\n",
    "import torchvision.datasets as datasets\n",
    "import torchvision.transforms as T\n",
    "from torchvision import models"
   ]
  },
  {
   "cell_type": "code",
   "execution_count": 2,
   "metadata": {},
   "outputs": [],
   "source": [
    "import matplotlib.pyplot as plt"
   ]
  },
  {
   "cell_type": "markdown",
   "metadata": {},
   "source": [
    "### Descargar sets de datos"
   ]
  },
  {
   "cell_type": "code",
   "execution_count": 3,
   "metadata": {},
   "outputs": [
    {
     "data": {
      "text/plain": [
       "'C:\\\\Users\\\\fgarcia24\\\\OneDrive - Schlumberger\\\\Python\\\\fco-parga\\\\mna\\\\MNA-2023-September_Advanced_Machine_Learning_Methods\\\\Activity 2b - Building a CNN for CIFAR10 Dataset with PyTorch\\\\data'"
      ]
     },
     "execution_count": 3,
     "metadata": {},
     "output_type": "execute_result"
    }
   ],
   "source": [
    "import os \n",
    "\n",
    "master_folder = os.path.split(os.path.split(os.getcwd())[0])[0]\n",
    "class_folder = 'MNA-2023-September_Advanced_Machine_Learning_Methods'\n",
    "activity_folder = \"Activity 2b - Building a CNN for CIFAR10 Dataset with PyTorch\" \n",
    "data_folder = 'data'\n",
    "\n",
    "DATA_PATH = os.path.join(master_folder, class_folder, activity_folder, data_folder)\n",
    "DATA_PATH"
   ]
  },
  {
   "cell_type": "code",
   "execution_count": 4,
   "metadata": {},
   "outputs": [
    {
     "name": "stdout",
     "output_type": "stream",
     "text": [
      "Files already downloaded and verified\n",
      "Files already downloaded and verified\n",
      "Files already downloaded and verified\n"
     ]
    }
   ],
   "source": [
    "NUM_TRAIN = 45000\n",
    "MINIBATCH_SIZE = 64\n",
    "transform_imagenet = T.Compose([\n",
    "                T.Resize(224),\n",
    "                T.ToTensor(),\n",
    "                T.Normalize((0.485, 0.456, 0.406), (0.229, 0.224, 0.225))\n",
    "            ])\n",
    "\n",
    "transform_cifar = T.Compose([\n",
    "                T.ToTensor(),\n",
    "                T.Normalize([0.491, 0.482, 0.447], [0.247, 0.243, 0.261])\n",
    "            ])\n",
    "\n",
    "# Training set loader\n",
    "cifar10_train = datasets.CIFAR10(DATA_PATH, train=True, download=True,\n",
    "                             transform=transform_imagenet)\n",
    "train_loader = DataLoader(cifar10_train, batch_size=MINIBATCH_SIZE, \n",
    "                          sampler=sampler.SubsetRandomSampler(range(NUM_TRAIN)))\n",
    "\n",
    "# Validation set loader\n",
    "cifar10_val = datasets.CIFAR10(DATA_PATH, train=True, download=True,\n",
    "                           transform=transform_imagenet)\n",
    "val_loader = DataLoader(cifar10_val, batch_size=MINIBATCH_SIZE, \n",
    "                        sampler=sampler.SubsetRandomSampler(range(NUM_TRAIN, len(cifar10_val))))\n",
    "\n",
    "# Testing set loader\n",
    "cifar10_test = datasets.CIFAR10(DATA_PATH, train=False, download=True, \n",
    "                            transform=transform_imagenet)\n",
    "test_loader = DataLoader(cifar10_test, batch_size=MINIBATCH_SIZE)"
   ]
  },
  {
   "cell_type": "code",
   "execution_count": 5,
   "metadata": {},
   "outputs": [],
   "source": [
    "#for i, (x, y) in enumerate(val_loader):\n",
    "#    print(i, x.shape, y.shape)"
   ]
  },
  {
   "cell_type": "markdown",
   "metadata": {},
   "source": [
    "### Usar GPU"
   ]
  },
  {
   "cell_type": "code",
   "execution_count": 6,
   "metadata": {},
   "outputs": [
    {
     "name": "stdout",
     "output_type": "stream",
     "text": [
      "cuda\n"
     ]
    }
   ],
   "source": [
    "if torch.cuda.is_available():\n",
    "    device = torch.device('cuda')\n",
    "else:\n",
    "    device = torch.device('cpu')\n",
    "\n",
    "print(device)"
   ]
  },
  {
   "cell_type": "markdown",
   "metadata": {},
   "source": [
    "### Mostrar imágenes"
   ]
  },
  {
   "cell_type": "code",
   "execution_count": 7,
   "metadata": {},
   "outputs": [],
   "source": [
    "# This function plots a single image from the CIFAR-10 dataset\n",
    "def plot_figure(image):\n",
    "    plt.figure(figsize=(3,3))\n",
    "    # Transpose the image to have the correct shape for displaying\n",
    "    plt.imshow(np.transpose(image,(1,2,0)))\n",
    "    # Turn off the axis labels\n",
    "    plt.axis('off')\n",
    "    # Show the plot\n",
    "    plt.show()"
   ]
  },
  {
   "cell_type": "code",
   "execution_count": 8,
   "metadata": {},
   "outputs": [
    {
     "name": "stdout",
     "output_type": "stream",
     "text": [
      "La imagen muestreada representa un: Car\n"
     ]
    },
    {
     "data": {
      "image/png": "[encoded data removed]",
      "text/plain": [
       "<Figure size 300x300 with 1 Axes>"
      ]
     },
     "metadata": {},
     "output_type": "display_data"
    }
   ],
   "source": [
    "classes = ['Plane', 'Car', 'Bird', 'Cat', 'Deer','Dog', 'Frog', 'Horse', 'Ship', 'Truck']\n",
    "\n",
    "# Randomly select an index from the test loader\n",
    "rnd_sample_idx = np.random.randint(len(test_loader))\n",
    "# Print the class name of the image at the selected index\n",
    "print(f'La imagen muestreada representa un: {classes[test_loader.dataset[rnd_sample_idx][1]]}')\n",
    "# Get the image at the selected index\n",
    "image = test_loader.dataset[rnd_sample_idx][0]\n",
    "# Normalize the image to have values between 0 and 1\n",
    "image = (image - image.min()) / (image.max() -image.min() )\n",
    "# Call the function to plot the image\n",
    "plot_figure(image)"
   ]
  },
  {
   "cell_type": "markdown",
   "metadata": {},
   "source": [
    "### Calcular Accuracy"
   ]
  },
  {
   "cell_type": "code",
   "execution_count": 9,
   "metadata": {},
   "outputs": [],
   "source": [
    "def accuracy(model, loader):\n",
    "    # Initialize the number of correct predictions and the total number of predictions\n",
    "    num_correct = 0\n",
    "    num_total = 0\n",
    "    # Set the model to evaluation mode\n",
    "    model.eval()\n",
    "    # Move the model to the device (CPU or GPU)\n",
    "    model = model.to(device=device)\n",
    "    # Disable gradient computation to speed up the inference\n",
    "    with torch.no_grad():\n",
    "        # Loop over each batch of data in the loader\n",
    "        for (xi, yi) in loader:\n",
    "            # Move the input and output data to the device\n",
    "            xi = xi.to(device=device, dtype = torch.float32)\n",
    "            yi = yi.to(device=device, dtype = torch.long)\n",
    "            # Get the model's scores (logits) for each class\n",
    "            scores = model(xi) #\n",
    "            # Get the predicted class by finding the maximum score along the dimension 1\n",
    "            _, pred = scores.max(dim=1) \n",
    "            # Count how many predictions are correct by comparing them with the true labels\n",
    "            num_correct += (pred == yi).sum()\n",
    "            # Count the total number of predictions\n",
    "            num_total += pred.size(0)\n",
    "        # Return the accuracy as the ratio of correct predictions to total predictions\n",
    "        return float(num_correct)/num_total"
   ]
  },
  {
   "cell_type": "markdown",
   "metadata": {},
   "source": [
    "### Cargar modelo pre-cargado"
   ]
  },
  {
   "cell_type": "markdown",
   "metadata": {},
   "source": [
    "Define a model as a pre-trained ResNet-18, which is a deep neural network architecture for image recognition"
   ]
  },
  {
   "cell_type": "code",
   "execution_count": 10,
   "metadata": {},
   "outputs": [
    {
     "name": "stderr",
     "output_type": "stream",
     "text": [
      "C:\\Users\\fgarcia24\\Anaconda3\\envs\\mna\\lib\\site-packages\\torchvision\\models\\_utils.py:223: UserWarning: Arguments other than a weight enum or `None` for 'weights' are deprecated since 0.13 and may be removed in the future. The current behavior is equivalent to passing `weights=ResNet18_Weights.IMAGENET1K_V1`. You can also use `weights=ResNet18_Weights.DEFAULT` to get the most up-to-date weights.\n",
      "  warnings.warn(msg)\n"
     ]
    }
   ],
   "source": [
    "model_resnet18 = models.resnet18(weights=True)"
   ]
  },
  {
   "cell_type": "markdown",
   "metadata": {},
   "source": [
    "#### Exploremos el modelo"
   ]
  },
  {
   "cell_type": "code",
   "execution_count": 11,
   "metadata": {
    "scrolled": true
   },
   "outputs": [
    {
     "name": "stdout",
     "output_type": "stream",
     "text": [
      "0 torch.Size([64, 3, 7, 7]) True\n",
      "1 torch.Size([64]) True\n",
      "2 torch.Size([64]) True\n",
      "3 torch.Size([64, 64, 3, 3]) True\n",
      "4 torch.Size([64]) True\n",
      "5 torch.Size([64]) True\n",
      "6 torch.Size([64, 64, 3, 3]) True\n",
      "7 torch.Size([64]) True\n",
      "8 torch.Size([64]) True\n",
      "9 torch.Size([64, 64, 3, 3]) True\n",
      "10 torch.Size([64]) True\n",
      "11 torch.Size([64]) True\n",
      "12 torch.Size([64, 64, 3, 3]) True\n",
      "13 torch.Size([64]) True\n",
      "14 torch.Size([64]) True\n",
      "15 torch.Size([128, 64, 3, 3]) True\n",
      "16 torch.Size([128]) True\n",
      "17 torch.Size([128]) True\n",
      "18 torch.Size([128, 128, 3, 3]) True\n",
      "19 torch.Size([128]) True\n",
      "20 torch.Size([128]) True\n",
      "21 torch.Size([128, 64, 1, 1]) True\n",
      "22 torch.Size([128]) True\n",
      "23 torch.Size([128]) True\n",
      "24 torch.Size([128, 128, 3, 3]) True\n",
      "25 torch.Size([128]) True\n",
      "26 torch.Size([128]) True\n",
      "27 torch.Size([128, 128, 3, 3]) True\n",
      "28 torch.Size([128]) True\n",
      "29 torch.Size([128]) True\n",
      "30 torch.Size([256, 128, 3, 3]) True\n",
      "31 torch.Size([256]) True\n",
      "32 torch.Size([256]) True\n",
      "33 torch.Size([256, 256, 3, 3]) True\n",
      "34 torch.Size([256]) True\n",
      "35 torch.Size([256]) True\n",
      "36 torch.Size([256, 128, 1, 1]) True\n",
      "37 torch.Size([256]) True\n",
      "38 torch.Size([256]) True\n",
      "39 torch.Size([256, 256, 3, 3]) True\n",
      "40 torch.Size([256]) True\n",
      "41 torch.Size([256]) True\n",
      "42 torch.Size([256, 256, 3, 3]) True\n",
      "43 torch.Size([256]) True\n",
      "44 torch.Size([256]) True\n",
      "45 torch.Size([512, 256, 3, 3]) True\n",
      "46 torch.Size([512]) True\n",
      "47 torch.Size([512]) True\n",
      "48 torch.Size([512, 512, 3, 3]) True\n",
      "49 torch.Size([512]) True\n",
      "50 torch.Size([512]) True\n",
      "51 torch.Size([512, 256, 1, 1]) True\n",
      "52 torch.Size([512]) True\n",
      "53 torch.Size([512]) True\n",
      "54 torch.Size([512, 512, 3, 3]) True\n",
      "55 torch.Size([512]) True\n",
      "56 torch.Size([512]) True\n",
      "57 torch.Size([512, 512, 3, 3]) True\n",
      "58 torch.Size([512]) True\n",
      "59 torch.Size([512]) True\n",
      "60 torch.Size([1000, 512]) True\n",
      "61 torch.Size([1000]) True\n"
     ]
    }
   ],
   "source": [
    "# Loop over each parameter of the ResNet-18 model\n",
    "for i, w in enumerate(model_resnet18.parameters()):\n",
    "    # Print the index, shape, and gradient requirement of the parameter\n",
    "    print(i, w.shape, w.requires_grad)"
   ]
  },
  {
   "cell_type": "code",
   "execution_count": 12,
   "metadata": {
    "scrolled": true
   },
   "outputs": [
    {
     "data": {
      "text/plain": [
       "ResNet(\n",
       "  (conv1): Conv2d(3, 64, kernel_size=(7, 7), stride=(2, 2), padding=(3, 3), bias=False)\n",
       "  (bn1): BatchNorm2d(64, eps=1e-05, momentum=0.1, affine=True, track_running_stats=True)\n",
       "  (relu): ReLU(inplace=True)\n",
       "  (maxpool): MaxPool2d(kernel_size=3, stride=2, padding=1, dilation=1, ceil_mode=False)\n",
       "  (layer1): Sequential(\n",
       "    (0): BasicBlock(\n",
       "      (conv1): Conv2d(64, 64, kernel_size=(3, 3), stride=(1, 1), padding=(1, 1), bias=False)\n",
       "      (bn1): BatchNorm2d(64, eps=1e-05, momentum=0.1, affine=True, track_running_stats=True)\n",
       "      (relu): ReLU(inplace=True)\n",
       "      (conv2): Conv2d(64, 64, kernel_size=(3, 3), stride=(1, 1), padding=(1, 1), bias=False)\n",
       "      (bn2): BatchNorm2d(64, eps=1e-05, momentum=0.1, affine=True, track_running_stats=True)\n",
       "    )\n",
       "    (1): BasicBlock(\n",
       "      (conv1): Conv2d(64, 64, kernel_size=(3, 3), stride=(1, 1), padding=(1, 1), bias=False)\n",
       "      (bn1): BatchNorm2d(64, eps=1e-05, momentum=0.1, affine=True, track_running_stats=True)\n",
       "      (relu): ReLU(inplace=True)\n",
       "      (conv2): Conv2d(64, 64, kernel_size=(3, 3), stride=(1, 1), padding=(1, 1), bias=False)\n",
       "      (bn2): BatchNorm2d(64, eps=1e-05, momentum=0.1, affine=True, track_running_stats=True)\n",
       "    )\n",
       "  )\n",
       "  (layer2): Sequential(\n",
       "    (0): BasicBlock(\n",
       "      (conv1): Conv2d(64, 128, kernel_size=(3, 3), stride=(2, 2), padding=(1, 1), bias=False)\n",
       "      (bn1): BatchNorm2d(128, eps=1e-05, momentum=0.1, affine=True, track_running_stats=True)\n",
       "      (relu): ReLU(inplace=True)\n",
       "      (conv2): Conv2d(128, 128, kernel_size=(3, 3), stride=(1, 1), padding=(1, 1), bias=False)\n",
       "      (bn2): BatchNorm2d(128, eps=1e-05, momentum=0.1, affine=True, track_running_stats=True)\n",
       "      (downsample): Sequential(\n",
       "        (0): Conv2d(64, 128, kernel_size=(1, 1), stride=(2, 2), bias=False)\n",
       "        (1): BatchNorm2d(128, eps=1e-05, momentum=0.1, affine=True, track_running_stats=True)\n",
       "      )\n",
       "    )\n",
       "    (1): BasicBlock(\n",
       "      (conv1): Conv2d(128, 128, kernel_size=(3, 3), stride=(1, 1), padding=(1, 1), bias=False)\n",
       "      (bn1): BatchNorm2d(128, eps=1e-05, momentum=0.1, affine=True, track_running_stats=True)\n",
       "      (relu): ReLU(inplace=True)\n",
       "      (conv2): Conv2d(128, 128, kernel_size=(3, 3), stride=(1, 1), padding=(1, 1), bias=False)\n",
       "      (bn2): BatchNorm2d(128, eps=1e-05, momentum=0.1, affine=True, track_running_stats=True)\n",
       "    )\n",
       "  )\n",
       "  (layer3): Sequential(\n",
       "    (0): BasicBlock(\n",
       "      (conv1): Conv2d(128, 256, kernel_size=(3, 3), stride=(2, 2), padding=(1, 1), bias=False)\n",
       "      (bn1): BatchNorm2d(256, eps=1e-05, momentum=0.1, affine=True, track_running_stats=True)\n",
       "      (relu): ReLU(inplace=True)\n",
       "      (conv2): Conv2d(256, 256, kernel_size=(3, 3), stride=(1, 1), padding=(1, 1), bias=False)\n",
       "      (bn2): BatchNorm2d(256, eps=1e-05, momentum=0.1, affine=True, track_running_stats=True)\n",
       "      (downsample): Sequential(\n",
       "        (0): Conv2d(128, 256, kernel_size=(1, 1), stride=(2, 2), bias=False)\n",
       "        (1): BatchNorm2d(256, eps=1e-05, momentum=0.1, affine=True, track_running_stats=True)\n",
       "      )\n",
       "    )\n",
       "    (1): BasicBlock(\n",
       "      (conv1): Conv2d(256, 256, kernel_size=(3, 3), stride=(1, 1), padding=(1, 1), bias=False)\n",
       "      (bn1): BatchNorm2d(256, eps=1e-05, momentum=0.1, affine=True, track_running_stats=True)\n",
       "      (relu): ReLU(inplace=True)\n",
       "      (conv2): Conv2d(256, 256, kernel_size=(3, 3), stride=(1, 1), padding=(1, 1), bias=False)\n",
       "      (bn2): BatchNorm2d(256, eps=1e-05, momentum=0.1, affine=True, track_running_stats=True)\n",
       "    )\n",
       "  )\n",
       "  (layer4): Sequential(\n",
       "    (0): BasicBlock(\n",
       "      (conv1): Conv2d(256, 512, kernel_size=(3, 3), stride=(2, 2), padding=(1, 1), bias=False)\n",
       "      (bn1): BatchNorm2d(512, eps=1e-05, momentum=0.1, affine=True, track_running_stats=True)\n",
       "      (relu): ReLU(inplace=True)\n",
       "      (conv2): Conv2d(512, 512, kernel_size=(3, 3), stride=(1, 1), padding=(1, 1), bias=False)\n",
       "      (bn2): BatchNorm2d(512, eps=1e-05, momentum=0.1, affine=True, track_running_stats=True)\n",
       "      (downsample): Sequential(\n",
       "        (0): Conv2d(256, 512, kernel_size=(1, 1), stride=(2, 2), bias=False)\n",
       "        (1): BatchNorm2d(512, eps=1e-05, momentum=0.1, affine=True, track_running_stats=True)\n",
       "      )\n",
       "    )\n",
       "    (1): BasicBlock(\n",
       "      (conv1): Conv2d(512, 512, kernel_size=(3, 3), stride=(1, 1), padding=(1, 1), bias=False)\n",
       "      (bn1): BatchNorm2d(512, eps=1e-05, momentum=0.1, affine=True, track_running_stats=True)\n",
       "      (relu): ReLU(inplace=True)\n",
       "      (conv2): Conv2d(512, 512, kernel_size=(3, 3), stride=(1, 1), padding=(1, 1), bias=False)\n",
       "      (bn2): BatchNorm2d(512, eps=1e-05, momentum=0.1, affine=True, track_running_stats=True)\n",
       "    )\n",
       "  )\n",
       "  (avgpool): AdaptiveAvgPool2d(output_size=(1, 1))\n",
       "  (fc): Linear(in_features=512, out_features=1000, bias=True)\n",
       ")"
      ]
     },
     "execution_count": 12,
     "metadata": {},
     "output_type": "execute_result"
    }
   ],
   "source": [
    "model_resnet18"
   ]
  },
  {
   "cell_type": "markdown",
   "metadata": {},
   "source": [
    "#### Ajustar a nuestro modelo"
   ]
  },
  {
   "cell_type": "markdown",
   "metadata": {},
   "source": [
    "Define a model as a copy of the ResNet-18 model, but without the last layer\n",
    "\n",
    "The last layer of the ResNet-18 model is a linear layer that maps the features to 1000 classes"
   ]
  },
  {
   "cell_type": "code",
   "execution_count": 13,
   "metadata": {},
   "outputs": [
    {
     "data": {
      "text/plain": [
       "Sequential(\n",
       "  (0): Conv2d(3, 64, kernel_size=(7, 7), stride=(2, 2), padding=(3, 3), bias=False)\n",
       "  (1): BatchNorm2d(64, eps=1e-05, momentum=0.1, affine=True, track_running_stats=True)\n",
       "  (2): ReLU(inplace=True)\n",
       "  (3): MaxPool2d(kernel_size=3, stride=2, padding=1, dilation=1, ceil_mode=False)\n",
       "  (4): Sequential(\n",
       "    (0): BasicBlock(\n",
       "      (conv1): Conv2d(64, 64, kernel_size=(3, 3), stride=(1, 1), padding=(1, 1), bias=False)\n",
       "      (bn1): BatchNorm2d(64, eps=1e-05, momentum=0.1, affine=True, track_running_stats=True)\n",
       "      (relu): ReLU(inplace=True)\n",
       "      (conv2): Conv2d(64, 64, kernel_size=(3, 3), stride=(1, 1), padding=(1, 1), bias=False)\n",
       "      (bn2): BatchNorm2d(64, eps=1e-05, momentum=0.1, affine=True, track_running_stats=True)\n",
       "    )\n",
       "    (1): BasicBlock(\n",
       "      (conv1): Conv2d(64, 64, kernel_size=(3, 3), stride=(1, 1), padding=(1, 1), bias=False)\n",
       "      (bn1): BatchNorm2d(64, eps=1e-05, momentum=0.1, affine=True, track_running_stats=True)\n",
       "      (relu): ReLU(inplace=True)\n",
       "      (conv2): Conv2d(64, 64, kernel_size=(3, 3), stride=(1, 1), padding=(1, 1), bias=False)\n",
       "      (bn2): BatchNorm2d(64, eps=1e-05, momentum=0.1, affine=True, track_running_stats=True)\n",
       "    )\n",
       "  )\n",
       "  (5): Sequential(\n",
       "    (0): BasicBlock(\n",
       "      (conv1): Conv2d(64, 128, kernel_size=(3, 3), stride=(2, 2), padding=(1, 1), bias=False)\n",
       "      (bn1): BatchNorm2d(128, eps=1e-05, momentum=0.1, affine=True, track_running_stats=True)\n",
       "      (relu): ReLU(inplace=True)\n",
       "      (conv2): Conv2d(128, 128, kernel_size=(3, 3), stride=(1, 1), padding=(1, 1), bias=False)\n",
       "      (bn2): BatchNorm2d(128, eps=1e-05, momentum=0.1, affine=True, track_running_stats=True)\n",
       "      (downsample): Sequential(\n",
       "        (0): Conv2d(64, 128, kernel_size=(1, 1), stride=(2, 2), bias=False)\n",
       "        (1): BatchNorm2d(128, eps=1e-05, momentum=0.1, affine=True, track_running_stats=True)\n",
       "      )\n",
       "    )\n",
       "    (1): BasicBlock(\n",
       "      (conv1): Conv2d(128, 128, kernel_size=(3, 3), stride=(1, 1), padding=(1, 1), bias=False)\n",
       "      (bn1): BatchNorm2d(128, eps=1e-05, momentum=0.1, affine=True, track_running_stats=True)\n",
       "      (relu): ReLU(inplace=True)\n",
       "      (conv2): Conv2d(128, 128, kernel_size=(3, 3), stride=(1, 1), padding=(1, 1), bias=False)\n",
       "      (bn2): BatchNorm2d(128, eps=1e-05, momentum=0.1, affine=True, track_running_stats=True)\n",
       "    )\n",
       "  )\n",
       "  (6): Sequential(\n",
       "    (0): BasicBlock(\n",
       "      (conv1): Conv2d(128, 256, kernel_size=(3, 3), stride=(2, 2), padding=(1, 1), bias=False)\n",
       "      (bn1): BatchNorm2d(256, eps=1e-05, momentum=0.1, affine=True, track_running_stats=True)\n",
       "      (relu): ReLU(inplace=True)\n",
       "      (conv2): Conv2d(256, 256, kernel_size=(3, 3), stride=(1, 1), padding=(1, 1), bias=False)\n",
       "      (bn2): BatchNorm2d(256, eps=1e-05, momentum=0.1, affine=True, track_running_stats=True)\n",
       "      (downsample): Sequential(\n",
       "        (0): Conv2d(128, 256, kernel_size=(1, 1), stride=(2, 2), bias=False)\n",
       "        (1): BatchNorm2d(256, eps=1e-05, momentum=0.1, affine=True, track_running_stats=True)\n",
       "      )\n",
       "    )\n",
       "    (1): BasicBlock(\n",
       "      (conv1): Conv2d(256, 256, kernel_size=(3, 3), stride=(1, 1), padding=(1, 1), bias=False)\n",
       "      (bn1): BatchNorm2d(256, eps=1e-05, momentum=0.1, affine=True, track_running_stats=True)\n",
       "      (relu): ReLU(inplace=True)\n",
       "      (conv2): Conv2d(256, 256, kernel_size=(3, 3), stride=(1, 1), padding=(1, 1), bias=False)\n",
       "      (bn2): BatchNorm2d(256, eps=1e-05, momentum=0.1, affine=True, track_running_stats=True)\n",
       "    )\n",
       "  )\n",
       "  (7): Sequential(\n",
       "    (0): BasicBlock(\n",
       "      (conv1): Conv2d(256, 512, kernel_size=(3, 3), stride=(2, 2), padding=(1, 1), bias=False)\n",
       "      (bn1): BatchNorm2d(512, eps=1e-05, momentum=0.1, affine=True, track_running_stats=True)\n",
       "      (relu): ReLU(inplace=True)\n",
       "      (conv2): Conv2d(512, 512, kernel_size=(3, 3), stride=(1, 1), padding=(1, 1), bias=False)\n",
       "      (bn2): BatchNorm2d(512, eps=1e-05, momentum=0.1, affine=True, track_running_stats=True)\n",
       "      (downsample): Sequential(\n",
       "        (0): Conv2d(256, 512, kernel_size=(1, 1), stride=(2, 2), bias=False)\n",
       "        (1): BatchNorm2d(512, eps=1e-05, momentum=0.1, affine=True, track_running_stats=True)\n",
       "      )\n",
       "    )\n",
       "    (1): BasicBlock(\n",
       "      (conv1): Conv2d(512, 512, kernel_size=(3, 3), stride=(1, 1), padding=(1, 1), bias=False)\n",
       "      (bn1): BatchNorm2d(512, eps=1e-05, momentum=0.1, affine=True, track_running_stats=True)\n",
       "      (relu): ReLU(inplace=True)\n",
       "      (conv2): Conv2d(512, 512, kernel_size=(3, 3), stride=(1, 1), padding=(1, 1), bias=False)\n",
       "      (bn2): BatchNorm2d(512, eps=1e-05, momentum=0.1, affine=True, track_running_stats=True)\n",
       "    )\n",
       "  )\n",
       "  (8): AdaptiveAvgPool2d(output_size=(1, 1))\n",
       "  (9): Linear(in_features=512, out_features=1000, bias=True)\n",
       ")"
      ]
     },
     "execution_count": 13,
     "metadata": {},
     "output_type": "execute_result"
    }
   ],
   "source": [
    "model_aux = nn.Sequential(*list(model_resnet18.children()))\n",
    "model_aux"
   ]
  },
  {
   "cell_type": "markdown",
   "metadata": {},
   "source": [
    "##### Remove last layer"
   ]
  },
  {
   "cell_type": "markdown",
   "metadata": {},
   "source": [
    "By removing the last layer, we can use the model as a feature extractor for other tasks"
   ]
  },
  {
   "cell_type": "code",
   "execution_count": 14,
   "metadata": {},
   "outputs": [],
   "source": [
    "model_aux = nn.Sequential(*list(model_resnet18.children())[:-1])"
   ]
  },
  {
   "cell_type": "code",
   "execution_count": 15,
   "metadata": {
    "scrolled": true
   },
   "outputs": [
    {
     "data": {
      "text/plain": [
       "Sequential(\n",
       "  (0): Conv2d(3, 64, kernel_size=(7, 7), stride=(2, 2), padding=(3, 3), bias=False)\n",
       "  (1): BatchNorm2d(64, eps=1e-05, momentum=0.1, affine=True, track_running_stats=True)\n",
       "  (2): ReLU(inplace=True)\n",
       "  (3): MaxPool2d(kernel_size=3, stride=2, padding=1, dilation=1, ceil_mode=False)\n",
       "  (4): Sequential(\n",
       "    (0): BasicBlock(\n",
       "      (conv1): Conv2d(64, 64, kernel_size=(3, 3), stride=(1, 1), padding=(1, 1), bias=False)\n",
       "      (bn1): BatchNorm2d(64, eps=1e-05, momentum=0.1, affine=True, track_running_stats=True)\n",
       "      (relu): ReLU(inplace=True)\n",
       "      (conv2): Conv2d(64, 64, kernel_size=(3, 3), stride=(1, 1), padding=(1, 1), bias=False)\n",
       "      (bn2): BatchNorm2d(64, eps=1e-05, momentum=0.1, affine=True, track_running_stats=True)\n",
       "    )\n",
       "    (1): BasicBlock(\n",
       "      (conv1): Conv2d(64, 64, kernel_size=(3, 3), stride=(1, 1), padding=(1, 1), bias=False)\n",
       "      (bn1): BatchNorm2d(64, eps=1e-05, momentum=0.1, affine=True, track_running_stats=True)\n",
       "      (relu): ReLU(inplace=True)\n",
       "      (conv2): Conv2d(64, 64, kernel_size=(3, 3), stride=(1, 1), padding=(1, 1), bias=False)\n",
       "      (bn2): BatchNorm2d(64, eps=1e-05, momentum=0.1, affine=True, track_running_stats=True)\n",
       "    )\n",
       "  )\n",
       "  (5): Sequential(\n",
       "    (0): BasicBlock(\n",
       "      (conv1): Conv2d(64, 128, kernel_size=(3, 3), stride=(2, 2), padding=(1, 1), bias=False)\n",
       "      (bn1): BatchNorm2d(128, eps=1e-05, momentum=0.1, affine=True, track_running_stats=True)\n",
       "      (relu): ReLU(inplace=True)\n",
       "      (conv2): Conv2d(128, 128, kernel_size=(3, 3), stride=(1, 1), padding=(1, 1), bias=False)\n",
       "      (bn2): BatchNorm2d(128, eps=1e-05, momentum=0.1, affine=True, track_running_stats=True)\n",
       "      (downsample): Sequential(\n",
       "        (0): Conv2d(64, 128, kernel_size=(1, 1), stride=(2, 2), bias=False)\n",
       "        (1): BatchNorm2d(128, eps=1e-05, momentum=0.1, affine=True, track_running_stats=True)\n",
       "      )\n",
       "    )\n",
       "    (1): BasicBlock(\n",
       "      (conv1): Conv2d(128, 128, kernel_size=(3, 3), stride=(1, 1), padding=(1, 1), bias=False)\n",
       "      (bn1): BatchNorm2d(128, eps=1e-05, momentum=0.1, affine=True, track_running_stats=True)\n",
       "      (relu): ReLU(inplace=True)\n",
       "      (conv2): Conv2d(128, 128, kernel_size=(3, 3), stride=(1, 1), padding=(1, 1), bias=False)\n",
       "      (bn2): BatchNorm2d(128, eps=1e-05, momentum=0.1, affine=True, track_running_stats=True)\n",
       "    )\n",
       "  )\n",
       "  (6): Sequential(\n",
       "    (0): BasicBlock(\n",
       "      (conv1): Conv2d(128, 256, kernel_size=(3, 3), stride=(2, 2), padding=(1, 1), bias=False)\n",
       "      (bn1): BatchNorm2d(256, eps=1e-05, momentum=0.1, affine=True, track_running_stats=True)\n",
       "      (relu): ReLU(inplace=True)\n",
       "      (conv2): Conv2d(256, 256, kernel_size=(3, 3), stride=(1, 1), padding=(1, 1), bias=False)\n",
       "      (bn2): BatchNorm2d(256, eps=1e-05, momentum=0.1, affine=True, track_running_stats=True)\n",
       "      (downsample): Sequential(\n",
       "        (0): Conv2d(128, 256, kernel_size=(1, 1), stride=(2, 2), bias=False)\n",
       "        (1): BatchNorm2d(256, eps=1e-05, momentum=0.1, affine=True, track_running_stats=True)\n",
       "      )\n",
       "    )\n",
       "    (1): BasicBlock(\n",
       "      (conv1): Conv2d(256, 256, kernel_size=(3, 3), stride=(1, 1), padding=(1, 1), bias=False)\n",
       "      (bn1): BatchNorm2d(256, eps=1e-05, momentum=0.1, affine=True, track_running_stats=True)\n",
       "      (relu): ReLU(inplace=True)\n",
       "      (conv2): Conv2d(256, 256, kernel_size=(3, 3), stride=(1, 1), padding=(1, 1), bias=False)\n",
       "      (bn2): BatchNorm2d(256, eps=1e-05, momentum=0.1, affine=True, track_running_stats=True)\n",
       "    )\n",
       "  )\n",
       "  (7): Sequential(\n",
       "    (0): BasicBlock(\n",
       "      (conv1): Conv2d(256, 512, kernel_size=(3, 3), stride=(2, 2), padding=(1, 1), bias=False)\n",
       "      (bn1): BatchNorm2d(512, eps=1e-05, momentum=0.1, affine=True, track_running_stats=True)\n",
       "      (relu): ReLU(inplace=True)\n",
       "      (conv2): Conv2d(512, 512, kernel_size=(3, 3), stride=(1, 1), padding=(1, 1), bias=False)\n",
       "      (bn2): BatchNorm2d(512, eps=1e-05, momentum=0.1, affine=True, track_running_stats=True)\n",
       "      (downsample): Sequential(\n",
       "        (0): Conv2d(256, 512, kernel_size=(1, 1), stride=(2, 2), bias=False)\n",
       "        (1): BatchNorm2d(512, eps=1e-05, momentum=0.1, affine=True, track_running_stats=True)\n",
       "      )\n",
       "    )\n",
       "    (1): BasicBlock(\n",
       "      (conv1): Conv2d(512, 512, kernel_size=(3, 3), stride=(1, 1), padding=(1, 1), bias=False)\n",
       "      (bn1): BatchNorm2d(512, eps=1e-05, momentum=0.1, affine=True, track_running_stats=True)\n",
       "      (relu): ReLU(inplace=True)\n",
       "      (conv2): Conv2d(512, 512, kernel_size=(3, 3), stride=(1, 1), padding=(1, 1), bias=False)\n",
       "      (bn2): BatchNorm2d(512, eps=1e-05, momentum=0.1, affine=True, track_running_stats=True)\n",
       "    )\n",
       "  )\n",
       "  (8): AdaptiveAvgPool2d(output_size=(1, 1))\n",
       ")"
      ]
     },
     "execution_count": 15,
     "metadata": {},
     "output_type": "execute_result"
    }
   ],
   "source": [
    "model_aux"
   ]
  },
  {
   "cell_type": "code",
   "execution_count": 16,
   "metadata": {},
   "outputs": [],
   "source": [
    "# Loop over each parameter of the model_aux\n",
    "for i, parameter in enumerate(model_aux.parameters()):\n",
    "    # Set the gradient requirement of the parameter to False\n",
    "    # This means that the parameter will not be updated during the training process\n",
    "    # This is useful when we want to freeze the weights of the pre-trained model and only train the new layers that we add\n",
    "    parameter.requires_grad = False"
   ]
  },
  {
   "cell_type": "code",
   "execution_count": 17,
   "metadata": {
    "scrolled": true
   },
   "outputs": [
    {
     "name": "stdout",
     "output_type": "stream",
     "text": [
      "0 False\n",
      "1 False\n",
      "2 False\n",
      "3 False\n",
      "4 False\n",
      "5 False\n",
      "6 False\n",
      "7 False\n",
      "8 False\n",
      "9 False\n",
      "10 False\n",
      "11 False\n",
      "12 False\n",
      "13 False\n",
      "14 False\n",
      "15 False\n",
      "16 False\n",
      "17 False\n",
      "18 False\n",
      "19 False\n",
      "20 False\n",
      "21 False\n",
      "22 False\n",
      "23 False\n",
      "24 False\n",
      "25 False\n",
      "26 False\n",
      "27 False\n",
      "28 False\n",
      "29 False\n",
      "30 False\n",
      "31 False\n",
      "32 False\n",
      "33 False\n",
      "34 False\n",
      "35 False\n",
      "36 False\n",
      "37 False\n",
      "38 False\n",
      "39 False\n",
      "40 False\n",
      "41 False\n",
      "42 False\n",
      "43 False\n",
      "44 False\n",
      "45 False\n",
      "46 False\n",
      "47 False\n",
      "48 False\n",
      "49 False\n",
      "50 False\n",
      "51 False\n",
      "52 False\n",
      "53 False\n",
      "54 False\n",
      "55 False\n",
      "56 False\n",
      "57 False\n",
      "58 False\n",
      "59 False\n"
     ]
    }
   ],
   "source": [
    "# Display the updated parameters\n",
    "for i, parameter in enumerate(model_aux.parameters()):\n",
    "    print(i, parameter.requires_grad)"
   ]
  },
  {
   "cell_type": "markdown",
   "metadata": {},
   "source": [
    "### Loop de entrenamiento"
   ]
  },
  {
   "cell_type": "code",
   "execution_count": 18,
   "metadata": {},
   "outputs": [],
   "source": [
    "def train(model, optimizer, epochs=100):\n",
    "    # Initialize two lists to store the cost and accuracy values for each epoch\n",
    "    costo_list = []\n",
    "    acc_list = []\n",
    "    \n",
    "    # Move the model to the device (CPU or GPU)\n",
    "    model = model.to(device=device)\n",
    "    # Loop over the number of epochs\n",
    "    for epoch in range(epochs):\n",
    "        # Get the start time of the epoch\n",
    "        start_epoch = time.time()\n",
    "        \n",
    "        # Loop over each batch of data in the training loader\n",
    "        for i, (xi, yi) in enumerate(train_loader):\n",
    "            # Set the model to training mode\n",
    "            model.train()\n",
    "            # Move the input and output data to the device\n",
    "            xi = xi.to(device=device, dtype=torch.float32)\n",
    "            yi = yi.to(device=device, dtype=torch.long)\n",
    "\n",
    "            # Zero out the gradients of the optimizer\n",
    "            optimizer.zero_grad()\n",
    "            # Get the model's scores (logits) for each class\n",
    "            scores = model(xi)\n",
    "\n",
    "            # Calculate the cross-entropy loss between the scores and the true labels\n",
    "            cost = F.cross_entropy(input= scores, target=yi)\n",
    "                 \n",
    "            # Compute the gradients of the loss with respect to the model's parameters\n",
    "            cost.backward()\n",
    "            # Update the model's parameters using the optimizer\n",
    "            optimizer.step()           \n",
    "            \n",
    "        # Calculate the accuracy of the model on the validation loader\n",
    "        acc = accuracy(model, val_loader)\n",
    "        \n",
    "        # Append the cost and accuracy values to the respective lists\n",
    "        costo_list.append(cost.tolist())\n",
    "        acc_list.append(acc)   \n",
    "\n",
    "        # Calculate the elapsed time of the epoch\n",
    "        elapsed = time.time() - start_epoch\n",
    "        \n",
    "        # Print the epoch number, cost value, and accuracy value\n",
    "        print(f'Epoca {epoch}, costo: {np.round(cost.tolist(),4)}, accuracy: {np.round(acc,4)}, minutes training: {np.round(elapsed/60,2)}')\n",
    "        \n",
    "    # Create a dictionary to store the cost and accuracy lists\n",
    "    train_results = {'costo':costo_list, 'accuracy':acc_list} \n",
    "    # Return the dictionary\n",
    "    return train_results"
   ]
  },
  {
   "cell_type": "code",
   "execution_count": 19,
   "metadata": {},
   "outputs": [],
   "source": [
    "# Set the number of hidden units for the first and second hidden layers\n",
    "hidden1 = 256 \n",
    "hidden = 256\n",
    "# Set the learning rate for the optimizer\n",
    "lr = 5e-4\n",
    "# Set the number of epochs for training\n",
    "epochs = 7\n",
    "\n",
    "# Define a model as a sequential neural network with two parts:\n",
    "# The first part is the model_aux, which is a copy of the ResNet-18 model without the last two layers\n",
    "# The second part is a linear layer that maps the 512-dimensional feature vector from the model_aux to 10 classes\n",
    "model1 = nn.Sequential(model_aux,\n",
    "                       nn.Flatten(), \n",
    "                       nn.Linear(in_features=512, out_features= 10, bias= True))\n",
    "# Define an optimizer as Adam with the given learning rate and betas\n",
    "optimiser = torch.optim.Adam(model1.parameters(), lr=lr, betas=(0.9, 0.999))"
   ]
  },
  {
   "cell_type": "code",
   "execution_count": 20,
   "metadata": {
    "scrolled": true
   },
   "outputs": [
    {
     "data": {
      "text/plain": [
       "Sequential(\n",
       "  (0): Sequential(\n",
       "    (0): Conv2d(3, 64, kernel_size=(7, 7), stride=(2, 2), padding=(3, 3), bias=False)\n",
       "    (1): BatchNorm2d(64, eps=1e-05, momentum=0.1, affine=True, track_running_stats=True)\n",
       "    (2): ReLU(inplace=True)\n",
       "    (3): MaxPool2d(kernel_size=3, stride=2, padding=1, dilation=1, ceil_mode=False)\n",
       "    (4): Sequential(\n",
       "      (0): BasicBlock(\n",
       "        (conv1): Conv2d(64, 64, kernel_size=(3, 3), stride=(1, 1), padding=(1, 1), bias=False)\n",
       "        (bn1): BatchNorm2d(64, eps=1e-05, momentum=0.1, affine=True, track_running_stats=True)\n",
       "        (relu): ReLU(inplace=True)\n",
       "        (conv2): Conv2d(64, 64, kernel_size=(3, 3), stride=(1, 1), padding=(1, 1), bias=False)\n",
       "        (bn2): BatchNorm2d(64, eps=1e-05, momentum=0.1, affine=True, track_running_stats=True)\n",
       "      )\n",
       "      (1): BasicBlock(\n",
       "        (conv1): Conv2d(64, 64, kernel_size=(3, 3), stride=(1, 1), padding=(1, 1), bias=False)\n",
       "        (bn1): BatchNorm2d(64, eps=1e-05, momentum=0.1, affine=True, track_running_stats=True)\n",
       "        (relu): ReLU(inplace=True)\n",
       "        (conv2): Conv2d(64, 64, kernel_size=(3, 3), stride=(1, 1), padding=(1, 1), bias=False)\n",
       "        (bn2): BatchNorm2d(64, eps=1e-05, momentum=0.1, affine=True, track_running_stats=True)\n",
       "      )\n",
       "    )\n",
       "    (5): Sequential(\n",
       "      (0): BasicBlock(\n",
       "        (conv1): Conv2d(64, 128, kernel_size=(3, 3), stride=(2, 2), padding=(1, 1), bias=False)\n",
       "        (bn1): BatchNorm2d(128, eps=1e-05, momentum=0.1, affine=True, track_running_stats=True)\n",
       "        (relu): ReLU(inplace=True)\n",
       "        (conv2): Conv2d(128, 128, kernel_size=(3, 3), stride=(1, 1), padding=(1, 1), bias=False)\n",
       "        (bn2): BatchNorm2d(128, eps=1e-05, momentum=0.1, affine=True, track_running_stats=True)\n",
       "        (downsample): Sequential(\n",
       "          (0): Conv2d(64, 128, kernel_size=(1, 1), stride=(2, 2), bias=False)\n",
       "          (1): BatchNorm2d(128, eps=1e-05, momentum=0.1, affine=True, track_running_stats=True)\n",
       "        )\n",
       "      )\n",
       "      (1): BasicBlock(\n",
       "        (conv1): Conv2d(128, 128, kernel_size=(3, 3), stride=(1, 1), padding=(1, 1), bias=False)\n",
       "        (bn1): BatchNorm2d(128, eps=1e-05, momentum=0.1, affine=True, track_running_stats=True)\n",
       "        (relu): ReLU(inplace=True)\n",
       "        (conv2): Conv2d(128, 128, kernel_size=(3, 3), stride=(1, 1), padding=(1, 1), bias=False)\n",
       "        (bn2): BatchNorm2d(128, eps=1e-05, momentum=0.1, affine=True, track_running_stats=True)\n",
       "      )\n",
       "    )\n",
       "    (6): Sequential(\n",
       "      (0): BasicBlock(\n",
       "        (conv1): Conv2d(128, 256, kernel_size=(3, 3), stride=(2, 2), padding=(1, 1), bias=False)\n",
       "        (bn1): BatchNorm2d(256, eps=1e-05, momentum=0.1, affine=True, track_running_stats=True)\n",
       "        (relu): ReLU(inplace=True)\n",
       "        (conv2): Conv2d(256, 256, kernel_size=(3, 3), stride=(1, 1), padding=(1, 1), bias=False)\n",
       "        (bn2): BatchNorm2d(256, eps=1e-05, momentum=0.1, affine=True, track_running_stats=True)\n",
       "        (downsample): Sequential(\n",
       "          (0): Conv2d(128, 256, kernel_size=(1, 1), stride=(2, 2), bias=False)\n",
       "          (1): BatchNorm2d(256, eps=1e-05, momentum=0.1, affine=True, track_running_stats=True)\n",
       "        )\n",
       "      )\n",
       "      (1): BasicBlock(\n",
       "        (conv1): Conv2d(256, 256, kernel_size=(3, 3), stride=(1, 1), padding=(1, 1), bias=False)\n",
       "        (bn1): BatchNorm2d(256, eps=1e-05, momentum=0.1, affine=True, track_running_stats=True)\n",
       "        (relu): ReLU(inplace=True)\n",
       "        (conv2): Conv2d(256, 256, kernel_size=(3, 3), stride=(1, 1), padding=(1, 1), bias=False)\n",
       "        (bn2): BatchNorm2d(256, eps=1e-05, momentum=0.1, affine=True, track_running_stats=True)\n",
       "      )\n",
       "    )\n",
       "    (7): Sequential(\n",
       "      (0): BasicBlock(\n",
       "        (conv1): Conv2d(256, 512, kernel_size=(3, 3), stride=(2, 2), padding=(1, 1), bias=False)\n",
       "        (bn1): BatchNorm2d(512, eps=1e-05, momentum=0.1, affine=True, track_running_stats=True)\n",
       "        (relu): ReLU(inplace=True)\n",
       "        (conv2): Conv2d(512, 512, kernel_size=(3, 3), stride=(1, 1), padding=(1, 1), bias=False)\n",
       "        (bn2): BatchNorm2d(512, eps=1e-05, momentum=0.1, affine=True, track_running_stats=True)\n",
       "        (downsample): Sequential(\n",
       "          (0): Conv2d(256, 512, kernel_size=(1, 1), stride=(2, 2), bias=False)\n",
       "          (1): BatchNorm2d(512, eps=1e-05, momentum=0.1, affine=True, track_running_stats=True)\n",
       "        )\n",
       "      )\n",
       "      (1): BasicBlock(\n",
       "        (conv1): Conv2d(512, 512, kernel_size=(3, 3), stride=(1, 1), padding=(1, 1), bias=False)\n",
       "        (bn1): BatchNorm2d(512, eps=1e-05, momentum=0.1, affine=True, track_running_stats=True)\n",
       "        (relu): ReLU(inplace=True)\n",
       "        (conv2): Conv2d(512, 512, kernel_size=(3, 3), stride=(1, 1), padding=(1, 1), bias=False)\n",
       "        (bn2): BatchNorm2d(512, eps=1e-05, momentum=0.1, affine=True, track_running_stats=True)\n",
       "      )\n",
       "    )\n",
       "    (8): AdaptiveAvgPool2d(output_size=(1, 1))\n",
       "  )\n",
       "  (1): Flatten(start_dim=1, end_dim=-1)\n",
       "  (2): Linear(in_features=512, out_features=10, bias=True)\n",
       ")"
      ]
     },
     "execution_count": 20,
     "metadata": {},
     "output_type": "execute_result"
    }
   ],
   "source": [
    "#Display the model\n",
    "model1"
   ]
  },
  {
   "cell_type": "code",
   "execution_count": 21,
   "metadata": {},
   "outputs": [
    {
     "name": "stdout",
     "output_type": "stream",
     "text": [
      "Epoca 0, costo: 1.0364, accuracy: 0.777, minutes training: 1.43\n",
      "Epoca 1, costo: 0.3366, accuracy: 0.787, minutes training: 1.32\n",
      "Epoca 2, costo: 1.283, accuracy: 0.7964, minutes training: 1.34\n",
      "Epoca 3, costo: 0.4666, accuracy: 0.8058, minutes training: 1.33\n",
      "Epoca 4, costo: 0.6536, accuracy: 0.8046, minutes training: 1.34\n",
      "Epoca 5, costo: 0.293, accuracy: 0.8052, minutes training: 1.34\n",
      "Epoca 6, costo: 0.4366, accuracy: 0.8062, minutes training: 1.34\n"
     ]
    }
   ],
   "source": [
    "train_results_resnet18 = train(model1, optimiser, epochs)"
   ]
  },
  {
   "cell_type": "code",
   "execution_count": 22,
   "metadata": {},
   "outputs": [
    {
     "data": {
      "text/plain": [
       "0.8015"
      ]
     },
     "execution_count": 22,
     "metadata": {},
     "output_type": "execute_result"
    }
   ],
   "source": [
    "accuracy(model1, test_loader)"
   ]
  },
  {
   "cell_type": "code",
   "execution_count": 23,
   "metadata": {},
   "outputs": [],
   "source": [
    "def plot_training_results(train_results, y_range=(0,1), model_title=''):\n",
    "\n",
    "    # Convert the cost list to a NumPy array\n",
    "    loss_arr = np.array(train_results['costo'])\n",
    "    # Convert the accuracy list to a NumPy array\n",
    "    acc_arr = np.array(train_results['accuracy'])\n",
    "    \n",
    "    # Plot the cost array with a label 'Cost'\n",
    "    plt.plot(loss_arr, label = 'Cost')\n",
    "    # Plot the accuracy array with a label 'Accuracy'\n",
    "    plt.plot(acc_arr, label = 'Accuracy')\n",
    "    # Create a legend for the plot\n",
    "    plt.legend()\n",
    "    \n",
    "    # Get the current axes object of the plot\n",
    "    axes = plt.gca()\n",
    "    \n",
    "    # Set the lower and upper limits of the y-axis to 0 and 1\n",
    "    axes.set_ylim(y_range[0],y_range[1])\n",
    "    # Set the label of the x-axis to 'Epoch' with a font size of 14\n",
    "    axes.set_xlabel(\"Epoch\", fontsize=14)\n",
    "    # Set the label of the y-axis to 'Cost & Accuracy' with a font size of 14\n",
    "    axes.set_ylabel(\"Cost & Accuracy\", fontsize=14)\n",
    "    # Set the title of the plot to 'Training Results' with a font size of 18\n",
    "    axes.set_title('Training Results '+model_title, fontsize=18)\n",
    "    \n",
    "    # Display the plot on the screen\n",
    "    plt.show()"
   ]
  },
  {
   "cell_type": "code",
   "execution_count": 30,
   "metadata": {},
   "outputs": [
    {
     "data": {
      "image/png": "[encoded data removed]",
      "text/plain": [
       "<Figure size 640x480 with 1 Axes>"
      ]
     },
     "metadata": {},
     "output_type": "display_data"
    }
   ],
   "source": [
    "plot_training_results(train_results_resnet18, y_range=(0,1.5), model_title='ResNet18')"
   ]
  },
  {
   "cell_type": "markdown",
   "metadata": {},
   "source": [
    "# New Models"
   ]
  },
  {
   "cell_type": "markdown",
   "metadata": {},
   "source": [
    "## Alexnet"
   ]
  },
  {
   "cell_type": "markdown",
   "metadata": {},
   "source": [
    "Define a model as a pre-trained AlexNet, which is a deep neural network architecture for image recognition\n",
    "\n",
    "AlexNet was the winner of the ImageNet Large Scale Visual Recognition Challenge in 2012\n",
    "\n",
    "It has five convolutional layers, three max pooling layers, and three fully connected layers"
   ]
  },
  {
   "cell_type": "code",
   "execution_count": 98,
   "metadata": {},
   "outputs": [
    {
     "data": {
      "text/plain": [
       "AlexNet(\n",
       "  (features): Sequential(\n",
       "    (0): Conv2d(3, 64, kernel_size=(11, 11), stride=(4, 4), padding=(2, 2))\n",
       "    (1): ReLU(inplace=True)\n",
       "    (2): MaxPool2d(kernel_size=3, stride=2, padding=0, dilation=1, ceil_mode=False)\n",
       "    (3): Conv2d(64, 192, kernel_size=(5, 5), stride=(1, 1), padding=(2, 2))\n",
       "    (4): ReLU(inplace=True)\n",
       "    (5): MaxPool2d(kernel_size=3, stride=2, padding=0, dilation=1, ceil_mode=False)\n",
       "    (6): Conv2d(192, 384, kernel_size=(3, 3), stride=(1, 1), padding=(1, 1))\n",
       "    (7): ReLU(inplace=True)\n",
       "    (8): Conv2d(384, 256, kernel_size=(3, 3), stride=(1, 1), padding=(1, 1))\n",
       "    (9): ReLU(inplace=True)\n",
       "    (10): Conv2d(256, 256, kernel_size=(3, 3), stride=(1, 1), padding=(1, 1))\n",
       "    (11): ReLU(inplace=True)\n",
       "    (12): MaxPool2d(kernel_size=3, stride=2, padding=0, dilation=1, ceil_mode=False)\n",
       "  )\n",
       "  (avgpool): AdaptiveAvgPool2d(output_size=(6, 6))\n",
       "  (classifier): Sequential(\n",
       "    (0): Dropout(p=0.5, inplace=False)\n",
       "    (1): Linear(in_features=9216, out_features=4096, bias=True)\n",
       "    (2): ReLU(inplace=True)\n",
       "    (3): Dropout(p=0.5, inplace=False)\n",
       "    (4): Linear(in_features=4096, out_features=4096, bias=True)\n",
       "    (5): ReLU(inplace=True)\n",
       "    (6): Linear(in_features=4096, out_features=1000, bias=True)\n",
       "  )\n",
       ")"
      ]
     },
     "execution_count": 98,
     "metadata": {},
     "output_type": "execute_result"
    }
   ],
   "source": [
    "model_alexnet = models.alexnet(weights=True)\n",
    "model_alexnet"
   ]
  },
  {
   "cell_type": "code",
   "execution_count": 99,
   "metadata": {},
   "outputs": [
    {
     "name": "stdout",
     "output_type": "stream",
     "text": [
      "0 torch.Size([64, 3, 11, 11]) True\n",
      "1 torch.Size([64]) True\n",
      "2 torch.Size([192, 64, 5, 5]) True\n",
      "3 torch.Size([192]) True\n",
      "4 torch.Size([384, 192, 3, 3]) True\n",
      "5 torch.Size([384]) True\n",
      "6 torch.Size([256, 384, 3, 3]) True\n",
      "7 torch.Size([256]) True\n",
      "8 torch.Size([256, 256, 3, 3]) True\n",
      "9 torch.Size([256]) True\n",
      "10 torch.Size([4096, 9216]) True\n",
      "11 torch.Size([4096]) True\n",
      "12 torch.Size([4096, 4096]) True\n",
      "13 torch.Size([4096]) True\n",
      "14 torch.Size([1000, 4096]) True\n",
      "15 torch.Size([1000]) True\n"
     ]
    }
   ],
   "source": [
    "# Loop over each parameter of the AlexNet model\n",
    "for i, w in enumerate(model_alexnet.parameters()):\n",
    "    # Print the index, shape, and gradient requirement of the parameter\n",
    "    print(i, w.shape, w.requires_grad)"
   ]
  },
  {
   "cell_type": "markdown",
   "metadata": {},
   "source": [
    "Define a model as a copy of the AlexNet model, but without the last layer\n",
    "\n",
    "The last layer of the AlexNet model is a linear layer that maps the features to 1000 classes"
   ]
  },
  {
   "cell_type": "code",
   "execution_count": 100,
   "metadata": {},
   "outputs": [
    {
     "data": {
      "text/plain": [
       "Sequential(\n",
       "  (0): Sequential(\n",
       "    (0): Conv2d(3, 64, kernel_size=(11, 11), stride=(4, 4), padding=(2, 2))\n",
       "    (1): ReLU(inplace=True)\n",
       "    (2): MaxPool2d(kernel_size=3, stride=2, padding=0, dilation=1, ceil_mode=False)\n",
       "    (3): Conv2d(64, 192, kernel_size=(5, 5), stride=(1, 1), padding=(2, 2))\n",
       "    (4): ReLU(inplace=True)\n",
       "    (5): MaxPool2d(kernel_size=3, stride=2, padding=0, dilation=1, ceil_mode=False)\n",
       "    (6): Conv2d(192, 384, kernel_size=(3, 3), stride=(1, 1), padding=(1, 1))\n",
       "    (7): ReLU(inplace=True)\n",
       "    (8): Conv2d(384, 256, kernel_size=(3, 3), stride=(1, 1), padding=(1, 1))\n",
       "    (9): ReLU(inplace=True)\n",
       "    (10): Conv2d(256, 256, kernel_size=(3, 3), stride=(1, 1), padding=(1, 1))\n",
       "    (11): ReLU(inplace=True)\n",
       "    (12): MaxPool2d(kernel_size=3, stride=2, padding=0, dilation=1, ceil_mode=False)\n",
       "  )\n",
       "  (1): AdaptiveAvgPool2d(output_size=(6, 6))\n",
       "  (2): Sequential(\n",
       "    (0): Dropout(p=0.5, inplace=False)\n",
       "    (1): Linear(in_features=9216, out_features=4096, bias=True)\n",
       "    (2): ReLU(inplace=True)\n",
       "    (3): Dropout(p=0.5, inplace=False)\n",
       "    (4): Linear(in_features=4096, out_features=4096, bias=True)\n",
       "    (5): ReLU(inplace=True)\n",
       "    (6): Linear(in_features=4096, out_features=1000, bias=True)\n",
       "  )\n",
       ")"
      ]
     },
     "execution_count": 100,
     "metadata": {},
     "output_type": "execute_result"
    }
   ],
   "source": [
    "model_alexnet_aux = nn.Sequential(*list(model_alexnet.children()))\n",
    "# Print the model's structure\n",
    "model_alexnet_aux"
   ]
  },
  {
   "cell_type": "code",
   "execution_count": 101,
   "metadata": {},
   "outputs": [],
   "source": [
    "# Loop over each parameter of the model_alexnet_aux\n",
    "for i, parameter in enumerate(model_alexnet_aux.parameters()):\n",
    "    # Set the gradient requirement of the parameter to False\n",
    "    # This means that the parameter will not be updated during the training process\n",
    "    # This is useful when we want to freeze the weights of the pre-trained model and only train the new layers that we add\n",
    "    parameter.requires_grad = False"
   ]
  },
  {
   "cell_type": "code",
   "execution_count": 102,
   "metadata": {
    "scrolled": true
   },
   "outputs": [
    {
     "name": "stdout",
     "output_type": "stream",
     "text": [
      "0 False\n",
      "1 False\n",
      "2 False\n",
      "3 False\n",
      "4 False\n",
      "5 False\n",
      "6 False\n",
      "7 False\n",
      "8 False\n",
      "9 False\n",
      "10 False\n",
      "11 False\n",
      "12 False\n",
      "13 False\n",
      "14 False\n",
      "15 False\n"
     ]
    }
   ],
   "source": [
    "# Display updated parameters\n",
    "for i, parameter in enumerate(model_alexnet_aux.parameters()):\n",
    "    print(i, parameter.requires_grad)"
   ]
  },
  {
   "cell_type": "markdown",
   "metadata": {},
   "source": [
    "##### Remove last layer"
   ]
  },
  {
   "cell_type": "markdown",
   "metadata": {},
   "source": [
    "By removing the last layer, we can use the model as a feature extractor for other tasks"
   ]
  },
  {
   "cell_type": "code",
   "execution_count": 103,
   "metadata": {},
   "outputs": [
    {
     "data": {
      "text/plain": [
       "Sequential(\n",
       "  (0): Dropout(p=0.5, inplace=False)\n",
       "  (1): Linear(in_features=9216, out_features=4096, bias=True)\n",
       "  (2): ReLU(inplace=True)\n",
       "  (3): Dropout(p=0.5, inplace=False)\n",
       "  (4): Linear(in_features=4096, out_features=4096, bias=True)\n",
       "  (5): ReLU(inplace=True)\n",
       "  (6): Linear(in_features=4096, out_features=1000, bias=True)\n",
       ")"
      ]
     },
     "execution_count": 103,
     "metadata": {},
     "output_type": "execute_result"
    }
   ],
   "source": [
    "# Get the last sequential layer\n",
    "alexnet_last_seq = list(model_alexnet_aux.children())[-1]\n",
    "alexnet_last_seq"
   ]
  },
  {
   "cell_type": "code",
   "execution_count": 104,
   "metadata": {},
   "outputs": [
    {
     "data": {
      "text/plain": [
       "Sequential(\n",
       "  (0): Dropout(p=0.5, inplace=False)\n",
       "  (1): Linear(in_features=9216, out_features=4096, bias=True)\n",
       "  (2): ReLU(inplace=True)\n",
       "  (3): Dropout(p=0.5, inplace=False)\n",
       "  (4): Linear(in_features=4096, out_features=4096, bias=True)\n",
       "  (5): ReLU(inplace=True)\n",
       "  (6): Linear(in_features=4096, out_features=10, bias=True)\n",
       ")"
      ]
     },
     "execution_count": 104,
     "metadata": {},
     "output_type": "execute_result"
    }
   ],
   "source": [
    "# Remove the last linear layer\n",
    "alexnet_last_seq = nn.Sequential(\n",
    "                                  *list(alexnet_last_seq.children())[:-1],\n",
    "                                  nn.Linear(in_features=4096, out_features= 10, bias= True))\n",
    "alexnet_last_seq"
   ]
  },
  {
   "cell_type": "code",
   "execution_count": 105,
   "metadata": {},
   "outputs": [
    {
     "data": {
      "text/plain": [
       "Sequential(\n",
       "  (0): Sequential(\n",
       "    (0): Conv2d(3, 64, kernel_size=(11, 11), stride=(4, 4), padding=(2, 2))\n",
       "    (1): ReLU(inplace=True)\n",
       "    (2): MaxPool2d(kernel_size=3, stride=2, padding=0, dilation=1, ceil_mode=False)\n",
       "    (3): Conv2d(64, 192, kernel_size=(5, 5), stride=(1, 1), padding=(2, 2))\n",
       "    (4): ReLU(inplace=True)\n",
       "    (5): MaxPool2d(kernel_size=3, stride=2, padding=0, dilation=1, ceil_mode=False)\n",
       "    (6): Conv2d(192, 384, kernel_size=(3, 3), stride=(1, 1), padding=(1, 1))\n",
       "    (7): ReLU(inplace=True)\n",
       "    (8): Conv2d(384, 256, kernel_size=(3, 3), stride=(1, 1), padding=(1, 1))\n",
       "    (9): ReLU(inplace=True)\n",
       "    (10): Conv2d(256, 256, kernel_size=(3, 3), stride=(1, 1), padding=(1, 1))\n",
       "    (11): ReLU(inplace=True)\n",
       "    (12): MaxPool2d(kernel_size=3, stride=2, padding=0, dilation=1, ceil_mode=False)\n",
       "  )\n",
       "  (1): AdaptiveAvgPool2d(output_size=(6, 6))\n",
       "  (2): Flatten(start_dim=1, end_dim=-1)\n",
       "  (3): Sequential(\n",
       "    (0): Dropout(p=0.5, inplace=False)\n",
       "    (1): Linear(in_features=9216, out_features=4096, bias=True)\n",
       "    (2): ReLU(inplace=True)\n",
       "    (3): Dropout(p=0.5, inplace=False)\n",
       "    (4): Linear(in_features=4096, out_features=4096, bias=True)\n",
       "    (5): ReLU(inplace=True)\n",
       "    (6): Linear(in_features=4096, out_features=10, bias=True)\n",
       "  )\n",
       ")"
      ]
     },
     "execution_count": 105,
     "metadata": {},
     "output_type": "execute_result"
    }
   ],
   "source": [
    "## Replace the last sequential layer with the modified one\n",
    "model_alexnet_10cls = nn.Sequential(*list(model_alexnet_aux.children())[:-1], \n",
    "                                    nn.Flatten(), \n",
    "                                    alexnet_last_seq)\n",
    "model_alexnet_10cls"
   ]
  },
  {
   "cell_type": "code",
   "execution_count": 106,
   "metadata": {},
   "outputs": [
    {
     "name": "stdout",
     "output_type": "stream",
     "text": [
      "0 torch.Size([64, 3, 11, 11]) False\n",
      "1 torch.Size([64]) False\n",
      "2 torch.Size([192, 64, 5, 5]) False\n",
      "3 torch.Size([192]) False\n",
      "4 torch.Size([384, 192, 3, 3]) False\n",
      "5 torch.Size([384]) False\n",
      "6 torch.Size([256, 384, 3, 3]) False\n",
      "7 torch.Size([256]) False\n",
      "8 torch.Size([256, 256, 3, 3]) False\n",
      "9 torch.Size([256]) False\n",
      "10 torch.Size([4096, 9216]) False\n",
      "11 torch.Size([4096]) False\n",
      "12 torch.Size([4096, 4096]) False\n",
      "13 torch.Size([4096]) False\n",
      "14 torch.Size([10, 4096]) True\n",
      "15 torch.Size([10]) True\n"
     ]
    }
   ],
   "source": [
    "# Loop over each parameter of the AlexNet model\n",
    "for i, w in enumerate(model_alexnet_10cls.parameters()):\n",
    "    # Print the index, shape, and gradient requirement of the parameter\n",
    "    print(i, w.shape, w.requires_grad)"
   ]
  },
  {
   "cell_type": "code",
   "execution_count": 108,
   "metadata": {},
   "outputs": [
    {
     "data": {
      "text/plain": [
       "Sequential(\n",
       "  (0): Sequential(\n",
       "    (0): Conv2d(3, 64, kernel_size=(11, 11), stride=(4, 4), padding=(2, 2))\n",
       "    (1): ReLU(inplace=True)\n",
       "    (2): MaxPool2d(kernel_size=3, stride=2, padding=0, dilation=1, ceil_mode=False)\n",
       "    (3): Conv2d(64, 192, kernel_size=(5, 5), stride=(1, 1), padding=(2, 2))\n",
       "    (4): ReLU(inplace=True)\n",
       "    (5): MaxPool2d(kernel_size=3, stride=2, padding=0, dilation=1, ceil_mode=False)\n",
       "    (6): Conv2d(192, 384, kernel_size=(3, 3), stride=(1, 1), padding=(1, 1))\n",
       "    (7): ReLU(inplace=True)\n",
       "    (8): Conv2d(384, 256, kernel_size=(3, 3), stride=(1, 1), padding=(1, 1))\n",
       "    (9): ReLU(inplace=True)\n",
       "    (10): Conv2d(256, 256, kernel_size=(3, 3), stride=(1, 1), padding=(1, 1))\n",
       "    (11): ReLU(inplace=True)\n",
       "    (12): MaxPool2d(kernel_size=3, stride=2, padding=0, dilation=1, ceil_mode=False)\n",
       "  )\n",
       "  (1): AdaptiveAvgPool2d(output_size=(6, 6))\n",
       "  (2): Flatten(start_dim=1, end_dim=-1)\n",
       "  (3): Sequential(\n",
       "    (0): Dropout(p=0.5, inplace=False)\n",
       "    (1): Linear(in_features=9216, out_features=4096, bias=True)\n",
       "    (2): ReLU(inplace=True)\n",
       "    (3): Dropout(p=0.5, inplace=False)\n",
       "    (4): Linear(in_features=4096, out_features=4096, bias=True)\n",
       "    (5): ReLU(inplace=True)\n",
       "    (6): Linear(in_features=4096, out_features=10, bias=True)\n",
       "  )\n",
       ")"
      ]
     },
     "execution_count": 108,
     "metadata": {},
     "output_type": "execute_result"
    }
   ],
   "source": [
    "lr = 5e-4\n",
    "epochs = 7\n",
    "\n",
    "optimiser_alexnet = torch.optim.Adam(model_alexnet_10cls.parameters(), lr=lr, betas=(0.9, 0.999))\n",
    "\n",
    "model_alexnet_10cls"
   ]
  },
  {
   "cell_type": "code",
   "execution_count": 109,
   "metadata": {},
   "outputs": [
    {
     "name": "stdout",
     "output_type": "stream",
     "text": [
      "Epoca 0, costo: 0.5288, accuracy: 0.8058, minutes training: 1.26\n",
      "Epoca 1, costo: 0.2392, accuracy: 0.8166, minutes training: 1.26\n",
      "Epoca 2, costo: 0.1006, accuracy: 0.8312, minutes training: 1.26\n",
      "Epoca 3, costo: 0.6922, accuracy: 0.8304, minutes training: 1.26\n",
      "Epoca 4, costo: 0.2053, accuracy: 0.8336, minutes training: 1.27\n",
      "Epoca 5, costo: 0.2557, accuracy: 0.8382, minutes training: 1.26\n",
      "Epoca 6, costo: 0.1487, accuracy: 0.8342, minutes training: 1.27\n"
     ]
    }
   ],
   "source": [
    "train_results_alexnet = train(model_alexnet_10cls, optimiser_alexnet, epochs)"
   ]
  },
  {
   "cell_type": "code",
   "execution_count": 110,
   "metadata": {},
   "outputs": [
    {
     "data": {
      "text/plain": [
       "0.8269"
      ]
     },
     "execution_count": 110,
     "metadata": {},
     "output_type": "execute_result"
    }
   ],
   "source": [
    "accuracy(model_alexnet_10cls, test_loader)"
   ]
  },
  {
   "cell_type": "code",
   "execution_count": 111,
   "metadata": {},
   "outputs": [
    {
     "data": {
      "image/png": "[encoded data removed]",
      "text/plain": [
       "<Figure size 640x480 with 1 Axes>"
      ]
     },
     "metadata": {},
     "output_type": "display_data"
    }
   ],
   "source": [
    "plot_training_results(train_results_alexnet, y_range=(0,1), model_title='AlexNet')"
   ]
  },
  {
   "cell_type": "markdown",
   "metadata": {},
   "source": [
    "## VGG16"
   ]
  },
  {
   "cell_type": "code",
   "execution_count": 112,
   "metadata": {},
   "outputs": [
    {
     "name": "stderr",
     "output_type": "stream",
     "text": [
      "C:\\Users\\fgarcia24\\Anaconda3\\envs\\mna\\lib\\site-packages\\torchvision\\models\\_utils.py:223: UserWarning: Arguments other than a weight enum or `None` for 'weights' are deprecated since 0.13 and may be removed in the future. The current behavior is equivalent to passing `weights=VGG16_Weights.IMAGENET1K_V1`. You can also use `weights=VGG16_Weights.DEFAULT` to get the most up-to-date weights.\n",
      "  warnings.warn(msg)\n"
     ]
    }
   ],
   "source": [
    "model_vgg16 = models.vgg16(weights=True)"
   ]
  },
  {
   "cell_type": "code",
   "execution_count": 113,
   "metadata": {},
   "outputs": [
    {
     "name": "stdout",
     "output_type": "stream",
     "text": [
      "0 torch.Size([64, 3, 3, 3]) True\n",
      "1 torch.Size([64]) True\n",
      "2 torch.Size([64, 64, 3, 3]) True\n",
      "3 torch.Size([64]) True\n",
      "4 torch.Size([128, 64, 3, 3]) True\n",
      "5 torch.Size([128]) True\n",
      "6 torch.Size([128, 128, 3, 3]) True\n",
      "7 torch.Size([128]) True\n",
      "8 torch.Size([256, 128, 3, 3]) True\n",
      "9 torch.Size([256]) True\n",
      "10 torch.Size([256, 256, 3, 3]) True\n",
      "11 torch.Size([256]) True\n",
      "12 torch.Size([256, 256, 3, 3]) True\n",
      "13 torch.Size([256]) True\n",
      "14 torch.Size([512, 256, 3, 3]) True\n",
      "15 torch.Size([512]) True\n",
      "16 torch.Size([512, 512, 3, 3]) True\n",
      "17 torch.Size([512]) True\n",
      "18 torch.Size([512, 512, 3, 3]) True\n",
      "19 torch.Size([512]) True\n",
      "20 torch.Size([512, 512, 3, 3]) True\n",
      "21 torch.Size([512]) True\n",
      "22 torch.Size([512, 512, 3, 3]) True\n",
      "23 torch.Size([512]) True\n",
      "24 torch.Size([512, 512, 3, 3]) True\n",
      "25 torch.Size([512]) True\n",
      "26 torch.Size([4096, 25088]) True\n",
      "27 torch.Size([4096]) True\n",
      "28 torch.Size([4096, 4096]) True\n",
      "29 torch.Size([4096]) True\n",
      "30 torch.Size([1000, 4096]) True\n",
      "31 torch.Size([1000]) True\n"
     ]
    }
   ],
   "source": [
    "for i, w in enumerate(model_vgg16.parameters()):\n",
    "    print(i, w.shape, w.requires_grad)"
   ]
  },
  {
   "cell_type": "code",
   "execution_count": 114,
   "metadata": {},
   "outputs": [
    {
     "data": {
      "text/plain": [
       "Sequential(\n",
       "  (0): Sequential(\n",
       "    (0): Conv2d(3, 64, kernel_size=(3, 3), stride=(1, 1), padding=(1, 1))\n",
       "    (1): ReLU(inplace=True)\n",
       "    (2): Conv2d(64, 64, kernel_size=(3, 3), stride=(1, 1), padding=(1, 1))\n",
       "    (3): ReLU(inplace=True)\n",
       "    (4): MaxPool2d(kernel_size=2, stride=2, padding=0, dilation=1, ceil_mode=False)\n",
       "    (5): Conv2d(64, 128, kernel_size=(3, 3), stride=(1, 1), padding=(1, 1))\n",
       "    (6): ReLU(inplace=True)\n",
       "    (7): Conv2d(128, 128, kernel_size=(3, 3), stride=(1, 1), padding=(1, 1))\n",
       "    (8): ReLU(inplace=True)\n",
       "    (9): MaxPool2d(kernel_size=2, stride=2, padding=0, dilation=1, ceil_mode=False)\n",
       "    (10): Conv2d(128, 256, kernel_size=(3, 3), stride=(1, 1), padding=(1, 1))\n",
       "    (11): ReLU(inplace=True)\n",
       "    (12): Conv2d(256, 256, kernel_size=(3, 3), stride=(1, 1), padding=(1, 1))\n",
       "    (13): ReLU(inplace=True)\n",
       "    (14): Conv2d(256, 256, kernel_size=(3, 3), stride=(1, 1), padding=(1, 1))\n",
       "    (15): ReLU(inplace=True)\n",
       "    (16): MaxPool2d(kernel_size=2, stride=2, padding=0, dilation=1, ceil_mode=False)\n",
       "    (17): Conv2d(256, 512, kernel_size=(3, 3), stride=(1, 1), padding=(1, 1))\n",
       "    (18): ReLU(inplace=True)\n",
       "    (19): Conv2d(512, 512, kernel_size=(3, 3), stride=(1, 1), padding=(1, 1))\n",
       "    (20): ReLU(inplace=True)\n",
       "    (21): Conv2d(512, 512, kernel_size=(3, 3), stride=(1, 1), padding=(1, 1))\n",
       "    (22): ReLU(inplace=True)\n",
       "    (23): MaxPool2d(kernel_size=2, stride=2, padding=0, dilation=1, ceil_mode=False)\n",
       "    (24): Conv2d(512, 512, kernel_size=(3, 3), stride=(1, 1), padding=(1, 1))\n",
       "    (25): ReLU(inplace=True)\n",
       "    (26): Conv2d(512, 512, kernel_size=(3, 3), stride=(1, 1), padding=(1, 1))\n",
       "    (27): ReLU(inplace=True)\n",
       "    (28): Conv2d(512, 512, kernel_size=(3, 3), stride=(1, 1), padding=(1, 1))\n",
       "    (29): ReLU(inplace=True)\n",
       "    (30): MaxPool2d(kernel_size=2, stride=2, padding=0, dilation=1, ceil_mode=False)\n",
       "  )\n",
       "  (1): AdaptiveAvgPool2d(output_size=(7, 7))\n",
       "  (2): Sequential(\n",
       "    (0): Linear(in_features=25088, out_features=4096, bias=True)\n",
       "    (1): ReLU(inplace=True)\n",
       "    (2): Dropout(p=0.5, inplace=False)\n",
       "    (3): Linear(in_features=4096, out_features=4096, bias=True)\n",
       "    (4): ReLU(inplace=True)\n",
       "    (5): Dropout(p=0.5, inplace=False)\n",
       "    (6): Linear(in_features=4096, out_features=1000, bias=True)\n",
       "  )\n",
       ")"
      ]
     },
     "execution_count": 114,
     "metadata": {},
     "output_type": "execute_result"
    }
   ],
   "source": [
    "model_vgg16_aux = nn.Sequential(*list(model_vgg16.children()))\n",
    "model_vgg16_aux"
   ]
  },
  {
   "cell_type": "code",
   "execution_count": 115,
   "metadata": {},
   "outputs": [],
   "source": [
    "for i, parameter in enumerate(model_vgg16_aux.parameters()):\n",
    "    parameter.requires_grad = False"
   ]
  },
  {
   "cell_type": "code",
   "execution_count": 116,
   "metadata": {},
   "outputs": [
    {
     "name": "stdout",
     "output_type": "stream",
     "text": [
      "0 False\n",
      "1 False\n",
      "2 False\n",
      "3 False\n",
      "4 False\n",
      "5 False\n",
      "6 False\n",
      "7 False\n",
      "8 False\n",
      "9 False\n",
      "10 False\n",
      "11 False\n",
      "12 False\n",
      "13 False\n",
      "14 False\n",
      "15 False\n",
      "16 False\n",
      "17 False\n",
      "18 False\n",
      "19 False\n",
      "20 False\n",
      "21 False\n",
      "22 False\n",
      "23 False\n",
      "24 False\n",
      "25 False\n",
      "26 False\n",
      "27 False\n",
      "28 False\n",
      "29 False\n",
      "30 False\n",
      "31 False\n"
     ]
    }
   ],
   "source": [
    "for i, parameter in enumerate(model_vgg16_aux.parameters()):\n",
    "    print(i, parameter.requires_grad)"
   ]
  },
  {
   "cell_type": "code",
   "execution_count": 117,
   "metadata": {},
   "outputs": [
    {
     "data": {
      "text/plain": [
       "Sequential(\n",
       "  (0): Linear(in_features=25088, out_features=4096, bias=True)\n",
       "  (1): ReLU(inplace=True)\n",
       "  (2): Dropout(p=0.5, inplace=False)\n",
       "  (3): Linear(in_features=4096, out_features=4096, bias=True)\n",
       "  (4): ReLU(inplace=True)\n",
       "  (5): Dropout(p=0.5, inplace=False)\n",
       "  (6): Linear(in_features=4096, out_features=1000, bias=True)\n",
       ")"
      ]
     },
     "execution_count": 117,
     "metadata": {},
     "output_type": "execute_result"
    }
   ],
   "source": [
    "# Get the last sequential layer\n",
    "vgg16_last_seq = list(model_vgg16_aux.children())[-1]\n",
    "vgg16_last_seq"
   ]
  },
  {
   "cell_type": "code",
   "execution_count": 118,
   "metadata": {},
   "outputs": [
    {
     "data": {
      "text/plain": [
       "Sequential(\n",
       "  (0): Linear(in_features=25088, out_features=4096, bias=True)\n",
       "  (1): ReLU(inplace=True)\n",
       "  (2): Dropout(p=0.5, inplace=False)\n",
       "  (3): Linear(in_features=4096, out_features=4096, bias=True)\n",
       "  (4): ReLU(inplace=True)\n",
       "  (5): Dropout(p=0.5, inplace=False)\n",
       "  (6): Linear(in_features=4096, out_features=10, bias=True)\n",
       ")"
      ]
     },
     "execution_count": 118,
     "metadata": {},
     "output_type": "execute_result"
    }
   ],
   "source": [
    "# Remove the last linear layer\n",
    "vgg16_last_seq = nn.Sequential(\n",
    "                                  *list(vgg16_last_seq.children())[:-1],\n",
    "                                  nn.Linear(in_features=4096, out_features= 10, bias= True))\n",
    "vgg16_last_seq"
   ]
  },
  {
   "cell_type": "code",
   "execution_count": 119,
   "metadata": {},
   "outputs": [
    {
     "data": {
      "text/plain": [
       "Sequential(\n",
       "  (0): Sequential(\n",
       "    (0): Conv2d(3, 64, kernel_size=(3, 3), stride=(1, 1), padding=(1, 1))\n",
       "    (1): ReLU(inplace=True)\n",
       "    (2): Conv2d(64, 64, kernel_size=(3, 3), stride=(1, 1), padding=(1, 1))\n",
       "    (3): ReLU(inplace=True)\n",
       "    (4): MaxPool2d(kernel_size=2, stride=2, padding=0, dilation=1, ceil_mode=False)\n",
       "    (5): Conv2d(64, 128, kernel_size=(3, 3), stride=(1, 1), padding=(1, 1))\n",
       "    (6): ReLU(inplace=True)\n",
       "    (7): Conv2d(128, 128, kernel_size=(3, 3), stride=(1, 1), padding=(1, 1))\n",
       "    (8): ReLU(inplace=True)\n",
       "    (9): MaxPool2d(kernel_size=2, stride=2, padding=0, dilation=1, ceil_mode=False)\n",
       "    (10): Conv2d(128, 256, kernel_size=(3, 3), stride=(1, 1), padding=(1, 1))\n",
       "    (11): ReLU(inplace=True)\n",
       "    (12): Conv2d(256, 256, kernel_size=(3, 3), stride=(1, 1), padding=(1, 1))\n",
       "    (13): ReLU(inplace=True)\n",
       "    (14): Conv2d(256, 256, kernel_size=(3, 3), stride=(1, 1), padding=(1, 1))\n",
       "    (15): ReLU(inplace=True)\n",
       "    (16): MaxPool2d(kernel_size=2, stride=2, padding=0, dilation=1, ceil_mode=False)\n",
       "    (17): Conv2d(256, 512, kernel_size=(3, 3), stride=(1, 1), padding=(1, 1))\n",
       "    (18): ReLU(inplace=True)\n",
       "    (19): Conv2d(512, 512, kernel_size=(3, 3), stride=(1, 1), padding=(1, 1))\n",
       "    (20): ReLU(inplace=True)\n",
       "    (21): Conv2d(512, 512, kernel_size=(3, 3), stride=(1, 1), padding=(1, 1))\n",
       "    (22): ReLU(inplace=True)\n",
       "    (23): MaxPool2d(kernel_size=2, stride=2, padding=0, dilation=1, ceil_mode=False)\n",
       "    (24): Conv2d(512, 512, kernel_size=(3, 3), stride=(1, 1), padding=(1, 1))\n",
       "    (25): ReLU(inplace=True)\n",
       "    (26): Conv2d(512, 512, kernel_size=(3, 3), stride=(1, 1), padding=(1, 1))\n",
       "    (27): ReLU(inplace=True)\n",
       "    (28): Conv2d(512, 512, kernel_size=(3, 3), stride=(1, 1), padding=(1, 1))\n",
       "    (29): ReLU(inplace=True)\n",
       "    (30): MaxPool2d(kernel_size=2, stride=2, padding=0, dilation=1, ceil_mode=False)\n",
       "  )\n",
       "  (1): AdaptiveAvgPool2d(output_size=(7, 7))\n",
       "  (2): Flatten(start_dim=1, end_dim=-1)\n",
       "  (3): Sequential(\n",
       "    (0): Linear(in_features=25088, out_features=4096, bias=True)\n",
       "    (1): ReLU(inplace=True)\n",
       "    (2): Dropout(p=0.5, inplace=False)\n",
       "    (3): Linear(in_features=4096, out_features=4096, bias=True)\n",
       "    (4): ReLU(inplace=True)\n",
       "    (5): Dropout(p=0.5, inplace=False)\n",
       "    (6): Linear(in_features=4096, out_features=10, bias=True)\n",
       "  )\n",
       ")"
      ]
     },
     "execution_count": 119,
     "metadata": {},
     "output_type": "execute_result"
    }
   ],
   "source": [
    "## Replace the last sequential layer with the modified one\n",
    "model_vgg16_10cls = nn.Sequential(*list(model_vgg16_aux.children())[:-1], \n",
    "                                    nn.Flatten(), \n",
    "                                    vgg16_last_seq)\n",
    "model_vgg16_10cls"
   ]
  },
  {
   "cell_type": "code",
   "execution_count": 120,
   "metadata": {},
   "outputs": [
    {
     "name": "stdout",
     "output_type": "stream",
     "text": [
      "0 torch.Size([64, 3, 3, 3]) False\n",
      "1 torch.Size([64]) False\n",
      "2 torch.Size([64, 64, 3, 3]) False\n",
      "3 torch.Size([64]) False\n",
      "4 torch.Size([128, 64, 3, 3]) False\n",
      "5 torch.Size([128]) False\n",
      "6 torch.Size([128, 128, 3, 3]) False\n",
      "7 torch.Size([128]) False\n",
      "8 torch.Size([256, 128, 3, 3]) False\n",
      "9 torch.Size([256]) False\n",
      "10 torch.Size([256, 256, 3, 3]) False\n",
      "11 torch.Size([256]) False\n",
      "12 torch.Size([256, 256, 3, 3]) False\n",
      "13 torch.Size([256]) False\n",
      "14 torch.Size([512, 256, 3, 3]) False\n",
      "15 torch.Size([512]) False\n",
      "16 torch.Size([512, 512, 3, 3]) False\n",
      "17 torch.Size([512]) False\n",
      "18 torch.Size([512, 512, 3, 3]) False\n",
      "19 torch.Size([512]) False\n",
      "20 torch.Size([512, 512, 3, 3]) False\n",
      "21 torch.Size([512]) False\n",
      "22 torch.Size([512, 512, 3, 3]) False\n",
      "23 torch.Size([512]) False\n",
      "24 torch.Size([512, 512, 3, 3]) False\n",
      "25 torch.Size([512]) False\n",
      "26 torch.Size([4096, 25088]) False\n",
      "27 torch.Size([4096]) False\n",
      "28 torch.Size([4096, 4096]) False\n",
      "29 torch.Size([4096]) False\n",
      "30 torch.Size([10, 4096]) True\n",
      "31 torch.Size([10]) True\n"
     ]
    }
   ],
   "source": [
    "# Loop over each parameter of the AlexNet model\n",
    "for i, w in enumerate(model_vgg16_10cls.parameters()):\n",
    "    # Print the index, shape, and gradient requirement of the parameter\n",
    "    print(i, w.shape, w.requires_grad)"
   ]
  },
  {
   "cell_type": "code",
   "execution_count": 121,
   "metadata": {},
   "outputs": [],
   "source": [
    "lr = 5e-4\n",
    "epochs = 7\n",
    "\n",
    "optimiser_vgg16= torch.optim.Adam(model_vgg16_10cls.parameters(), lr=lr, betas=(0.9, 0.999))"
   ]
  },
  {
   "cell_type": "code",
   "execution_count": 122,
   "metadata": {},
   "outputs": [
    {
     "name": "stdout",
     "output_type": "stream",
     "text": [
      "Epoca 0, costo: 1.6757, accuracy: 0.828, minutes training: 2.24\n",
      "Epoca 1, costo: 0.4324, accuracy: 0.8374, minutes training: 2.34\n",
      "Epoca 2, costo: 0.6469, accuracy: 0.8462, minutes training: 2.28\n",
      "Epoca 3, costo: 0.7558, accuracy: 0.8534, minutes training: 2.32\n",
      "Epoca 4, costo: 0.2016, accuracy: 0.8528, minutes training: 2.4\n",
      "Epoca 5, costo: 0.4071, accuracy: 0.8536, minutes training: 2.41\n",
      "Epoca 6, costo: 0.5759, accuracy: 0.8532, minutes training: 2.44\n"
     ]
    }
   ],
   "source": [
    "train_results_vgg16 = train(model_vgg16_10cls, optimiser_vgg16, epochs)"
   ]
  },
  {
   "cell_type": "code",
   "execution_count": 123,
   "metadata": {},
   "outputs": [
    {
     "data": {
      "text/plain": [
       "0.839"
      ]
     },
     "execution_count": 123,
     "metadata": {},
     "output_type": "execute_result"
    }
   ],
   "source": [
    "accuracy(model_vgg16_10cls, test_loader)"
   ]
  },
  {
   "cell_type": "code",
   "execution_count": 124,
   "metadata": {},
   "outputs": [
    {
     "data": {
      "image/png": "[encoded data removed]",
      "text/plain": [
       "<Figure size 640x480 with 1 Axes>"
      ]
     },
     "metadata": {},
     "output_type": "display_data"
    }
   ],
   "source": [
    "plot_training_results(train_results_alexnet, y_range=(0,1.5), model_title='VGG16')"
   ]
  },
  {
   "cell_type": "markdown",
   "metadata": {},
   "source": [
    "### **Summary of Using Pre-trained Models on CIFAR-10**:\n",
    "\n",
    "------\n",
    "\n",
    "#### **CIFAR-10 Dataset**:\n",
    "\n",
    "The CIFAR-10 dataset consists of 60,000 32x32 color images in 10 different classes, with 6,000 images per class. There are 50,000 training images and 10,000 test images.\n",
    "\n",
    "#### **Advantages of Using Pre-trained Models**:\n",
    "\n",
    "Using pre-trained models, especially ones trained on large datasets like ImageNet, is a powerful method in deep learning known as **transfer learning**. These models already understand a significant portion of the visual world and can be fine-tuned to specific tasks.\n",
    "\n",
    "Benefits include:\n",
    "\n",
    "- **Speed**: Significantly faster training.\n",
    "- **Less Data**: Particularly beneficial if the new dataset is small.\n",
    "- **Improved Performance**: Features learned from a large dataset can generalize well to other tasks.\n",
    "\n",
    "#### **Model Descriptions**:\n",
    "\n",
    "1. **ResNet-18**: Part of the ResNet family, which uses \"residual learning\" to train very deep networks by using skip connections or shortcuts to jump over some layers. It particularly has 18 layers and is known for its efficiency and performance.\n",
    "\n",
    "```\n",
    "markdown\n",
    "model_resnet18 = models.resnet18(weights=True)\n",
    "```\n",
    "\n",
    "1. **AlexNet**: Historically significant as it was the winner of the ImageNet competition in 2012. It has 5 convolutional layers followed by 3 fully connected layers.\n",
    "\n",
    "```\n",
    "markdown\n",
    "model_alexnet = models.alexnet(weights=True)\n",
    "```\n",
    "\n",
    "1. **VGG-16**: Known for its simplicity and uniform architecture. It contains 16 layers with weights, consisting of only convolutional and fully connected layers.\n",
    "\n",
    "```\n",
    "markdown\n",
    "# Assume model initialization similar to above models.\n",
    "```\n",
    "\n",
    "#### **Challenges and Solutions**:\n",
    "\n",
    "1. **Model Adaptation for CIFAR-10**:\n",
    "   - Pretrained models are designed for ImageNet (1,000 classes, 224x224 images). CIFAR-10 has only 10 classes and 32x32 images.\n",
    "   - Solution: Removing the last layer (which classifies among 1,000 classes) and appending a new layer that classifies among 10 classes.\n",
    "2. **Modifying Only the Last Layer**:\n",
    "   - Challenge: PyTorch models are divided into blocks, making layer-specific modifications tricky.\n",
    "   - Solution:\n",
    "     1. Modify the last classification block.\n",
    "     2. Append it back to the original model.\n",
    "\n",
    "------\n",
    "\n",
    "#### **Results**:\n",
    "\n",
    "- **ResNet-18**: Achieved an accuracy of approximately 80.15% on the CIFAR-10 test set.\n",
    "- **AlexNet**: Achieved an accuracy of around 82.69% on the test set.\n",
    "- **VGG-16**: Achieved an accuracy of around 83.9% on the test set.\n",
    "\n",
    "------\n",
    "\n",
    "### **Concluding Thoughts**:\n",
    "\n",
    "Transfer learning using pre-trained models on the CIFAR-10 dataset demonstrated significant advantages, showcasing the power of leveraging features from large-scale datasets. While there are challenges, especially in model adaptation, the results underscore the potential of this approach in diverse tasks in computer vision."
   ]
  },
  {
   "cell_type": "markdown",
   "metadata": {},
   "source": []
  }
 ],
 "metadata": {
  "kernelspec": {
   "display_name": "Python 3 (ipykernel)",
   "language": "python",
   "name": "python3"
  },
  "language_info": {
   "codemirror_mode": {
    "name": "ipython",
    "version": 3
   },
   "file_extension": ".py",
   "mimetype": "text/x-python",
   "name": "python",
   "nbconvert_exporter": "python",
   "pygments_lexer": "ipython3",
   "version": "3.9.16"
  },
  "toc": {
   "base_numbering": 1,
   "nav_menu": {},
   "number_sections": true,
   "sideBar": true,
   "skip_h1_title": false,
   "title_cell": "Table of Contents",
   "title_sidebar": "Contents",
   "toc_cell": false,
   "toc_position": {},
   "toc_section_display": true,
   "toc_window_display": false
  },
  "varInspector": {
   "cols": {
    "lenName": 16,
    "lenType": 16,
    "lenVar": 40
   },
   "kernels_config": {
    "python": {
     "delete_cmd_postfix": "",
     "delete_cmd_prefix": "del ",
     "library": "var_list.py",
     "varRefreshCmd": "print(var_dic_list())"
    },
    "r": {
     "delete_cmd_postfix": ") ",
     "delete_cmd_prefix": "rm(",
     "library": "var_list.r",
     "varRefreshCmd": "cat(var_dic_list()) "
    }
   },
   "types_to_exclude": [
    "module",
    "function",
    "builtin_function_or_method",
    "instance",
    "_Feature"
   ],
   "window_display": false
  }
 },
 "nbformat": 4,
 "nbformat_minor": 4
}
